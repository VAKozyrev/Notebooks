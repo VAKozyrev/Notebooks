{
  "cells": [
    {
      "cell_type": "markdown",
      "source": [
        "#0. Importing libraries"
      ],
      "metadata": {
        "id": "eP9ozxOEgn1X"
      },
      "id": "eP9ozxOEgn1X"
    },
    {
      "cell_type": "code",
      "execution_count": 1,
      "id": "e64b998c-922d-4857-9b21-99a4f59fef50",
      "metadata": {
        "colab": {
          "base_uri": "https://localhost:8080/"
        },
        "id": "e64b998c-922d-4857-9b21-99a4f59fef50",
        "outputId": "02c9fc78-03d3-4c1a-f858-29ea2cdfefc0"
      },
      "outputs": [
        {
          "output_type": "stream",
          "name": "stdout",
          "text": [
            "Requirement already satisfied: chembl_webresource_client in /usr/local/lib/python3.10/dist-packages (0.10.8)\n",
            "Requirement already satisfied: urllib3 in /usr/local/lib/python3.10/dist-packages (from chembl_webresource_client) (2.0.6)\n",
            "Requirement already satisfied: requests>=2.18.4 in /usr/local/lib/python3.10/dist-packages (from chembl_webresource_client) (2.31.0)\n",
            "Requirement already satisfied: requests-cache~=0.7.0 in /usr/local/lib/python3.10/dist-packages (from chembl_webresource_client) (0.7.5)\n",
            "Requirement already satisfied: easydict in /usr/local/lib/python3.10/dist-packages (from chembl_webresource_client) (1.10)\n",
            "Requirement already satisfied: charset-normalizer<4,>=2 in /usr/local/lib/python3.10/dist-packages (from requests>=2.18.4->chembl_webresource_client) (3.3.0)\n",
            "Requirement already satisfied: idna<4,>=2.5 in /usr/local/lib/python3.10/dist-packages (from requests>=2.18.4->chembl_webresource_client) (3.4)\n",
            "Requirement already satisfied: certifi>=2017.4.17 in /usr/local/lib/python3.10/dist-packages (from requests>=2.18.4->chembl_webresource_client) (2023.7.22)\n",
            "Collecting attrs<22.0,>=21.2 (from requests-cache~=0.7.0->chembl_webresource_client)\n",
            "  Using cached attrs-21.4.0-py2.py3-none-any.whl (60 kB)\n",
            "Requirement already satisfied: itsdangerous>=2.0.1 in /usr/local/lib/python3.10/dist-packages (from requests-cache~=0.7.0->chembl_webresource_client) (2.1.2)\n",
            "Requirement already satisfied: pyyaml>=5.4 in /usr/local/lib/python3.10/dist-packages (from requests-cache~=0.7.0->chembl_webresource_client) (6.0.1)\n",
            "Requirement already satisfied: url-normalize<2.0,>=1.4 in /usr/local/lib/python3.10/dist-packages (from requests-cache~=0.7.0->chembl_webresource_client) (1.4.3)\n",
            "Requirement already satisfied: six in /usr/local/lib/python3.10/dist-packages (from url-normalize<2.0,>=1.4->requests-cache~=0.7.0->chembl_webresource_client) (1.16.0)\n",
            "Installing collected packages: attrs\n",
            "  Attempting uninstall: attrs\n",
            "    Found existing installation: attrs 23.1.0\n",
            "    Uninstalling attrs-23.1.0:\n",
            "      Successfully uninstalled attrs-23.1.0\n",
            "\u001b[31mERROR: pip's dependency resolver does not currently take into account all the packages that are installed. This behaviour is the source of the following dependency conflicts.\n",
            "jsonschema 4.19.1 requires attrs>=22.2.0, but you have attrs 21.4.0 which is incompatible.\n",
            "referencing 0.30.2 requires attrs>=22.2.0, but you have attrs 21.4.0 which is incompatible.\u001b[0m\u001b[31m\n",
            "\u001b[0mSuccessfully installed attrs-21.4.0\n",
            "Requirement already satisfied: rdkit in /usr/local/lib/python3.10/dist-packages (2023.3.3)\n",
            "Requirement already satisfied: numpy in /usr/local/lib/python3.10/dist-packages (from rdkit) (1.23.5)\n",
            "Requirement already satisfied: Pillow in /usr/local/lib/python3.10/dist-packages (from rdkit) (9.4.0)\n",
            "Requirement already satisfied: mols2grid in /usr/local/lib/python3.10/dist-packages (2.0.0)\n",
            "Requirement already satisfied: ipywidgets<8,>=7 in /usr/local/lib/python3.10/dist-packages (from mols2grid) (7.7.1)\n",
            "Requirement already satisfied: jinja2>=2.11.0 in /usr/local/lib/python3.10/dist-packages (from mols2grid) (3.1.2)\n",
            "Requirement already satisfied: numpy in /usr/local/lib/python3.10/dist-packages (from mols2grid) (1.23.5)\n",
            "Requirement already satisfied: pandas in /usr/local/lib/python3.10/dist-packages (from mols2grid) (1.5.3)\n",
            "Requirement already satisfied: ipykernel>=4.5.1 in /usr/local/lib/python3.10/dist-packages (from ipywidgets<8,>=7->mols2grid) (5.5.6)\n",
            "Requirement already satisfied: ipython-genutils~=0.2.0 in /usr/local/lib/python3.10/dist-packages (from ipywidgets<8,>=7->mols2grid) (0.2.0)\n",
            "Requirement already satisfied: traitlets>=4.3.1 in /usr/local/lib/python3.10/dist-packages (from ipywidgets<8,>=7->mols2grid) (5.7.1)\n",
            "Requirement already satisfied: widgetsnbextension~=3.6.0 in /usr/local/lib/python3.10/dist-packages (from ipywidgets<8,>=7->mols2grid) (3.6.6)\n",
            "Requirement already satisfied: ipython>=4.0.0 in /usr/local/lib/python3.10/dist-packages (from ipywidgets<8,>=7->mols2grid) (7.34.0)\n",
            "Requirement already satisfied: jupyterlab-widgets>=1.0.0 in /usr/local/lib/python3.10/dist-packages (from ipywidgets<8,>=7->mols2grid) (3.0.9)\n",
            "Requirement already satisfied: MarkupSafe>=2.0 in /usr/local/lib/python3.10/dist-packages (from jinja2>=2.11.0->mols2grid) (2.1.3)\n",
            "Requirement already satisfied: python-dateutil>=2.8.1 in /usr/local/lib/python3.10/dist-packages (from pandas->mols2grid) (2.8.2)\n",
            "Requirement already satisfied: pytz>=2020.1 in /usr/local/lib/python3.10/dist-packages (from pandas->mols2grid) (2023.3.post1)\n",
            "Requirement already satisfied: jupyter-client in /usr/local/lib/python3.10/dist-packages (from ipykernel>=4.5.1->ipywidgets<8,>=7->mols2grid) (6.1.12)\n",
            "Requirement already satisfied: tornado>=4.2 in /usr/local/lib/python3.10/dist-packages (from ipykernel>=4.5.1->ipywidgets<8,>=7->mols2grid) (6.3.2)\n",
            "Requirement already satisfied: setuptools>=18.5 in /usr/local/lib/python3.10/dist-packages (from ipython>=4.0.0->ipywidgets<8,>=7->mols2grid) (67.7.2)\n",
            "Requirement already satisfied: jedi>=0.16 in /usr/local/lib/python3.10/dist-packages (from ipython>=4.0.0->ipywidgets<8,>=7->mols2grid) (0.19.1)\n",
            "Requirement already satisfied: decorator in /usr/local/lib/python3.10/dist-packages (from ipython>=4.0.0->ipywidgets<8,>=7->mols2grid) (4.4.2)\n",
            "Requirement already satisfied: pickleshare in /usr/local/lib/python3.10/dist-packages (from ipython>=4.0.0->ipywidgets<8,>=7->mols2grid) (0.7.5)\n",
            "Requirement already satisfied: prompt-toolkit!=3.0.0,!=3.0.1,<3.1.0,>=2.0.0 in /usr/local/lib/python3.10/dist-packages (from ipython>=4.0.0->ipywidgets<8,>=7->mols2grid) (3.0.39)\n",
            "Requirement already satisfied: pygments in /usr/local/lib/python3.10/dist-packages (from ipython>=4.0.0->ipywidgets<8,>=7->mols2grid) (2.16.1)\n",
            "Requirement already satisfied: backcall in /usr/local/lib/python3.10/dist-packages (from ipython>=4.0.0->ipywidgets<8,>=7->mols2grid) (0.2.0)\n",
            "Requirement already satisfied: matplotlib-inline in /usr/local/lib/python3.10/dist-packages (from ipython>=4.0.0->ipywidgets<8,>=7->mols2grid) (0.1.6)\n",
            "Requirement already satisfied: pexpect>4.3 in /usr/local/lib/python3.10/dist-packages (from ipython>=4.0.0->ipywidgets<8,>=7->mols2grid) (4.8.0)\n",
            "Requirement already satisfied: six>=1.5 in /usr/local/lib/python3.10/dist-packages (from python-dateutil>=2.8.1->pandas->mols2grid) (1.16.0)\n",
            "Requirement already satisfied: notebook>=4.4.1 in /usr/local/lib/python3.10/dist-packages (from widgetsnbextension~=3.6.0->ipywidgets<8,>=7->mols2grid) (6.5.5)\n",
            "Requirement already satisfied: parso<0.9.0,>=0.8.3 in /usr/local/lib/python3.10/dist-packages (from jedi>=0.16->ipython>=4.0.0->ipywidgets<8,>=7->mols2grid) (0.8.3)\n",
            "Requirement already satisfied: pyzmq<25,>=17 in /usr/local/lib/python3.10/dist-packages (from notebook>=4.4.1->widgetsnbextension~=3.6.0->ipywidgets<8,>=7->mols2grid) (23.2.1)\n",
            "Requirement already satisfied: argon2-cffi in /usr/local/lib/python3.10/dist-packages (from notebook>=4.4.1->widgetsnbextension~=3.6.0->ipywidgets<8,>=7->mols2grid) (23.1.0)\n",
            "Requirement already satisfied: jupyter-core>=4.6.1 in /usr/local/lib/python3.10/dist-packages (from notebook>=4.4.1->widgetsnbextension~=3.6.0->ipywidgets<8,>=7->mols2grid) (5.3.2)\n",
            "Requirement already satisfied: nbformat in /usr/local/lib/python3.10/dist-packages (from notebook>=4.4.1->widgetsnbextension~=3.6.0->ipywidgets<8,>=7->mols2grid) (5.9.2)\n",
            "Requirement already satisfied: nbconvert>=5 in /usr/local/lib/python3.10/dist-packages (from notebook>=4.4.1->widgetsnbextension~=3.6.0->ipywidgets<8,>=7->mols2grid) (6.5.4)\n",
            "Requirement already satisfied: nest-asyncio>=1.5 in /usr/local/lib/python3.10/dist-packages (from notebook>=4.4.1->widgetsnbextension~=3.6.0->ipywidgets<8,>=7->mols2grid) (1.5.8)\n",
            "Requirement already satisfied: Send2Trash>=1.8.0 in /usr/local/lib/python3.10/dist-packages (from notebook>=4.4.1->widgetsnbextension~=3.6.0->ipywidgets<8,>=7->mols2grid) (1.8.2)\n",
            "Requirement already satisfied: terminado>=0.8.3 in /usr/local/lib/python3.10/dist-packages (from notebook>=4.4.1->widgetsnbextension~=3.6.0->ipywidgets<8,>=7->mols2grid) (0.17.1)\n",
            "Requirement already satisfied: prometheus-client in /usr/local/lib/python3.10/dist-packages (from notebook>=4.4.1->widgetsnbextension~=3.6.0->ipywidgets<8,>=7->mols2grid) (0.17.1)\n",
            "Requirement already satisfied: nbclassic>=0.4.7 in /usr/local/lib/python3.10/dist-packages (from notebook>=4.4.1->widgetsnbextension~=3.6.0->ipywidgets<8,>=7->mols2grid) (1.0.0)\n",
            "Requirement already satisfied: ptyprocess>=0.5 in /usr/local/lib/python3.10/dist-packages (from pexpect>4.3->ipython>=4.0.0->ipywidgets<8,>=7->mols2grid) (0.7.0)\n",
            "Requirement already satisfied: wcwidth in /usr/local/lib/python3.10/dist-packages (from prompt-toolkit!=3.0.0,!=3.0.1,<3.1.0,>=2.0.0->ipython>=4.0.0->ipywidgets<8,>=7->mols2grid) (0.2.8)\n",
            "Requirement already satisfied: platformdirs>=2.5 in /usr/local/lib/python3.10/dist-packages (from jupyter-core>=4.6.1->notebook>=4.4.1->widgetsnbextension~=3.6.0->ipywidgets<8,>=7->mols2grid) (3.11.0)\n",
            "Requirement already satisfied: jupyter-server>=1.8 in /usr/local/lib/python3.10/dist-packages (from nbclassic>=0.4.7->notebook>=4.4.1->widgetsnbextension~=3.6.0->ipywidgets<8,>=7->mols2grid) (1.24.0)\n",
            "Requirement already satisfied: notebook-shim>=0.2.3 in /usr/local/lib/python3.10/dist-packages (from nbclassic>=0.4.7->notebook>=4.4.1->widgetsnbextension~=3.6.0->ipywidgets<8,>=7->mols2grid) (0.2.3)\n",
            "Requirement already satisfied: lxml in /usr/local/lib/python3.10/dist-packages (from nbconvert>=5->notebook>=4.4.1->widgetsnbextension~=3.6.0->ipywidgets<8,>=7->mols2grid) (4.9.3)\n",
            "Requirement already satisfied: beautifulsoup4 in /usr/local/lib/python3.10/dist-packages (from nbconvert>=5->notebook>=4.4.1->widgetsnbextension~=3.6.0->ipywidgets<8,>=7->mols2grid) (4.11.2)\n",
            "Requirement already satisfied: bleach in /usr/local/lib/python3.10/dist-packages (from nbconvert>=5->notebook>=4.4.1->widgetsnbextension~=3.6.0->ipywidgets<8,>=7->mols2grid) (6.0.0)\n",
            "Requirement already satisfied: defusedxml in /usr/local/lib/python3.10/dist-packages (from nbconvert>=5->notebook>=4.4.1->widgetsnbextension~=3.6.0->ipywidgets<8,>=7->mols2grid) (0.7.1)\n",
            "Requirement already satisfied: entrypoints>=0.2.2 in /usr/local/lib/python3.10/dist-packages (from nbconvert>=5->notebook>=4.4.1->widgetsnbextension~=3.6.0->ipywidgets<8,>=7->mols2grid) (0.4)\n",
            "Requirement already satisfied: jupyterlab-pygments in /usr/local/lib/python3.10/dist-packages (from nbconvert>=5->notebook>=4.4.1->widgetsnbextension~=3.6.0->ipywidgets<8,>=7->mols2grid) (0.2.2)\n",
            "Requirement already satisfied: mistune<2,>=0.8.1 in /usr/local/lib/python3.10/dist-packages (from nbconvert>=5->notebook>=4.4.1->widgetsnbextension~=3.6.0->ipywidgets<8,>=7->mols2grid) (0.8.4)\n",
            "Requirement already satisfied: nbclient>=0.5.0 in /usr/local/lib/python3.10/dist-packages (from nbconvert>=5->notebook>=4.4.1->widgetsnbextension~=3.6.0->ipywidgets<8,>=7->mols2grid) (0.8.0)\n",
            "Requirement already satisfied: packaging in /usr/local/lib/python3.10/dist-packages (from nbconvert>=5->notebook>=4.4.1->widgetsnbextension~=3.6.0->ipywidgets<8,>=7->mols2grid) (23.2)\n",
            "Requirement already satisfied: pandocfilters>=1.4.1 in /usr/local/lib/python3.10/dist-packages (from nbconvert>=5->notebook>=4.4.1->widgetsnbextension~=3.6.0->ipywidgets<8,>=7->mols2grid) (1.5.0)\n",
            "Requirement already satisfied: tinycss2 in /usr/local/lib/python3.10/dist-packages (from nbconvert>=5->notebook>=4.4.1->widgetsnbextension~=3.6.0->ipywidgets<8,>=7->mols2grid) (1.2.1)\n",
            "Requirement already satisfied: fastjsonschema in /usr/local/lib/python3.10/dist-packages (from nbformat->notebook>=4.4.1->widgetsnbextension~=3.6.0->ipywidgets<8,>=7->mols2grid) (2.18.1)\n",
            "Requirement already satisfied: jsonschema>=2.6 in /usr/local/lib/python3.10/dist-packages (from nbformat->notebook>=4.4.1->widgetsnbextension~=3.6.0->ipywidgets<8,>=7->mols2grid) (4.19.1)\n",
            "Requirement already satisfied: argon2-cffi-bindings in /usr/local/lib/python3.10/dist-packages (from argon2-cffi->notebook>=4.4.1->widgetsnbextension~=3.6.0->ipywidgets<8,>=7->mols2grid) (21.2.0)\n",
            "Collecting attrs>=22.2.0 (from jsonschema>=2.6->nbformat->notebook>=4.4.1->widgetsnbextension~=3.6.0->ipywidgets<8,>=7->mols2grid)\n",
            "  Using cached attrs-23.1.0-py3-none-any.whl (61 kB)\n",
            "Requirement already satisfied: jsonschema-specifications>=2023.03.6 in /usr/local/lib/python3.10/dist-packages (from jsonschema>=2.6->nbformat->notebook>=4.4.1->widgetsnbextension~=3.6.0->ipywidgets<8,>=7->mols2grid) (2023.7.1)\n",
            "Requirement already satisfied: referencing>=0.28.4 in /usr/local/lib/python3.10/dist-packages (from jsonschema>=2.6->nbformat->notebook>=4.4.1->widgetsnbextension~=3.6.0->ipywidgets<8,>=7->mols2grid) (0.30.2)\n",
            "Requirement already satisfied: rpds-py>=0.7.1 in /usr/local/lib/python3.10/dist-packages (from jsonschema>=2.6->nbformat->notebook>=4.4.1->widgetsnbextension~=3.6.0->ipywidgets<8,>=7->mols2grid) (0.10.4)\n",
            "Requirement already satisfied: anyio<4,>=3.1.0 in /usr/local/lib/python3.10/dist-packages (from jupyter-server>=1.8->nbclassic>=0.4.7->notebook>=4.4.1->widgetsnbextension~=3.6.0->ipywidgets<8,>=7->mols2grid) (3.7.1)\n",
            "Requirement already satisfied: websocket-client in /usr/local/lib/python3.10/dist-packages (from jupyter-server>=1.8->nbclassic>=0.4.7->notebook>=4.4.1->widgetsnbextension~=3.6.0->ipywidgets<8,>=7->mols2grid) (1.6.3)\n",
            "Requirement already satisfied: cffi>=1.0.1 in /usr/local/lib/python3.10/dist-packages (from argon2-cffi-bindings->argon2-cffi->notebook>=4.4.1->widgetsnbextension~=3.6.0->ipywidgets<8,>=7->mols2grid) (1.16.0)\n",
            "Requirement already satisfied: soupsieve>1.2 in /usr/local/lib/python3.10/dist-packages (from beautifulsoup4->nbconvert>=5->notebook>=4.4.1->widgetsnbextension~=3.6.0->ipywidgets<8,>=7->mols2grid) (2.5)\n",
            "Requirement already satisfied: webencodings in /usr/local/lib/python3.10/dist-packages (from bleach->nbconvert>=5->notebook>=4.4.1->widgetsnbextension~=3.6.0->ipywidgets<8,>=7->mols2grid) (0.5.1)\n",
            "Requirement already satisfied: idna>=2.8 in /usr/local/lib/python3.10/dist-packages (from anyio<4,>=3.1.0->jupyter-server>=1.8->nbclassic>=0.4.7->notebook>=4.4.1->widgetsnbextension~=3.6.0->ipywidgets<8,>=7->mols2grid) (3.4)\n",
            "Requirement already satisfied: sniffio>=1.1 in /usr/local/lib/python3.10/dist-packages (from anyio<4,>=3.1.0->jupyter-server>=1.8->nbclassic>=0.4.7->notebook>=4.4.1->widgetsnbextension~=3.6.0->ipywidgets<8,>=7->mols2grid) (1.3.0)\n",
            "Requirement already satisfied: exceptiongroup in /usr/local/lib/python3.10/dist-packages (from anyio<4,>=3.1.0->jupyter-server>=1.8->nbclassic>=0.4.7->notebook>=4.4.1->widgetsnbextension~=3.6.0->ipywidgets<8,>=7->mols2grid) (1.1.3)\n",
            "Requirement already satisfied: pycparser in /usr/local/lib/python3.10/dist-packages (from cffi>=1.0.1->argon2-cffi-bindings->argon2-cffi->notebook>=4.4.1->widgetsnbextension~=3.6.0->ipywidgets<8,>=7->mols2grid) (2.21)\n",
            "Installing collected packages: attrs\n",
            "  Attempting uninstall: attrs\n",
            "    Found existing installation: attrs 21.4.0\n",
            "    Uninstalling attrs-21.4.0:\n",
            "      Successfully uninstalled attrs-21.4.0\n",
            "\u001b[31mERROR: pip's dependency resolver does not currently take into account all the packages that are installed. This behaviour is the source of the following dependency conflicts.\n",
            "requests-cache 0.7.5 requires attrs<22.0,>=21.2, but you have attrs 23.1.0 which is incompatible.\u001b[0m\u001b[31m\n",
            "\u001b[0mSuccessfully installed attrs-23.1.0\n"
          ]
        }
      ],
      "source": [
        "# Install packages\n",
        "!pip install chembl_webresource_client\n",
        "!pip install rdkit\n",
        "!pip install mols2grid"
      ]
    },
    {
      "cell_type": "code",
      "execution_count": 2,
      "id": "0845ee19-c8f9-4f34-9602-0288f4b2a4ea",
      "metadata": {
        "id": "0845ee19-c8f9-4f34-9602-0288f4b2a4ea"
      },
      "outputs": [],
      "source": [
        "from chembl_webresource_client.new_client import new_client"
      ]
    },
    {
      "cell_type": "code",
      "execution_count": 3,
      "id": "e3fd63b5-f93c-43cc-9d15-c4fcd1b33e10",
      "metadata": {
        "id": "e3fd63b5-f93c-43cc-9d15-c4fcd1b33e10"
      },
      "outputs": [],
      "source": [
        "import pandas as pd\n",
        "import numpy as np"
      ]
    },
    {
      "cell_type": "markdown",
      "source": [
        "# I. Reading of Data"
      ],
      "metadata": {
        "id": "2xonjd4DgkbU"
      },
      "id": "2xonjd4DgkbU"
    },
    {
      "cell_type": "code",
      "execution_count": 13,
      "id": "a44f5be7-ace3-4b31-b528-77b9505d5c43",
      "metadata": {
        "id": "a44f5be7-ace3-4b31-b528-77b9505d5c43"
      },
      "outputs": [],
      "source": [
        "# Make a query in Chembl database to find activities agains D2 dopsmine receptor\n",
        "target = new_client.target\n",
        "activity = new_client.activity\n",
        "D2 = target.filter(target_chembl_id='CHEMBL217')\n",
        "D2_activities = activity.filter(target_chembl_id='CHEMBL217')"
      ]
    },
    {
      "cell_type": "code",
      "source": [
        "df = pd.DataFrame(D2_activities)"
      ],
      "metadata": {
        "id": "99Yjkk8t_QrP"
      },
      "id": "99Yjkk8t_QrP",
      "execution_count": 14,
      "outputs": []
    },
    {
      "cell_type": "code",
      "source": [
        "df.to_csv('D2_activities.csv')"
      ],
      "metadata": {
        "colab": {
          "base_uri": "https://localhost:8080/",
          "height": 176
        },
        "id": "VHkcPyn1AnI5",
        "outputId": "da15aebf-13fe-4ecc-bee1-49b7c42ef077"
      },
      "id": "VHkcPyn1AnI5",
      "execution_count": 6,
      "outputs": [
        {
          "output_type": "error",
          "ename": "NameError",
          "evalue": "ignored",
          "traceback": [
            "\u001b[0;31m---------------------------------------------------------------------------\u001b[0m",
            "\u001b[0;31mNameError\u001b[0m                                 Traceback (most recent call last)",
            "\u001b[0;32m<ipython-input-6-e93f0778e488>\u001b[0m in \u001b[0;36m<cell line: 1>\u001b[0;34m()\u001b[0m\n\u001b[0;32m----> 1\u001b[0;31m \u001b[0mdf\u001b[0m\u001b[0;34m.\u001b[0m\u001b[0mto_csv\u001b[0m\u001b[0;34m(\u001b[0m\u001b[0;34m'D2_activities.csv'\u001b[0m\u001b[0;34m)\u001b[0m\u001b[0;34m\u001b[0m\u001b[0;34m\u001b[0m\u001b[0m\n\u001b[0m",
            "\u001b[0;31mNameError\u001b[0m: name 'df' is not defined"
          ]
        }
      ]
    },
    {
      "cell_type": "code",
      "execution_count": 4,
      "id": "f30e3258-d4b7-4745-9f63-4b963b641ef7",
      "metadata": {
        "id": "f30e3258-d4b7-4745-9f63-4b963b641ef7"
      },
      "outputs": [],
      "source": [
        "from rdkit import Chem #RDKit Chemistry\n",
        "from rdkit.Chem.Draw import IPythonConsole #RDKit drawing\n",
        "from rdkit.Chem import Draw #RDKit drawing\n",
        "# A few settings to improve the quality of structures\n",
        "from rdkit.Chem import rdDepictor\n",
        "IPythonConsole.ipython_useSVG = True\n",
        "rdDepictor.SetPreferCoordGen(True)\n",
        "from rdkit.Chem import PandasTools #Add the ability to add a molecule to a dataframegrid\n",
        "import mols2grid #The mols2grid library provides a convenient way of displaying molecules in a grid"
      ]
    },
    {
      "cell_type": "code",
      "source": [
        "# Mounting google drive to save dataframe to csv, because conversint Chembl query to dataframe is to time consumint to do it every time we re-run runtime\n",
        "from google.colab import drive\n",
        "drive.mount('/content/drive')\n",
        "import os\n",
        "os.chdir(\"/content/drive/MyDrive/\")"
      ],
      "metadata": {
        "colab": {
          "base_uri": "https://localhost:8080/"
        },
        "id": "tcQudmFk_tSC",
        "outputId": "91163c8a-b25e-41c9-fd73-d79d49cf561c"
      },
      "id": "tcQudmFk_tSC",
      "execution_count": 5,
      "outputs": [
        {
          "output_type": "stream",
          "name": "stdout",
          "text": [
            "Drive already mounted at /content/drive; to attempt to forcibly remount, call drive.mount(\"/content/drive\", force_remount=True).\n"
          ]
        }
      ]
    },
    {
      "cell_type": "code",
      "source": [
        "df = pd.read_csv('/content/drive/MyDrive/D2_activities.csv')"
      ],
      "metadata": {
        "id": "qbiXla-OI_Rn"
      },
      "id": "qbiXla-OI_Rn",
      "execution_count": 80,
      "outputs": []
    },
    {
      "cell_type": "markdown",
      "source": [
        "#II. Preparing datasets"
      ],
      "metadata": {
        "id": "XOVeom3kgv-S"
      },
      "id": "XOVeom3kgv-S"
    },
    {
      "cell_type": "code",
      "source": [
        "# Convert column to dictionary\n",
        "df['activity_properties'] = df['activity_properties'].apply(lambda x: eval(x))\n",
        "# Create dataframe from the column and join to the initial dataframe\n",
        "df = df.join(pd.DataFrame(df['activity_properties'].to_list()))\n",
        "# Drop the old column\n",
        "df = df.drop('activity_properties', axis=1)"
      ],
      "metadata": {
        "id": "QRUMrgVwRdAD"
      },
      "id": "QRUMrgVwRdAD",
      "execution_count": 81,
      "outputs": []
    },
    {
      "cell_type": "code",
      "source": [
        "# List all columns\n",
        "df.columns"
      ],
      "metadata": {
        "colab": {
          "base_uri": "https://localhost:8080/"
        },
        "id": "owlgty0cUD5w",
        "outputId": "48eb83c9-29ba-47f5-a3b3-63d4918120d5"
      },
      "id": "owlgty0cUD5w",
      "execution_count": 82,
      "outputs": [
        {
          "output_type": "execute_result",
          "data": {
            "text/plain": [
              "Index([               'Unnamed: 0',               'action_type',\n",
              "                'activity_comment',               'activity_id',\n",
              "                 'assay_chembl_id',         'assay_description',\n",
              "                      'assay_type',   'assay_variant_accession',\n",
              "          'assay_variant_mutation',              'bao_endpoint',\n",
              "                      'bao_format',                 'bao_label',\n",
              "                'canonical_smiles',     'data_validity_comment',\n",
              "       'data_validity_description',        'document_chembl_id',\n",
              "                'document_journal',             'document_year',\n",
              "               'ligand_efficiency',        'molecule_chembl_id',\n",
              "              'molecule_pref_name', 'parent_molecule_chembl_id',\n",
              "                   'pchembl_value',       'potential_duplicate',\n",
              "                      'qudt_units',                 'record_id',\n",
              "                        'relation',                    'src_id',\n",
              "                   'standard_flag',         'standard_relation',\n",
              "             'standard_text_value',             'standard_type',\n",
              "                  'standard_units',      'standard_upper_value',\n",
              "                  'standard_value',          'target_chembl_id',\n",
              "                 'target_organism',          'target_pref_name',\n",
              "                   'target_tax_id',                'text_value',\n",
              "                            'toid',                      'type',\n",
              "                           'units',                  'uo_units',\n",
              "                     'upper_value',                     'value',\n",
              "                                 0,                           1,\n",
              "                                 2,                           3,\n",
              "                                 4],\n",
              "      dtype='object')"
            ]
          },
          "metadata": {},
          "execution_count": 82
        }
      ]
    },
    {
      "cell_type": "code",
      "source": [
        "# Drop columns we don't need\n",
        "df = df.drop(['Unnamed: 0', 'action_type', 'activity_comment', 'activity_id', 'assay_chembl_id', 'assay_description', 'assay_type',   'assay_variant_accession',\n",
        "              'assay_variant_mutation', 'bao_endpoint', 'bao_format', 'bao_label', 'data_validity_comment', 'data_validity_description', 'document_chembl_id',\n",
        "              'document_journal', 'document_year', 'ligand_efficiency', 'molecule_pref_name', 'parent_molecule_chembl_id', 'pchembl_value', 'potential_duplicate',\n",
        "              'qudt_units', 'record_id', 'src_id', 'standard_flag', 'standard_relation', 'standard_text_value', 'standard_type', 'standard_units', 'standard_upper_value',\n",
        "              'standard_value', 'target_tax_id', 'text_value', 'toid', 'uo_units', 'upper_value',  0, 1, 2, 3, 4], axis = 1)"
      ],
      "metadata": {
        "id": "x7YAOB2ZSUKE"
      },
      "id": "x7YAOB2ZSUKE",
      "execution_count": 83,
      "outputs": []
    },
    {
      "cell_type": "code",
      "source": [
        "# Print left columns\n",
        "df.columns"
      ],
      "metadata": {
        "colab": {
          "base_uri": "https://localhost:8080/"
        },
        "id": "sZJol4b3SPUx",
        "outputId": "80546569-7c74-45d9-b9f0-ffbbdb1a8742"
      },
      "id": "sZJol4b3SPUx",
      "execution_count": 84,
      "outputs": [
        {
          "output_type": "execute_result",
          "data": {
            "text/plain": [
              "Index(['canonical_smiles', 'molecule_chembl_id', 'relation',\n",
              "       'target_chembl_id', 'target_organism', 'target_pref_name', 'type',\n",
              "       'units', 'value'],\n",
              "      dtype='object')"
            ]
          },
          "metadata": {},
          "execution_count": 84
        }
      ]
    },
    {
      "cell_type": "code",
      "source": [
        "# Drop none values\n",
        "df.dropna(subset=['relation','units','type','value'], how='any', inplace=True)"
      ],
      "metadata": {
        "id": "IPVsgyU0VpGw"
      },
      "id": "IPVsgyU0VpGw",
      "execution_count": 85,
      "outputs": []
    },
    {
      "cell_type": "code",
      "source": [
        "# See how many null value we have in smiles column\n",
        "df.canonical_smiles.isnull().sum()"
      ],
      "metadata": {
        "colab": {
          "base_uri": "https://localhost:8080/"
        },
        "id": "B4LafVgBbdcs",
        "outputId": "1c283fc7-a912-413f-856d-b4bf3f5f0e34"
      },
      "id": "B4LafVgBbdcs",
      "execution_count": 86,
      "outputs": [
        {
          "output_type": "execute_result",
          "data": {
            "text/plain": [
              "15"
            ]
          },
          "metadata": {},
          "execution_count": 86
        }
      ]
    },
    {
      "cell_type": "code",
      "source": [
        "# 15 is not a lot we can drop\n",
        "df.dropna(subset=['canonical_smiles'], how='any', inplace=True)"
      ],
      "metadata": {
        "id": "NJWf7HQ7bn1E"
      },
      "id": "NJWf7HQ7bn1E",
      "execution_count": 87,
      "outputs": []
    },
    {
      "cell_type": "code",
      "source": [
        "# Choose only Ki values\n",
        "df = df[df['type'] == 'Ki']"
      ],
      "metadata": {
        "id": "2DcJeWKYFF3c"
      },
      "id": "2DcJeWKYFF3c",
      "execution_count": 88,
      "outputs": []
    },
    {
      "cell_type": "code",
      "source": [
        "# Left measurment units only from allowed list\n",
        "allowed_list = ['nM',\"10'-9M\"]\n",
        "df = df[df['units'].isin(allowed_list)]"
      ],
      "metadata": {
        "id": "C33wvZrkPLM6"
      },
      "id": "C33wvZrkPLM6",
      "execution_count": 89,
      "outputs": []
    },
    {
      "cell_type": "code",
      "source": [
        "df = df.drop(df[df['value'] < 0].index)"
      ],
      "metadata": {
        "id": "hs-V7IfClUDl"
      },
      "id": "hs-V7IfClUDl",
      "execution_count": 90,
      "outputs": []
    },
    {
      "cell_type": "code",
      "source": [
        "# I want to separate dataframe to two dataframe, first we will use to build a regression model (only records with '=' relation). And another dataframe for\n",
        "# classification, where we will give label 1 to strong ingibitors (Ki < limit) and weak ingibitors (Ki > limit)"
      ],
      "metadata": {
        "id": "1pql6BzZcAaQ"
      },
      "id": "1pql6BzZcAaQ",
      "execution_count": 91,
      "outputs": []
    },
    {
      "cell_type": "code",
      "source": [
        "limit = 500"
      ],
      "metadata": {
        "id": "ZR4BEQhi0McR"
      },
      "id": "ZR4BEQhi0McR",
      "execution_count": 92,
      "outputs": []
    },
    {
      "cell_type": "code",
      "source": [
        "# Explore values with '>' realation. Values with '>' and '>=' erlations with values < limit we can not classify as weak or strong\n",
        "condition1 = df['relation'].isin(['>','>='])\n",
        "condition2 = df['value'] < limit\n",
        "df[condition1 & condition2]"
      ],
      "metadata": {
        "colab": {
          "base_uri": "https://localhost:8080/",
          "height": 424
        },
        "id": "joWYjF7iZYGw",
        "outputId": "ca4eb5b7-da6d-44a1-be67-34690a8235f3"
      },
      "id": "joWYjF7iZYGw",
      "execution_count": 93,
      "outputs": [
        {
          "output_type": "execute_result",
          "data": {
            "text/plain": [
              "                                        canonical_smiles molecule_chembl_id  \\\n",
              "151    CCCN1CCC[C@@H](c2cccc(OS(=O)(=O)c3ccc(C)cc3)c2)C1        CHEMBL92630   \n",
              "154       CCCN1CCC[C@@H](c2cccc(NS(=O)(=O)C(F)(F)F)c2)C1        CHEMBL93254   \n",
              "155               CCCN1CCC[C@@H](c2cccc(S(C)(=O)=O)c2)C1       CHEMBL311730   \n",
              "157                C=CCN1CC[C@@H]2c3cccc(OC)c3CC[C@@H]21       CHEMBL566970   \n",
              "158                C=CCN1CC[C@@H]2c3cccc(OC)c3CC[C@@H]21       CHEMBL566970   \n",
              "...                                                  ...                ...   \n",
              "6365       COc1cccc(N2CCN(CCCCNC(=O)c3ccc4nonc4c3)CC2)c1       CHEMBL458554   \n",
              "6366   COc1ccc(N2CCN(CCCCNC(=O)c3ccc(-n4ccnc4)cc3)CC2...       CHEMBL457974   \n",
              "6367       COc1ccc(N2CCN(CCCCNC(=O)c3ccc4nonc4c3)CC2)cc1       CHEMBL447907   \n",
              "6371     O=C(NCCCCN1CCN(c2cccc(OCCF)c2)CC1)c1ccc2nonc2c1       CHEMBL458759   \n",
              "11697              CN1CCN(C2=Nc3cc(Cl)ccc3Nc3ccccc32)CC1           CHEMBL42   \n",
              "\n",
              "      relation target_chembl_id target_organism      target_pref_name type  \\\n",
              "151          >        CHEMBL217    Homo sapiens  Dopamine D2 receptor   Ki   \n",
              "154          >        CHEMBL217    Homo sapiens  Dopamine D2 receptor   Ki   \n",
              "155          >        CHEMBL217    Homo sapiens  Dopamine D2 receptor   Ki   \n",
              "157          >        CHEMBL217    Homo sapiens  Dopamine D2 receptor   Ki   \n",
              "158          >        CHEMBL217    Homo sapiens  Dopamine D2 receptor   Ki   \n",
              "...        ...              ...             ...                   ...  ...   \n",
              "6365         >        CHEMBL217    Homo sapiens  Dopamine D2 receptor   Ki   \n",
              "6366         >        CHEMBL217    Homo sapiens  Dopamine D2 receptor   Ki   \n",
              "6367         >        CHEMBL217    Homo sapiens  Dopamine D2 receptor   Ki   \n",
              "6371         >        CHEMBL217    Homo sapiens  Dopamine D2 receptor   Ki   \n",
              "11697        >        CHEMBL217    Homo sapiens  Dopamine D2 receptor   Ki   \n",
              "\n",
              "      units  value  \n",
              "151      nM  217.0  \n",
              "154      nM  217.0  \n",
              "155      nM  217.0  \n",
              "157      nM  217.0  \n",
              "158      nM  339.0  \n",
              "...     ...    ...  \n",
              "6365     nM  100.0  \n",
              "6366     nM  100.0  \n",
              "6367     nM  100.0  \n",
              "6371     nM  100.0  \n",
              "11697    nM  100.0  \n",
              "\n",
              "[73 rows x 9 columns]"
            ],
            "text/html": [
              "\n",
              "  <div id=\"df-2450346b-e38d-43c0-b88b-36594df40728\" class=\"colab-df-container\">\n",
              "    <div>\n",
              "<style scoped>\n",
              "    .dataframe tbody tr th:only-of-type {\n",
              "        vertical-align: middle;\n",
              "    }\n",
              "\n",
              "    .dataframe tbody tr th {\n",
              "        vertical-align: top;\n",
              "    }\n",
              "\n",
              "    .dataframe thead th {\n",
              "        text-align: right;\n",
              "    }\n",
              "</style>\n",
              "<table border=\"1\" class=\"dataframe\">\n",
              "  <thead>\n",
              "    <tr style=\"text-align: right;\">\n",
              "      <th></th>\n",
              "      <th>canonical_smiles</th>\n",
              "      <th>molecule_chembl_id</th>\n",
              "      <th>relation</th>\n",
              "      <th>target_chembl_id</th>\n",
              "      <th>target_organism</th>\n",
              "      <th>target_pref_name</th>\n",
              "      <th>type</th>\n",
              "      <th>units</th>\n",
              "      <th>value</th>\n",
              "    </tr>\n",
              "  </thead>\n",
              "  <tbody>\n",
              "    <tr>\n",
              "      <th>151</th>\n",
              "      <td>CCCN1CCC[C@@H](c2cccc(OS(=O)(=O)c3ccc(C)cc3)c2)C1</td>\n",
              "      <td>CHEMBL92630</td>\n",
              "      <td>&gt;</td>\n",
              "      <td>CHEMBL217</td>\n",
              "      <td>Homo sapiens</td>\n",
              "      <td>Dopamine D2 receptor</td>\n",
              "      <td>Ki</td>\n",
              "      <td>nM</td>\n",
              "      <td>217.0</td>\n",
              "    </tr>\n",
              "    <tr>\n",
              "      <th>154</th>\n",
              "      <td>CCCN1CCC[C@@H](c2cccc(NS(=O)(=O)C(F)(F)F)c2)C1</td>\n",
              "      <td>CHEMBL93254</td>\n",
              "      <td>&gt;</td>\n",
              "      <td>CHEMBL217</td>\n",
              "      <td>Homo sapiens</td>\n",
              "      <td>Dopamine D2 receptor</td>\n",
              "      <td>Ki</td>\n",
              "      <td>nM</td>\n",
              "      <td>217.0</td>\n",
              "    </tr>\n",
              "    <tr>\n",
              "      <th>155</th>\n",
              "      <td>CCCN1CCC[C@@H](c2cccc(S(C)(=O)=O)c2)C1</td>\n",
              "      <td>CHEMBL311730</td>\n",
              "      <td>&gt;</td>\n",
              "      <td>CHEMBL217</td>\n",
              "      <td>Homo sapiens</td>\n",
              "      <td>Dopamine D2 receptor</td>\n",
              "      <td>Ki</td>\n",
              "      <td>nM</td>\n",
              "      <td>217.0</td>\n",
              "    </tr>\n",
              "    <tr>\n",
              "      <th>157</th>\n",
              "      <td>C=CCN1CC[C@@H]2c3cccc(OC)c3CC[C@@H]21</td>\n",
              "      <td>CHEMBL566970</td>\n",
              "      <td>&gt;</td>\n",
              "      <td>CHEMBL217</td>\n",
              "      <td>Homo sapiens</td>\n",
              "      <td>Dopamine D2 receptor</td>\n",
              "      <td>Ki</td>\n",
              "      <td>nM</td>\n",
              "      <td>217.0</td>\n",
              "    </tr>\n",
              "    <tr>\n",
              "      <th>158</th>\n",
              "      <td>C=CCN1CC[C@@H]2c3cccc(OC)c3CC[C@@H]21</td>\n",
              "      <td>CHEMBL566970</td>\n",
              "      <td>&gt;</td>\n",
              "      <td>CHEMBL217</td>\n",
              "      <td>Homo sapiens</td>\n",
              "      <td>Dopamine D2 receptor</td>\n",
              "      <td>Ki</td>\n",
              "      <td>nM</td>\n",
              "      <td>339.0</td>\n",
              "    </tr>\n",
              "    <tr>\n",
              "      <th>...</th>\n",
              "      <td>...</td>\n",
              "      <td>...</td>\n",
              "      <td>...</td>\n",
              "      <td>...</td>\n",
              "      <td>...</td>\n",
              "      <td>...</td>\n",
              "      <td>...</td>\n",
              "      <td>...</td>\n",
              "      <td>...</td>\n",
              "    </tr>\n",
              "    <tr>\n",
              "      <th>6365</th>\n",
              "      <td>COc1cccc(N2CCN(CCCCNC(=O)c3ccc4nonc4c3)CC2)c1</td>\n",
              "      <td>CHEMBL458554</td>\n",
              "      <td>&gt;</td>\n",
              "      <td>CHEMBL217</td>\n",
              "      <td>Homo sapiens</td>\n",
              "      <td>Dopamine D2 receptor</td>\n",
              "      <td>Ki</td>\n",
              "      <td>nM</td>\n",
              "      <td>100.0</td>\n",
              "    </tr>\n",
              "    <tr>\n",
              "      <th>6366</th>\n",
              "      <td>COc1ccc(N2CCN(CCCCNC(=O)c3ccc(-n4ccnc4)cc3)CC2...</td>\n",
              "      <td>CHEMBL457974</td>\n",
              "      <td>&gt;</td>\n",
              "      <td>CHEMBL217</td>\n",
              "      <td>Homo sapiens</td>\n",
              "      <td>Dopamine D2 receptor</td>\n",
              "      <td>Ki</td>\n",
              "      <td>nM</td>\n",
              "      <td>100.0</td>\n",
              "    </tr>\n",
              "    <tr>\n",
              "      <th>6367</th>\n",
              "      <td>COc1ccc(N2CCN(CCCCNC(=O)c3ccc4nonc4c3)CC2)cc1</td>\n",
              "      <td>CHEMBL447907</td>\n",
              "      <td>&gt;</td>\n",
              "      <td>CHEMBL217</td>\n",
              "      <td>Homo sapiens</td>\n",
              "      <td>Dopamine D2 receptor</td>\n",
              "      <td>Ki</td>\n",
              "      <td>nM</td>\n",
              "      <td>100.0</td>\n",
              "    </tr>\n",
              "    <tr>\n",
              "      <th>6371</th>\n",
              "      <td>O=C(NCCCCN1CCN(c2cccc(OCCF)c2)CC1)c1ccc2nonc2c1</td>\n",
              "      <td>CHEMBL458759</td>\n",
              "      <td>&gt;</td>\n",
              "      <td>CHEMBL217</td>\n",
              "      <td>Homo sapiens</td>\n",
              "      <td>Dopamine D2 receptor</td>\n",
              "      <td>Ki</td>\n",
              "      <td>nM</td>\n",
              "      <td>100.0</td>\n",
              "    </tr>\n",
              "    <tr>\n",
              "      <th>11697</th>\n",
              "      <td>CN1CCN(C2=Nc3cc(Cl)ccc3Nc3ccccc32)CC1</td>\n",
              "      <td>CHEMBL42</td>\n",
              "      <td>&gt;</td>\n",
              "      <td>CHEMBL217</td>\n",
              "      <td>Homo sapiens</td>\n",
              "      <td>Dopamine D2 receptor</td>\n",
              "      <td>Ki</td>\n",
              "      <td>nM</td>\n",
              "      <td>100.0</td>\n",
              "    </tr>\n",
              "  </tbody>\n",
              "</table>\n",
              "<p>73 rows × 9 columns</p>\n",
              "</div>\n",
              "    <div class=\"colab-df-buttons\">\n",
              "\n",
              "  <div class=\"colab-df-container\">\n",
              "    <button class=\"colab-df-convert\" onclick=\"convertToInteractive('df-2450346b-e38d-43c0-b88b-36594df40728')\"\n",
              "            title=\"Convert this dataframe to an interactive table.\"\n",
              "            style=\"display:none;\">\n",
              "\n",
              "  <svg xmlns=\"http://www.w3.org/2000/svg\" height=\"24px\" viewBox=\"0 -960 960 960\">\n",
              "    <path d=\"M120-120v-720h720v720H120Zm60-500h600v-160H180v160Zm220 220h160v-160H400v160Zm0 220h160v-160H400v160ZM180-400h160v-160H180v160Zm440 0h160v-160H620v160ZM180-180h160v-160H180v160Zm440 0h160v-160H620v160Z\"/>\n",
              "  </svg>\n",
              "    </button>\n",
              "\n",
              "  <style>\n",
              "    .colab-df-container {\n",
              "      display:flex;\n",
              "      gap: 12px;\n",
              "    }\n",
              "\n",
              "    .colab-df-convert {\n",
              "      background-color: #E8F0FE;\n",
              "      border: none;\n",
              "      border-radius: 50%;\n",
              "      cursor: pointer;\n",
              "      display: none;\n",
              "      fill: #1967D2;\n",
              "      height: 32px;\n",
              "      padding: 0 0 0 0;\n",
              "      width: 32px;\n",
              "    }\n",
              "\n",
              "    .colab-df-convert:hover {\n",
              "      background-color: #E2EBFA;\n",
              "      box-shadow: 0px 1px 2px rgba(60, 64, 67, 0.3), 0px 1px 3px 1px rgba(60, 64, 67, 0.15);\n",
              "      fill: #174EA6;\n",
              "    }\n",
              "\n",
              "    .colab-df-buttons div {\n",
              "      margin-bottom: 4px;\n",
              "    }\n",
              "\n",
              "    [theme=dark] .colab-df-convert {\n",
              "      background-color: #3B4455;\n",
              "      fill: #D2E3FC;\n",
              "    }\n",
              "\n",
              "    [theme=dark] .colab-df-convert:hover {\n",
              "      background-color: #434B5C;\n",
              "      box-shadow: 0px 1px 3px 1px rgba(0, 0, 0, 0.15);\n",
              "      filter: drop-shadow(0px 1px 2px rgba(0, 0, 0, 0.3));\n",
              "      fill: #FFFFFF;\n",
              "    }\n",
              "  </style>\n",
              "\n",
              "    <script>\n",
              "      const buttonEl =\n",
              "        document.querySelector('#df-2450346b-e38d-43c0-b88b-36594df40728 button.colab-df-convert');\n",
              "      buttonEl.style.display =\n",
              "        google.colab.kernel.accessAllowed ? 'block' : 'none';\n",
              "\n",
              "      async function convertToInteractive(key) {\n",
              "        const element = document.querySelector('#df-2450346b-e38d-43c0-b88b-36594df40728');\n",
              "        const dataTable =\n",
              "          await google.colab.kernel.invokeFunction('convertToInteractive',\n",
              "                                                    [key], {});\n",
              "        if (!dataTable) return;\n",
              "\n",
              "        const docLinkHtml = 'Like what you see? Visit the ' +\n",
              "          '<a target=\"_blank\" href=https://colab.research.google.com/notebooks/data_table.ipynb>data table notebook</a>'\n",
              "          + ' to learn more about interactive tables.';\n",
              "        element.innerHTML = '';\n",
              "        dataTable['output_type'] = 'display_data';\n",
              "        await google.colab.output.renderOutput(dataTable, element);\n",
              "        const docLink = document.createElement('div');\n",
              "        docLink.innerHTML = docLinkHtml;\n",
              "        element.appendChild(docLink);\n",
              "      }\n",
              "    </script>\n",
              "  </div>\n",
              "\n",
              "\n",
              "<div id=\"df-8cb75848-09f6-40af-afd0-0cf82b803b69\">\n",
              "  <button class=\"colab-df-quickchart\" onclick=\"quickchart('df-8cb75848-09f6-40af-afd0-0cf82b803b69')\"\n",
              "            title=\"Suggest charts.\"\n",
              "            style=\"display:none;\">\n",
              "\n",
              "<svg xmlns=\"http://www.w3.org/2000/svg\" height=\"24px\"viewBox=\"0 0 24 24\"\n",
              "     width=\"24px\">\n",
              "    <g>\n",
              "        <path d=\"M19 3H5c-1.1 0-2 .9-2 2v14c0 1.1.9 2 2 2h14c1.1 0 2-.9 2-2V5c0-1.1-.9-2-2-2zM9 17H7v-7h2v7zm4 0h-2V7h2v10zm4 0h-2v-4h2v4z\"/>\n",
              "    </g>\n",
              "</svg>\n",
              "  </button>\n",
              "\n",
              "<style>\n",
              "  .colab-df-quickchart {\n",
              "      --bg-color: #E8F0FE;\n",
              "      --fill-color: #1967D2;\n",
              "      --hover-bg-color: #E2EBFA;\n",
              "      --hover-fill-color: #174EA6;\n",
              "      --disabled-fill-color: #AAA;\n",
              "      --disabled-bg-color: #DDD;\n",
              "  }\n",
              "\n",
              "  [theme=dark] .colab-df-quickchart {\n",
              "      --bg-color: #3B4455;\n",
              "      --fill-color: #D2E3FC;\n",
              "      --hover-bg-color: #434B5C;\n",
              "      --hover-fill-color: #FFFFFF;\n",
              "      --disabled-bg-color: #3B4455;\n",
              "      --disabled-fill-color: #666;\n",
              "  }\n",
              "\n",
              "  .colab-df-quickchart {\n",
              "    background-color: var(--bg-color);\n",
              "    border: none;\n",
              "    border-radius: 50%;\n",
              "    cursor: pointer;\n",
              "    display: none;\n",
              "    fill: var(--fill-color);\n",
              "    height: 32px;\n",
              "    padding: 0;\n",
              "    width: 32px;\n",
              "  }\n",
              "\n",
              "  .colab-df-quickchart:hover {\n",
              "    background-color: var(--hover-bg-color);\n",
              "    box-shadow: 0 1px 2px rgba(60, 64, 67, 0.3), 0 1px 3px 1px rgba(60, 64, 67, 0.15);\n",
              "    fill: var(--button-hover-fill-color);\n",
              "  }\n",
              "\n",
              "  .colab-df-quickchart-complete:disabled,\n",
              "  .colab-df-quickchart-complete:disabled:hover {\n",
              "    background-color: var(--disabled-bg-color);\n",
              "    fill: var(--disabled-fill-color);\n",
              "    box-shadow: none;\n",
              "  }\n",
              "\n",
              "  .colab-df-spinner {\n",
              "    border: 2px solid var(--fill-color);\n",
              "    border-color: transparent;\n",
              "    border-bottom-color: var(--fill-color);\n",
              "    animation:\n",
              "      spin 1s steps(1) infinite;\n",
              "  }\n",
              "\n",
              "  @keyframes spin {\n",
              "    0% {\n",
              "      border-color: transparent;\n",
              "      border-bottom-color: var(--fill-color);\n",
              "      border-left-color: var(--fill-color);\n",
              "    }\n",
              "    20% {\n",
              "      border-color: transparent;\n",
              "      border-left-color: var(--fill-color);\n",
              "      border-top-color: var(--fill-color);\n",
              "    }\n",
              "    30% {\n",
              "      border-color: transparent;\n",
              "      border-left-color: var(--fill-color);\n",
              "      border-top-color: var(--fill-color);\n",
              "      border-right-color: var(--fill-color);\n",
              "    }\n",
              "    40% {\n",
              "      border-color: transparent;\n",
              "      border-right-color: var(--fill-color);\n",
              "      border-top-color: var(--fill-color);\n",
              "    }\n",
              "    60% {\n",
              "      border-color: transparent;\n",
              "      border-right-color: var(--fill-color);\n",
              "    }\n",
              "    80% {\n",
              "      border-color: transparent;\n",
              "      border-right-color: var(--fill-color);\n",
              "      border-bottom-color: var(--fill-color);\n",
              "    }\n",
              "    90% {\n",
              "      border-color: transparent;\n",
              "      border-bottom-color: var(--fill-color);\n",
              "    }\n",
              "  }\n",
              "</style>\n",
              "\n",
              "  <script>\n",
              "    async function quickchart(key) {\n",
              "      const quickchartButtonEl =\n",
              "        document.querySelector('#' + key + ' button');\n",
              "      quickchartButtonEl.disabled = true;  // To prevent multiple clicks.\n",
              "      quickchartButtonEl.classList.add('colab-df-spinner');\n",
              "      try {\n",
              "        const charts = await google.colab.kernel.invokeFunction(\n",
              "            'suggestCharts', [key], {});\n",
              "      } catch (error) {\n",
              "        console.error('Error during call to suggestCharts:', error);\n",
              "      }\n",
              "      quickchartButtonEl.classList.remove('colab-df-spinner');\n",
              "      quickchartButtonEl.classList.add('colab-df-quickchart-complete');\n",
              "    }\n",
              "    (() => {\n",
              "      let quickchartButtonEl =\n",
              "        document.querySelector('#df-8cb75848-09f6-40af-afd0-0cf82b803b69 button');\n",
              "      quickchartButtonEl.style.display =\n",
              "        google.colab.kernel.accessAllowed ? 'block' : 'none';\n",
              "    })();\n",
              "  </script>\n",
              "</div>\n",
              "    </div>\n",
              "  </div>\n"
            ]
          },
          "metadata": {},
          "execution_count": 93
        }
      ]
    },
    {
      "cell_type": "code",
      "source": [
        "df = df.drop(df[condition1 & condition2].index)"
      ],
      "metadata": {
        "id": "junu-6zycrj1"
      },
      "id": "junu-6zycrj1",
      "execution_count": 94,
      "outputs": []
    },
    {
      "cell_type": "code",
      "source": [
        "# Explore values with '<' realation. We can give label strong to all this records\n",
        "df[df['relation'] == '<']"
      ],
      "metadata": {
        "colab": {
          "base_uri": "https://localhost:8080/",
          "height": 143
        },
        "id": "j7PVechAZ1Rw",
        "outputId": "7045783d-0adf-409d-ff55-ad927d08a4e2"
      },
      "id": "j7PVechAZ1Rw",
      "execution_count": 95,
      "outputs": [
        {
          "output_type": "execute_result",
          "data": {
            "text/plain": [
              "                                       canonical_smiles molecule_chembl_id  \\\n",
              "1258                  CCCN1CC[C@H]2c3c(O)cccc3CC[C@H]21       CHEMBL430332   \n",
              "6197   CC(C)Oc1ccccc1N1CCN(Cc2cccc(C(=O)N3CCCCC3)c2)CC1        CHEMBL10085   \n",
              "12583               Cc1cc2c(s1)Nc1ccccc1N=C2N1CCN(C)CC1          CHEMBL715   \n",
              "\n",
              "      relation target_chembl_id target_organism      target_pref_name type  \\\n",
              "1258         <        CHEMBL217    Homo sapiens  Dopamine D2 receptor   Ki   \n",
              "6197         <        CHEMBL217    Homo sapiens  Dopamine D2 receptor   Ki   \n",
              "12583        <        CHEMBL217    Homo sapiens  Dopamine D2 receptor   Ki   \n",
              "\n",
              "      units  value  \n",
              "1258     nM   50.0  \n",
              "6197     nM    4.0  \n",
              "12583    nM   10.0  "
            ],
            "text/html": [
              "\n",
              "  <div id=\"df-efab72db-8c56-4a6c-acd2-e06270f2c67b\" class=\"colab-df-container\">\n",
              "    <div>\n",
              "<style scoped>\n",
              "    .dataframe tbody tr th:only-of-type {\n",
              "        vertical-align: middle;\n",
              "    }\n",
              "\n",
              "    .dataframe tbody tr th {\n",
              "        vertical-align: top;\n",
              "    }\n",
              "\n",
              "    .dataframe thead th {\n",
              "        text-align: right;\n",
              "    }\n",
              "</style>\n",
              "<table border=\"1\" class=\"dataframe\">\n",
              "  <thead>\n",
              "    <tr style=\"text-align: right;\">\n",
              "      <th></th>\n",
              "      <th>canonical_smiles</th>\n",
              "      <th>molecule_chembl_id</th>\n",
              "      <th>relation</th>\n",
              "      <th>target_chembl_id</th>\n",
              "      <th>target_organism</th>\n",
              "      <th>target_pref_name</th>\n",
              "      <th>type</th>\n",
              "      <th>units</th>\n",
              "      <th>value</th>\n",
              "    </tr>\n",
              "  </thead>\n",
              "  <tbody>\n",
              "    <tr>\n",
              "      <th>1258</th>\n",
              "      <td>CCCN1CC[C@H]2c3c(O)cccc3CC[C@H]21</td>\n",
              "      <td>CHEMBL430332</td>\n",
              "      <td>&lt;</td>\n",
              "      <td>CHEMBL217</td>\n",
              "      <td>Homo sapiens</td>\n",
              "      <td>Dopamine D2 receptor</td>\n",
              "      <td>Ki</td>\n",
              "      <td>nM</td>\n",
              "      <td>50.0</td>\n",
              "    </tr>\n",
              "    <tr>\n",
              "      <th>6197</th>\n",
              "      <td>CC(C)Oc1ccccc1N1CCN(Cc2cccc(C(=O)N3CCCCC3)c2)CC1</td>\n",
              "      <td>CHEMBL10085</td>\n",
              "      <td>&lt;</td>\n",
              "      <td>CHEMBL217</td>\n",
              "      <td>Homo sapiens</td>\n",
              "      <td>Dopamine D2 receptor</td>\n",
              "      <td>Ki</td>\n",
              "      <td>nM</td>\n",
              "      <td>4.0</td>\n",
              "    </tr>\n",
              "    <tr>\n",
              "      <th>12583</th>\n",
              "      <td>Cc1cc2c(s1)Nc1ccccc1N=C2N1CCN(C)CC1</td>\n",
              "      <td>CHEMBL715</td>\n",
              "      <td>&lt;</td>\n",
              "      <td>CHEMBL217</td>\n",
              "      <td>Homo sapiens</td>\n",
              "      <td>Dopamine D2 receptor</td>\n",
              "      <td>Ki</td>\n",
              "      <td>nM</td>\n",
              "      <td>10.0</td>\n",
              "    </tr>\n",
              "  </tbody>\n",
              "</table>\n",
              "</div>\n",
              "    <div class=\"colab-df-buttons\">\n",
              "\n",
              "  <div class=\"colab-df-container\">\n",
              "    <button class=\"colab-df-convert\" onclick=\"convertToInteractive('df-efab72db-8c56-4a6c-acd2-e06270f2c67b')\"\n",
              "            title=\"Convert this dataframe to an interactive table.\"\n",
              "            style=\"display:none;\">\n",
              "\n",
              "  <svg xmlns=\"http://www.w3.org/2000/svg\" height=\"24px\" viewBox=\"0 -960 960 960\">\n",
              "    <path d=\"M120-120v-720h720v720H120Zm60-500h600v-160H180v160Zm220 220h160v-160H400v160Zm0 220h160v-160H400v160ZM180-400h160v-160H180v160Zm440 0h160v-160H620v160ZM180-180h160v-160H180v160Zm440 0h160v-160H620v160Z\"/>\n",
              "  </svg>\n",
              "    </button>\n",
              "\n",
              "  <style>\n",
              "    .colab-df-container {\n",
              "      display:flex;\n",
              "      gap: 12px;\n",
              "    }\n",
              "\n",
              "    .colab-df-convert {\n",
              "      background-color: #E8F0FE;\n",
              "      border: none;\n",
              "      border-radius: 50%;\n",
              "      cursor: pointer;\n",
              "      display: none;\n",
              "      fill: #1967D2;\n",
              "      height: 32px;\n",
              "      padding: 0 0 0 0;\n",
              "      width: 32px;\n",
              "    }\n",
              "\n",
              "    .colab-df-convert:hover {\n",
              "      background-color: #E2EBFA;\n",
              "      box-shadow: 0px 1px 2px rgba(60, 64, 67, 0.3), 0px 1px 3px 1px rgba(60, 64, 67, 0.15);\n",
              "      fill: #174EA6;\n",
              "    }\n",
              "\n",
              "    .colab-df-buttons div {\n",
              "      margin-bottom: 4px;\n",
              "    }\n",
              "\n",
              "    [theme=dark] .colab-df-convert {\n",
              "      background-color: #3B4455;\n",
              "      fill: #D2E3FC;\n",
              "    }\n",
              "\n",
              "    [theme=dark] .colab-df-convert:hover {\n",
              "      background-color: #434B5C;\n",
              "      box-shadow: 0px 1px 3px 1px rgba(0, 0, 0, 0.15);\n",
              "      filter: drop-shadow(0px 1px 2px rgba(0, 0, 0, 0.3));\n",
              "      fill: #FFFFFF;\n",
              "    }\n",
              "  </style>\n",
              "\n",
              "    <script>\n",
              "      const buttonEl =\n",
              "        document.querySelector('#df-efab72db-8c56-4a6c-acd2-e06270f2c67b button.colab-df-convert');\n",
              "      buttonEl.style.display =\n",
              "        google.colab.kernel.accessAllowed ? 'block' : 'none';\n",
              "\n",
              "      async function convertToInteractive(key) {\n",
              "        const element = document.querySelector('#df-efab72db-8c56-4a6c-acd2-e06270f2c67b');\n",
              "        const dataTable =\n",
              "          await google.colab.kernel.invokeFunction('convertToInteractive',\n",
              "                                                    [key], {});\n",
              "        if (!dataTable) return;\n",
              "\n",
              "        const docLinkHtml = 'Like what you see? Visit the ' +\n",
              "          '<a target=\"_blank\" href=https://colab.research.google.com/notebooks/data_table.ipynb>data table notebook</a>'\n",
              "          + ' to learn more about interactive tables.';\n",
              "        element.innerHTML = '';\n",
              "        dataTable['output_type'] = 'display_data';\n",
              "        await google.colab.output.renderOutput(dataTable, element);\n",
              "        const docLink = document.createElement('div');\n",
              "        docLink.innerHTML = docLinkHtml;\n",
              "        element.appendChild(docLink);\n",
              "      }\n",
              "    </script>\n",
              "  </div>\n",
              "\n",
              "\n",
              "<div id=\"df-e51921fa-9065-44a1-8e1e-1a759c529ea4\">\n",
              "  <button class=\"colab-df-quickchart\" onclick=\"quickchart('df-e51921fa-9065-44a1-8e1e-1a759c529ea4')\"\n",
              "            title=\"Suggest charts.\"\n",
              "            style=\"display:none;\">\n",
              "\n",
              "<svg xmlns=\"http://www.w3.org/2000/svg\" height=\"24px\"viewBox=\"0 0 24 24\"\n",
              "     width=\"24px\">\n",
              "    <g>\n",
              "        <path d=\"M19 3H5c-1.1 0-2 .9-2 2v14c0 1.1.9 2 2 2h14c1.1 0 2-.9 2-2V5c0-1.1-.9-2-2-2zM9 17H7v-7h2v7zm4 0h-2V7h2v10zm4 0h-2v-4h2v4z\"/>\n",
              "    </g>\n",
              "</svg>\n",
              "  </button>\n",
              "\n",
              "<style>\n",
              "  .colab-df-quickchart {\n",
              "      --bg-color: #E8F0FE;\n",
              "      --fill-color: #1967D2;\n",
              "      --hover-bg-color: #E2EBFA;\n",
              "      --hover-fill-color: #174EA6;\n",
              "      --disabled-fill-color: #AAA;\n",
              "      --disabled-bg-color: #DDD;\n",
              "  }\n",
              "\n",
              "  [theme=dark] .colab-df-quickchart {\n",
              "      --bg-color: #3B4455;\n",
              "      --fill-color: #D2E3FC;\n",
              "      --hover-bg-color: #434B5C;\n",
              "      --hover-fill-color: #FFFFFF;\n",
              "      --disabled-bg-color: #3B4455;\n",
              "      --disabled-fill-color: #666;\n",
              "  }\n",
              "\n",
              "  .colab-df-quickchart {\n",
              "    background-color: var(--bg-color);\n",
              "    border: none;\n",
              "    border-radius: 50%;\n",
              "    cursor: pointer;\n",
              "    display: none;\n",
              "    fill: var(--fill-color);\n",
              "    height: 32px;\n",
              "    padding: 0;\n",
              "    width: 32px;\n",
              "  }\n",
              "\n",
              "  .colab-df-quickchart:hover {\n",
              "    background-color: var(--hover-bg-color);\n",
              "    box-shadow: 0 1px 2px rgba(60, 64, 67, 0.3), 0 1px 3px 1px rgba(60, 64, 67, 0.15);\n",
              "    fill: var(--button-hover-fill-color);\n",
              "  }\n",
              "\n",
              "  .colab-df-quickchart-complete:disabled,\n",
              "  .colab-df-quickchart-complete:disabled:hover {\n",
              "    background-color: var(--disabled-bg-color);\n",
              "    fill: var(--disabled-fill-color);\n",
              "    box-shadow: none;\n",
              "  }\n",
              "\n",
              "  .colab-df-spinner {\n",
              "    border: 2px solid var(--fill-color);\n",
              "    border-color: transparent;\n",
              "    border-bottom-color: var(--fill-color);\n",
              "    animation:\n",
              "      spin 1s steps(1) infinite;\n",
              "  }\n",
              "\n",
              "  @keyframes spin {\n",
              "    0% {\n",
              "      border-color: transparent;\n",
              "      border-bottom-color: var(--fill-color);\n",
              "      border-left-color: var(--fill-color);\n",
              "    }\n",
              "    20% {\n",
              "      border-color: transparent;\n",
              "      border-left-color: var(--fill-color);\n",
              "      border-top-color: var(--fill-color);\n",
              "    }\n",
              "    30% {\n",
              "      border-color: transparent;\n",
              "      border-left-color: var(--fill-color);\n",
              "      border-top-color: var(--fill-color);\n",
              "      border-right-color: var(--fill-color);\n",
              "    }\n",
              "    40% {\n",
              "      border-color: transparent;\n",
              "      border-right-color: var(--fill-color);\n",
              "      border-top-color: var(--fill-color);\n",
              "    }\n",
              "    60% {\n",
              "      border-color: transparent;\n",
              "      border-right-color: var(--fill-color);\n",
              "    }\n",
              "    80% {\n",
              "      border-color: transparent;\n",
              "      border-right-color: var(--fill-color);\n",
              "      border-bottom-color: var(--fill-color);\n",
              "    }\n",
              "    90% {\n",
              "      border-color: transparent;\n",
              "      border-bottom-color: var(--fill-color);\n",
              "    }\n",
              "  }\n",
              "</style>\n",
              "\n",
              "  <script>\n",
              "    async function quickchart(key) {\n",
              "      const quickchartButtonEl =\n",
              "        document.querySelector('#' + key + ' button');\n",
              "      quickchartButtonEl.disabled = true;  // To prevent multiple clicks.\n",
              "      quickchartButtonEl.classList.add('colab-df-spinner');\n",
              "      try {\n",
              "        const charts = await google.colab.kernel.invokeFunction(\n",
              "            'suggestCharts', [key], {});\n",
              "      } catch (error) {\n",
              "        console.error('Error during call to suggestCharts:', error);\n",
              "      }\n",
              "      quickchartButtonEl.classList.remove('colab-df-spinner');\n",
              "      quickchartButtonEl.classList.add('colab-df-quickchart-complete');\n",
              "    }\n",
              "    (() => {\n",
              "      let quickchartButtonEl =\n",
              "        document.querySelector('#df-e51921fa-9065-44a1-8e1e-1a759c529ea4 button');\n",
              "      quickchartButtonEl.style.display =\n",
              "        google.colab.kernel.accessAllowed ? 'block' : 'none';\n",
              "    })();\n",
              "  </script>\n",
              "</div>\n",
              "    </div>\n",
              "  </div>\n"
            ]
          },
          "metadata": {},
          "execution_count": 95
        }
      ]
    },
    {
      "cell_type": "code",
      "source": [
        "# Create dataframe for regression\n",
        "df_regression = df[df['relation']=='=']"
      ],
      "metadata": {
        "id": "MuwdJFWUSNnF"
      },
      "id": "MuwdJFWUSNnF",
      "execution_count": 96,
      "outputs": []
    },
    {
      "cell_type": "code",
      "source": [
        "# Create dataframe for classification\n",
        "df_classification = pd.DataFrame()\n",
        "grouped = df.groupby('relation')\n",
        "for name, group in grouped:\n",
        "  if name in ['=','~']:\n",
        "    group['activity'] = np.where(group['value'] < limit, 1, 0)\n",
        "  elif name in ['>','>=']:\n",
        "    group['activity'] = 0\n",
        "  elif name in ['<']:\n",
        "    group['activity'] = 1\n",
        "  df_classification = pd.concat([df_classification, group])"
      ],
      "metadata": {
        "id": "v3EupXbyWOO1"
      },
      "id": "v3EupXbyWOO1",
      "execution_count": 97,
      "outputs": []
    },
    {
      "cell_type": "code",
      "source": [
        "df_regression = df_regression.drop(['molecule_chembl_id', 'relation', \t'target_chembl_id', 'target_organism', \t'target_pref_name', \t'type', \t'units'], axis=1)"
      ],
      "metadata": {
        "id": "nTOCkRVafAOk"
      },
      "id": "nTOCkRVafAOk",
      "execution_count": 98,
      "outputs": []
    },
    {
      "cell_type": "code",
      "source": [
        "PandasTools.RenderImagesInAllDataFrames(images=True)\n",
        "PandasTools.AddMoleculeColumnToFrame(df_regression, smilesCol='canonical_smiles')"
      ],
      "metadata": {
        "id": "1pPVAW_KfYvK"
      },
      "id": "1pPVAW_KfYvK",
      "execution_count": 99,
      "outputs": []
    },
    {
      "cell_type": "code",
      "source": [
        "df_classification = df_classification.drop(['molecule_chembl_id', 'relation', \t'target_chembl_id', 'target_organism',\n",
        "                                            'target_pref_name', \t'type', \t'units', 'value'], axis=1)"
      ],
      "metadata": {
        "id": "LWO45bzNfus5"
      },
      "id": "LWO45bzNfus5",
      "execution_count": 100,
      "outputs": []
    },
    {
      "cell_type": "code",
      "source": [
        "PandasTools.AddMoleculeColumnToFrame(df_classification, smilesCol='canonical_smiles')"
      ],
      "metadata": {
        "id": "lzMu4wUwf4L-"
      },
      "id": "lzMu4wUwf4L-",
      "execution_count": 101,
      "outputs": []
    },
    {
      "cell_type": "code",
      "source": [
        "df_regression"
      ],
      "metadata": {
        "colab": {
          "base_uri": "https://localhost:8080/",
          "height": 1000
        },
        "id": "mfze4-sInPba",
        "outputId": "b697e5d1-adcc-48a1-8143-295bc29f471d"
      },
      "id": "mfze4-sInPba",
      "execution_count": 102,
      "outputs": [
        {
          "output_type": "execute_result",
          "data": {
            "text/plain": [
              "                                        canonical_smiles     value  \\\n",
              "2      NC(=O)[C@H]1CS[C@@H]2CC[C@]3(CCCN3C(=O)[C@@H]3...     0.067   \n",
              "3      NC(=O)[C@H]1CS[C@@H]2CC[C@]3(CCCN3C(=O)[C@@H]3...   190.000   \n",
              "6      NC(=O)[C@H]1CS[C@@H]2CC[C@]3(CCCN3C(=O)[C@@H]3...     0.196   \n",
              "7      NC(=O)[C@H]1CS[C@@H]2CC[C@]3(CCCN3C(=O)[C@@H]3...   260.000   \n",
              "10     NC(=O)[C@H]1CS[C@@H]2CC[C@]3(CCCN3C(=O)[C@@H]3...     0.050   \n",
              "...                                                  ...       ...   \n",
              "22034  CN1CCN(C(=O)C(C)(C)c2ccc(C(=O)Nc3cn4cc(-c5cc(C...  2752.000   \n",
              "22035    O=C(NNS(=O)(=O)c1ccccc1F)c1cc(F)cc(-c2ccccn2)c1   397.520   \n",
              "22036             CCN1CCCC1CNC(=O)c1cc(S(N)(=O)=O)ccc1OC     9.800   \n",
              "22037  O=C1C2C3CCC(C3)C2C(=O)N1CC1CCCCC1CN1CCN(c2nsc3...     1.700   \n",
              "22038         CCN1CCCC1CNC(=O)c1cc(S(=O)(=O)CC)c(N)cc1OC     3.000   \n",
              "\n",
              "                                                  ROMol  \n",
              "2      <rdkit.Chem.rdchem.Mol object at 0x7dd3d6777ed0>  \n",
              "3      <rdkit.Chem.rdchem.Mol object at 0x7dd3d6777bc0>  \n",
              "6      <rdkit.Chem.rdchem.Mol object at 0x7dd3d6777610>  \n",
              "7      <rdkit.Chem.rdchem.Mol object at 0x7dd3d6777d10>  \n",
              "10     <rdkit.Chem.rdchem.Mol object at 0x7dd3d6776c00>  \n",
              "...                                                 ...  \n",
              "22034  <rdkit.Chem.rdchem.Mol object at 0x7dd3d68e67a0>  \n",
              "22035  <rdkit.Chem.rdchem.Mol object at 0x7dd3d68e6810>  \n",
              "22036  <rdkit.Chem.rdchem.Mol object at 0x7dd3d68e6880>  \n",
              "22037  <rdkit.Chem.rdchem.Mol object at 0x7dd3d68e68f0>  \n",
              "22038  <rdkit.Chem.rdchem.Mol object at 0x7dd3d68e6960>  \n",
              "\n",
              "[7593 rows x 3 columns]"
            ],
            "text/html": [
              "\n",
              "  <div id=\"df-0459e13e-159e-4c1a-91a7-b1af217b85bc\" class=\"colab-df-container\">\n",
              "    <div>\n",
              "<style scoped>\n",
              "    .dataframe tbody tr th:only-of-type {\n",
              "        vertical-align: middle;\n",
              "    }\n",
              "\n",
              "    .dataframe tbody tr th {\n",
              "        vertical-align: top;\n",
              "    }\n",
              "\n",
              "    .dataframe thead th {\n",
              "        text-align: right;\n",
              "    }\n",
              "</style>\n",
              "<table border=\"1\" class=\"dataframe\">\n",
              "  <thead>\n",
              "    <tr style=\"text-align: right;\">\n",
              "      <th></th>\n",
              "      <th>canonical_smiles</th>\n",
              "      <th>value</th>\n",
              "      <th>ROMol</th>\n",
              "    </tr>\n",
              "  </thead>\n",
              "  <tbody>\n",
              "    <tr>\n",
              "      <th>2</th>\n",
              "      <td>NC(=O)[C@H]1CS[C@@H]2CC[C@]3(CCCN3C(=O)[C@@H]3...</td>\n",
              "      <td>0.067</td>\n",
              "      <td style=\"text-align: center;\"><div style=\"width: 200px; height: 200px\" data-content=\"rdkit/molecule\"><img src=\"data:image/png;base64,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\" alt=\"Mol\"/></div></td>\n",
              "    </tr>\n",
              "    <tr>\n",
              "      <th>3</th>\n",
              "      <td>NC(=O)[C@H]1CS[C@@H]2CC[C@]3(CCCN3C(=O)[C@@H]3...</td>\n",
              "      <td>190.000</td>\n",
              "      <td style=\"text-align: center;\"><div style=\"width: 200px; height: 200px\" data-content=\"rdkit/molecule\"><img src=\"data:image/png;base64,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\" alt=\"Mol\"/></div></td>\n",
              "    </tr>\n",
              "    <tr>\n",
              "      <th>6</th>\n",
              "      <td>NC(=O)[C@H]1CS[C@@H]2CC[C@]3(CCCN3C(=O)[C@@H]3...</td>\n",
              "      <td>0.196</td>\n",
              "      <td style=\"text-align: center;\"><div style=\"width: 200px; height: 200px\" data-content=\"rdkit/molecule\"><img src=\"data:image/png;base64,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\" alt=\"Mol\"/></div></td>\n",
              "    </tr>\n",
              "    <tr>\n",
              "      <th>7</th>\n",
              "      <td>NC(=O)[C@H]1CS[C@@H]2CC[C@]3(CCCN3C(=O)[C@@H]3...</td>\n",
              "      <td>260.000</td>\n",
              "      <td style=\"text-align: center;\"><div style=\"width: 200px; height: 200px\" data-content=\"rdkit/molecule\"><img src=\"data:image/png;base64,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\" alt=\"Mol\"/></div></td>\n",
              "    </tr>\n",
              "    <tr>\n",
              "      <th>10</th>\n",
              "      <td>NC(=O)[C@H]1CS[C@@H]2CC[C@]3(CCCN3C(=O)[C@@H]3...</td>\n",
              "      <td>0.050</td>\n",
              "      <td style=\"text-align: center;\"><div style=\"width: 200px; height: 200px\" data-content=\"rdkit/molecule\"><img src=\"data:image/png;base64,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\" alt=\"Mol\"/></div></td>\n",
              "    </tr>\n",
              "    <tr>\n",
              "      <th>...</th>\n",
              "      <td>...</td>\n",
              "      <td>...</td>\n",
              "      <td>...</td>\n",
              "    </tr>\n",
              "    <tr>\n",
              "      <th>22034</th>\n",
              "      <td>CN1CCN(C(=O)C(C)(C)c2ccc(C(=O)Nc3cn4cc(-c5cc(C...</td>\n",
              "      <td>2752.000</td>\n",
              "      <td style=\"text-align: center;\"><div style=\"width: 200px; height: 200px\" data-content=\"rdkit/molecule\"><img src=\"data:image/png;base64,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\" alt=\"Mol\"/></div></td>\n",
              "    </tr>\n",
              "    <tr>\n",
              "      <th>22035</th>\n",
              "      <td>O=C(NNS(=O)(=O)c1ccccc1F)c1cc(F)cc(-c2ccccn2)c1</td>\n",
              "      <td>397.520</td>\n",
              "      <td style=\"text-align: center;\"><div style=\"width: 200px; height: 200px\" data-content=\"rdkit/molecule\"><img src=\"data:image/png;base64,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\" alt=\"Mol\"/></div></td>\n",
              "    </tr>\n",
              "    <tr>\n",
              "      <th>22036</th>\n",
              "      <td>CCN1CCCC1CNC(=O)c1cc(S(N)(=O)=O)ccc1OC</td>\n",
              "      <td>9.800</td>\n",
              "      <td style=\"text-align: center;\"><div style=\"width: 200px; height: 200px\" data-content=\"rdkit/molecule\"><img src=\"data:image/png;base64,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\" alt=\"Mol\"/></div></td>\n",
              "    </tr>\n",
              "    <tr>\n",
              "      <th>22037</th>\n",
              "      <td>O=C1C2C3CCC(C3)C2C(=O)N1CC1CCCCC1CN1CCN(c2nsc3...</td>\n",
              "      <td>1.700</td>\n",
              "      <td style=\"text-align: center;\"><div style=\"width: 200px; height: 200px\" data-content=\"rdkit/molecule\"><img src=\"data:image/png;base64,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\" alt=\"Mol\"/></div></td>\n",
              "    </tr>\n",
              "    <tr>\n",
              "      <th>22038</th>\n",
              "      <td>CCN1CCCC1CNC(=O)c1cc(S(=O)(=O)CC)c(N)cc1OC</td>\n",
              "      <td>3.000</td>\n",
              "      <td style=\"text-align: center;\"><div style=\"width: 200px; height: 200px\" data-content=\"rdkit/molecule\"><img src=\"data:image/png;base64,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\" alt=\"Mol\"/></div></td>\n",
              "    </tr>\n",
              "  </tbody>\n",
              "</table>\n",
              "<p>7593 rows × 3 columns</p>\n",
              "</div>\n",
              "    <div class=\"colab-df-buttons\">\n",
              "\n",
              "  <div class=\"colab-df-container\">\n",
              "    <button class=\"colab-df-convert\" onclick=\"convertToInteractive('df-0459e13e-159e-4c1a-91a7-b1af217b85bc')\"\n",
              "            title=\"Convert this dataframe to an interactive table.\"\n",
              "            style=\"display:none;\">\n",
              "\n",
              "  <svg xmlns=\"http://www.w3.org/2000/svg\" height=\"24px\" viewBox=\"0 -960 960 960\">\n",
              "    <path d=\"M120-120v-720h720v720H120Zm60-500h600v-160H180v160Zm220 220h160v-160H400v160Zm0 220h160v-160H400v160ZM180-400h160v-160H180v160Zm440 0h160v-160H620v160ZM180-180h160v-160H180v160Zm440 0h160v-160H620v160Z\"/>\n",
              "  </svg>\n",
              "    </button>\n",
              "\n",
              "  <style>\n",
              "    .colab-df-container {\n",
              "      display:flex;\n",
              "      gap: 12px;\n",
              "    }\n",
              "\n",
              "    .colab-df-convert {\n",
              "      background-color: #E8F0FE;\n",
              "      border: none;\n",
              "      border-radius: 50%;\n",
              "      cursor: pointer;\n",
              "      display: none;\n",
              "      fill: #1967D2;\n",
              "      height: 32px;\n",
              "      padding: 0 0 0 0;\n",
              "      width: 32px;\n",
              "    }\n",
              "\n",
              "    .colab-df-convert:hover {\n",
              "      background-color: #E2EBFA;\n",
              "      box-shadow: 0px 1px 2px rgba(60, 64, 67, 0.3), 0px 1px 3px 1px rgba(60, 64, 67, 0.15);\n",
              "      fill: #174EA6;\n",
              "    }\n",
              "\n",
              "    .colab-df-buttons div {\n",
              "      margin-bottom: 4px;\n",
              "    }\n",
              "\n",
              "    [theme=dark] .colab-df-convert {\n",
              "      background-color: #3B4455;\n",
              "      fill: #D2E3FC;\n",
              "    }\n",
              "\n",
              "    [theme=dark] .colab-df-convert:hover {\n",
              "      background-color: #434B5C;\n",
              "      box-shadow: 0px 1px 3px 1px rgba(0, 0, 0, 0.15);\n",
              "      filter: drop-shadow(0px 1px 2px rgba(0, 0, 0, 0.3));\n",
              "      fill: #FFFFFF;\n",
              "    }\n",
              "  </style>\n",
              "\n",
              "    <script>\n",
              "      const buttonEl =\n",
              "        document.querySelector('#df-0459e13e-159e-4c1a-91a7-b1af217b85bc button.colab-df-convert');\n",
              "      buttonEl.style.display =\n",
              "        google.colab.kernel.accessAllowed ? 'block' : 'none';\n",
              "\n",
              "      async function convertToInteractive(key) {\n",
              "        const element = document.querySelector('#df-0459e13e-159e-4c1a-91a7-b1af217b85bc');\n",
              "        const dataTable =\n",
              "          await google.colab.kernel.invokeFunction('convertToInteractive',\n",
              "                                                    [key], {});\n",
              "        if (!dataTable) return;\n",
              "\n",
              "        const docLinkHtml = 'Like what you see? Visit the ' +\n",
              "          '<a target=\"_blank\" href=https://colab.research.google.com/notebooks/data_table.ipynb>data table notebook</a>'\n",
              "          + ' to learn more about interactive tables.';\n",
              "        element.innerHTML = '';\n",
              "        dataTable['output_type'] = 'display_data';\n",
              "        await google.colab.output.renderOutput(dataTable, element);\n",
              "        const docLink = document.createElement('div');\n",
              "        docLink.innerHTML = docLinkHtml;\n",
              "        element.appendChild(docLink);\n",
              "      }\n",
              "    </script>\n",
              "  </div>\n",
              "\n",
              "\n",
              "<div id=\"df-e7666d1f-0abd-448b-8bbd-3e5de85692de\">\n",
              "  <button class=\"colab-df-quickchart\" onclick=\"quickchart('df-e7666d1f-0abd-448b-8bbd-3e5de85692de')\"\n",
              "            title=\"Suggest charts.\"\n",
              "            style=\"display:none;\">\n",
              "\n",
              "<svg xmlns=\"http://www.w3.org/2000/svg\" height=\"24px\"viewBox=\"0 0 24 24\"\n",
              "     width=\"24px\">\n",
              "    <g>\n",
              "        <path d=\"M19 3H5c-1.1 0-2 .9-2 2v14c0 1.1.9 2 2 2h14c1.1 0 2-.9 2-2V5c0-1.1-.9-2-2-2zM9 17H7v-7h2v7zm4 0h-2V7h2v10zm4 0h-2v-4h2v4z\"/>\n",
              "    </g>\n",
              "</svg>\n",
              "  </button>\n",
              "\n",
              "<style>\n",
              "  .colab-df-quickchart {\n",
              "      --bg-color: #E8F0FE;\n",
              "      --fill-color: #1967D2;\n",
              "      --hover-bg-color: #E2EBFA;\n",
              "      --hover-fill-color: #174EA6;\n",
              "      --disabled-fill-color: #AAA;\n",
              "      --disabled-bg-color: #DDD;\n",
              "  }\n",
              "\n",
              "  [theme=dark] .colab-df-quickchart {\n",
              "      --bg-color: #3B4455;\n",
              "      --fill-color: #D2E3FC;\n",
              "      --hover-bg-color: #434B5C;\n",
              "      --hover-fill-color: #FFFFFF;\n",
              "      --disabled-bg-color: #3B4455;\n",
              "      --disabled-fill-color: #666;\n",
              "  }\n",
              "\n",
              "  .colab-df-quickchart {\n",
              "    background-color: var(--bg-color);\n",
              "    border: none;\n",
              "    border-radius: 50%;\n",
              "    cursor: pointer;\n",
              "    display: none;\n",
              "    fill: var(--fill-color);\n",
              "    height: 32px;\n",
              "    padding: 0;\n",
              "    width: 32px;\n",
              "  }\n",
              "\n",
              "  .colab-df-quickchart:hover {\n",
              "    background-color: var(--hover-bg-color);\n",
              "    box-shadow: 0 1px 2px rgba(60, 64, 67, 0.3), 0 1px 3px 1px rgba(60, 64, 67, 0.15);\n",
              "    fill: var(--button-hover-fill-color);\n",
              "  }\n",
              "\n",
              "  .colab-df-quickchart-complete:disabled,\n",
              "  .colab-df-quickchart-complete:disabled:hover {\n",
              "    background-color: var(--disabled-bg-color);\n",
              "    fill: var(--disabled-fill-color);\n",
              "    box-shadow: none;\n",
              "  }\n",
              "\n",
              "  .colab-df-spinner {\n",
              "    border: 2px solid var(--fill-color);\n",
              "    border-color: transparent;\n",
              "    border-bottom-color: var(--fill-color);\n",
              "    animation:\n",
              "      spin 1s steps(1) infinite;\n",
              "  }\n",
              "\n",
              "  @keyframes spin {\n",
              "    0% {\n",
              "      border-color: transparent;\n",
              "      border-bottom-color: var(--fill-color);\n",
              "      border-left-color: var(--fill-color);\n",
              "    }\n",
              "    20% {\n",
              "      border-color: transparent;\n",
              "      border-left-color: var(--fill-color);\n",
              "      border-top-color: var(--fill-color);\n",
              "    }\n",
              "    30% {\n",
              "      border-color: transparent;\n",
              "      border-left-color: var(--fill-color);\n",
              "      border-top-color: var(--fill-color);\n",
              "      border-right-color: var(--fill-color);\n",
              "    }\n",
              "    40% {\n",
              "      border-color: transparent;\n",
              "      border-right-color: var(--fill-color);\n",
              "      border-top-color: var(--fill-color);\n",
              "    }\n",
              "    60% {\n",
              "      border-color: transparent;\n",
              "      border-right-color: var(--fill-color);\n",
              "    }\n",
              "    80% {\n",
              "      border-color: transparent;\n",
              "      border-right-color: var(--fill-color);\n",
              "      border-bottom-color: var(--fill-color);\n",
              "    }\n",
              "    90% {\n",
              "      border-color: transparent;\n",
              "      border-bottom-color: var(--fill-color);\n",
              "    }\n",
              "  }\n",
              "</style>\n",
              "\n",
              "  <script>\n",
              "    async function quickchart(key) {\n",
              "      const quickchartButtonEl =\n",
              "        document.querySelector('#' + key + ' button');\n",
              "      quickchartButtonEl.disabled = true;  // To prevent multiple clicks.\n",
              "      quickchartButtonEl.classList.add('colab-df-spinner');\n",
              "      try {\n",
              "        const charts = await google.colab.kernel.invokeFunction(\n",
              "            'suggestCharts', [key], {});\n",
              "      } catch (error) {\n",
              "        console.error('Error during call to suggestCharts:', error);\n",
              "      }\n",
              "      quickchartButtonEl.classList.remove('colab-df-spinner');\n",
              "      quickchartButtonEl.classList.add('colab-df-quickchart-complete');\n",
              "    }\n",
              "    (() => {\n",
              "      let quickchartButtonEl =\n",
              "        document.querySelector('#df-e7666d1f-0abd-448b-8bbd-3e5de85692de button');\n",
              "      quickchartButtonEl.style.display =\n",
              "        google.colab.kernel.accessAllowed ? 'block' : 'none';\n",
              "    })();\n",
              "  </script>\n",
              "</div>\n",
              "    </div>\n",
              "  </div>\n"
            ]
          },
          "metadata": {},
          "execution_count": 102
        }
      ]
    },
    {
      "cell_type": "code",
      "source": [
        "df_classification"
      ],
      "metadata": {
        "colab": {
          "base_uri": "https://localhost:8080/",
          "height": 1000
        },
        "id": "P9bHk05JnPWi",
        "outputId": "247c1351-768d-4887-a617-9e40507c6e2a"
      },
      "id": "P9bHk05JnPWi",
      "execution_count": 103,
      "outputs": [
        {
          "output_type": "execute_result",
          "data": {
            "text/plain": [
              "                                        canonical_smiles  activity  \\\n",
              "1258                   CCCN1CC[C@H]2c3c(O)cccc3CC[C@H]21         1   \n",
              "6197    CC(C)Oc1ccccc1N1CCN(Cc2cccc(C(=O)N3CCCCC3)c2)CC1         1   \n",
              "12583                Cc1cc2c(s1)Nc1ccccc1N=C2N1CCN(C)CC1         1   \n",
              "2      NC(=O)[C@H]1CS[C@@H]2CC[C@]3(CCCN3C(=O)[C@@H]3...         1   \n",
              "3      NC(=O)[C@H]1CS[C@@H]2CC[C@]3(CCCN3C(=O)[C@@H]3...         1   \n",
              "...                                                  ...       ...   \n",
              "22018                               Clc1cccc(N2CCNCC2)c1         0   \n",
              "7609      O=C(Cc1ccccc1)NC1CCN(CCCN2C(=O)COc3ccccc32)CC1         0   \n",
              "7611      O=C(Cc1ccccc1)NC1CCN(CCCN2C(=O)COc3ccccc32)CC1         0   \n",
              "7612                     CCCCC1CCN(CCCC(=O)c2ccccc2C)CC1         0   \n",
              "18452  COc1ccc(N2CCN(CCCCNC(=O)c3ccc(-c4ccsc4)cc3)CC2...         0   \n",
              "\n",
              "                                                  ROMol  \n",
              "1258   <rdkit.Chem.rdchem.Mol object at 0x7dd3d67775a0>  \n",
              "6197   <rdkit.Chem.rdchem.Mol object at 0x7dd3d68e6a40>  \n",
              "12583  <rdkit.Chem.rdchem.Mol object at 0x7dd3d68e6ab0>  \n",
              "2      <rdkit.Chem.rdchem.Mol object at 0x7dd3d68e6b20>  \n",
              "3      <rdkit.Chem.rdchem.Mol object at 0x7dd3d68e6b90>  \n",
              "...                                                 ...  \n",
              "22018  <rdkit.Chem.rdchem.Mol object at 0x7dd3d6514430>  \n",
              "7609   <rdkit.Chem.rdchem.Mol object at 0x7dd3d65144a0>  \n",
              "7611   <rdkit.Chem.rdchem.Mol object at 0x7dd3d6514510>  \n",
              "7612   <rdkit.Chem.rdchem.Mol object at 0x7dd3d6514580>  \n",
              "18452  <rdkit.Chem.rdchem.Mol object at 0x7dd3d65145f0>  \n",
              "\n",
              "[8329 rows x 3 columns]"
            ],
            "text/html": [
              "\n",
              "  <div id=\"df-72ca8091-bca1-420b-92aa-615191a79eb4\" class=\"colab-df-container\">\n",
              "    <div>\n",
              "<style scoped>\n",
              "    .dataframe tbody tr th:only-of-type {\n",
              "        vertical-align: middle;\n",
              "    }\n",
              "\n",
              "    .dataframe tbody tr th {\n",
              "        vertical-align: top;\n",
              "    }\n",
              "\n",
              "    .dataframe thead th {\n",
              "        text-align: right;\n",
              "    }\n",
              "</style>\n",
              "<table border=\"1\" class=\"dataframe\">\n",
              "  <thead>\n",
              "    <tr style=\"text-align: right;\">\n",
              "      <th></th>\n",
              "      <th>canonical_smiles</th>\n",
              "      <th>activity</th>\n",
              "      <th>ROMol</th>\n",
              "    </tr>\n",
              "  </thead>\n",
              "  <tbody>\n",
              "    <tr>\n",
              "      <th>1258</th>\n",
              "      <td>CCCN1CC[C@H]2c3c(O)cccc3CC[C@H]21</td>\n",
              "      <td>1</td>\n",
              "      <td style=\"text-align: center;\"><div style=\"width: 200px; height: 200px\" data-content=\"rdkit/molecule\"><img src=\"data:image/png;base64,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\" alt=\"Mol\"/></div></td>\n",
              "    </tr>\n",
              "    <tr>\n",
              "      <th>6197</th>\n",
              "      <td>CC(C)Oc1ccccc1N1CCN(Cc2cccc(C(=O)N3CCCCC3)c2)CC1</td>\n",
              "      <td>1</td>\n",
              "      <td style=\"text-align: center;\"><div style=\"width: 200px; height: 200px\" data-content=\"rdkit/molecule\"><img src=\"data:image/png;base64,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\" alt=\"Mol\"/></div></td>\n",
              "    </tr>\n",
              "    <tr>\n",
              "      <th>12583</th>\n",
              "      <td>Cc1cc2c(s1)Nc1ccccc1N=C2N1CCN(C)CC1</td>\n",
              "      <td>1</td>\n",
              "      <td style=\"text-align: center;\"><div style=\"width: 200px; height: 200px\" data-content=\"rdkit/molecule\"><img src=\"data:image/png;base64,iVBORw0KGgoAAAANSUhEUgAAAMgAAADICAIAAAAiOjnJAAAABmJLR0QA/wD/AP+gvaeTAAAgAElEQVR4nO2deVgUV7rG36KbZlcW2VSUuCIYExUVRcboaCAjbkSyjGKu0SHGEEbzaHBu9HYWo7iNJEpcYlSCGoPGREzQAZco0RjTiFEwIjvIokizb72d+8fBtkUUGqq6GqZ+j3/Qh6pz3vZ5+erUWb7DEEIgIMA2JnwLEOieCMYS4ATBWAKcIBhLgBMEYwlwgmAsAU4QjCXACYKxugkqlSo7O5tvFQ8RjNVNOHTokIeHx5o1a/gW0oxgrO6AWq1et26dSqUaMmQI31qaEYzVHThy5EhGRsaAAQNef/11vrU0Ixiry0MIWb9+PYB//etfYrGYbznNMMIkdFfn+++/DwoKcnNzy8rKkkgkfMtpRohYXR4ariIiIozHVRAiVlcnISFh+vTpLi4uOTk5FhYWfMt5iBCxujY0XK1cudKoXAUhYnVpzp27OGXKREdHx9zcXCsrK77lPIKxvEQIdIBPPpkwZkz8vHlVxuYqCBGr6/Lrr5gwAT17Ii8PtrZ8q3kMoY/VVfnoIwBYtswYXQUhYnVRrl6FtzdsbJCbC3t7vtW0hhCxuiQffQRC8M47RuoqCBGrK/LHHxg5EhYWyM2FkxPfap6AELG6Hp9+CkKwZInxugpCxOpy/Pknhg+HqSmys9GnD99qnowQsboYn34KjQaLFxu1qyAMkHY5lixBZSXef59vHW0hRCzjJSICb72FoqJHClUq9OkDo1l29UQEYxkvBw9i924sW/ZIYXo6du9GRQVPmtqNYCyjxsEBR48iIYFvHfojGMuo+etfMW4cwsJQX8+3FD0RjGXUMAy2b0d+Ptau5VuKngjGMi7q6lBYiD/+gELRXOLtjfnzsXkz0tN5VaYnRv920S2oqamRy+Vyuby8vFwul9fWmpeWzpTL8fi/pqbmW27efHj7xo2Ij8fbb+P8eV7kdwTBWCxTWVm5cOHCxsZGrZnkcrlSqdS9pk+fCUVFM1u93coK9vawt4dK9bDQ2Rlr1yIsDN98w6l2NhGMxTJ+fn5paWktCm1sbOwf4ODg4OzsbmPTbKAW/8zMWq92yRLs24dVqxAezvlXYAXBWGxSWlp6+/ZtAGvWrPH399eaydTUtJM1i0TYsQM+PvjiCzaEco9gLDbZsGGDQqEIDg7++OOPWa98zBj84x/YtYv1ijlBeCtkjfv37+/Zs4dhmNWrV3PUxPr1Rr1URhchYrHG5s2ba2trZ82aNWLECFYq3LkTvXo9UmJnh1OnkJUFJydUVaFnT1ba4QRhPRY7yOVyd3f3mpqaK1eujBkzhtO20tPx2mvw9MS333LaTqcQHoXs8Nlnn9XU1AQEBHDtKgBWVsjPR1wc4uK4bqrjCBGLBaqrq93d3SsqKpKTkydOnGiAFnfvxltvwcEBaWlwcTFAg3ojRCwW2L59e0VFxeTJkw3jKgChoXjpJZSXIzTUMA3qjRCxOktdXd0zzzxTVlZ25syZKVOmGKzd4mIMH46KCnz9NUJCDNZsexEiVmfZuXNnWVmZj4+PIV0FoHdvREUBwLvvorDQkC23DyLQCRoaGnr37g0gISGBFwFBQQQg06YRjYaX9p+IELE6xZ49e4qLi0eOHBkQEMCLgOhoODggKQlffaXhRcAT4dvZXRiFQtG/f38A33//PY8yDh8mo0efGjTIIysri0cZLRCM1XF2794NwMvLS61W86skODgYwJQpUzRG80QUjNVBVCrV4MGDARw+fJhvLaSsrMzFxQXAtm3b+NbSjGCsDhITEwNg8ODBKpWKby2EEHL8+HEAlpaWt2/f5lsLIYKxOoZarfby8gIQExPDt5aHhISEABg/frwxeF0wVkc4fPgwgAEDBiiVSr61PKSystLNzQ3A5s2b+dYiGEt/NBoNXRize/duvrW0JDExkWEYMzOztLQ0fpUIxtKb77//HoCbm1tTUxPfWlph8eLFAEaMGFFfX8+jDMFYekMXxhjP+1cLqqqqLCwsJBJJYmIijzKEFaT6cfLkyd9//93FxWXRokV8a2mdkpKSxsZGQkhPXheYClM6+rFu3ToAK1asMLYjRrRs2rSJEBIUFDR27Fg+dfAYLbscmzdvBtCjR4+amhq+tbROQUGBRCIRiUS8j2YJEUsPfv31VwBubm7W1tZ8a2mdyMhIhULx+uuv01kBHhGMpQejRo0CUFhYWFBQwLeWVigtLd23b5+JiUlERATfWoRHoZ4Y4XSvluXLlwMIDg7mWwghwnCDvpSVlTk7OwOIjo7mW8sj3L9/39rammGYlJQUvrUQIhirA/zwww8wpuleyqpVqwDMnDmTbyHNCMbqCH//+98BTJgwwRimewkhlZWVdNTqypUrfGtpRjBWR6ioqOjbty+Af//733xrIYQQqVQKwN/fn28hDxGM1UGMZ7q3qqrKzs4OwIULF/hVoosw3NBBpk2btnDhQrHYdMOG22o1n0qio6MrKipeeOEFPz8/PnW0gG9nd2EqKyvHjcsByPr1vGmoq6tzcnICcPr0ad5EtIZgrE5x5gxhGGJmRq5f50fAli1bAPj4+PDT/JMRjNVZ3n6bAOT554nhV2c1NjbS7bI//fSTodtuC6GP1Vk2bcKgQbh2DevWGbpp7XbZl156ydBttwnfzu4O/PILEYmIWEwMOYqk3S577Ngxw7XaboSIxQK+vggPh0qFN95AY6OBGo2JicnPz/f09Jw1a5aBmtQLvp3dTWhsJF5eBCCrVhmiOe122W+++cYQ7emPELHYwcwMe/ZAJMLBg6ir47y5Q4cOZWZmDho0iK62MEIEY7GGjw8OHcK1a7Cy4rYhjUazYcMGAKtXrxaJRNw21lEEY7HJK68gOhoMA3//R8pVKjAM/vlPdlo5evRoenr6gAED5s2bx06NHCAYixMSE7lKaUwI+fTTTwFERESIjfhoaMFYnODnh2XLUFXFfs2ffPLJ9evX+/Tp88Ybb7BfO3sYr+W7NBs2YNIkrF6NbdvadT0hzecVVlVVlZVdkj+Z+/fvA/Dz8zN70kFhxoFgLE4YNgxLl2LbNsybBx+fh+U//4yff255+GV5OeTy5guefdbkxo2/Pb1yb2/v6OhozrSzg2Asrvj4Y8TFISwMv/32sPDcOTzpXDB6XmG/fqK+fV+yfyomJl2gAyMYiyt69MDGjQgJwY4dWLKkuXDqVDAMHBxaOQKTYegllkACb6LZQzAWh8ybh7178X//h7lzm0v8/GBUq/G4owsE1a4Lw2DbNtTWYu1avqUYHMFY3OLlhWXLsHs33zoMjmAszvnwQ/TuzbcIgyMYi2UsLGBnp+2JA4ClJbZsgZ0djDXxEScIp3+xTGoq6uvh68u3Dr4RIhbLrFiBiRMRE8O3Dr4RIhabXL6M8ePRsyfy8mBry7caXhEiFpvQUfV//vO/3VUQIhaLpKZi9GhYWiIvD7168a2Gb4SIxRoffwxCEBYmuAoQIhZbpKdjxAhIJMjJgasr32qMACFiscPHH0OjwZIlgquaESIWC2RmYtgwiMXIzkafPnyrMQ6EiMUCu3YVaTRYuFBw1UOEiNVZcnJyhg4d6uHx+okTe93dhWVIzQgRq7OsX79epVKNHWsquEoXIWJ1isLCwkGDBqnV6ps3bw4ZMoRvOUZEt41Y48Zh4ECkpDxSuG8fBg5Ebi5rrWzYsIEeMSK4qgXd1lj5+cjJwVtvQTdBaFUVcnKgVLLTRGlp6d69e43liBEjo9saC4CHB65exRdfcFX/xo0bGxoaXn755eHDh3PVRpelOxvL2xtz52L1ahQXs195eXn5l19+yTAMPRJCoAXd2VgAtmyBSoX33mO/5s2bN9fW1s6YMYMeCSbQgm7+huzmhpUr8dFH+J//QUDAw/IxYyCXQyRCjx6t3zh06PqMjO9a/ZWlpaWpqemlS5cArF69mn3R3YJubiwAq1bhwAGEhSEt7WFhbi7Ky592l6VlfkqLV8pHcXV1vXfvXlNTE0syuxvd31jm5vjiC/j749//hqVlc2FKCtRqqNWorm79LhOT/9Vo/tHqr+rr65uamr7++uvY2Ni5c+empKT0EaZyHoe/LJXc4uxM5s9/+DEoiFhbk1WrCEAyMlioX6VS+fv7A/Dx8aGnxgvo0m1H3l1cMG0aYmObPxYUwNMTIhGqq5GRgR07UF//xHudnGLu3buk/WhhYWFubq796OnpuWDBAgByudzb2zs3N/ftt9/+grtRjS4K387mihYRixASGUmA5ojVs2fzz63+mzjxaTnNZs+era0zNTXVwsICwJ49ewz9DY2b/5aIBUClwqhRuHEDGRm4dAkKxRPvtbT8ub7+tvZjQ0NDo0769iFDhsyZM0f7MTY2dsGCBebm5hcuXBgzZgy736ILw7ezWUahIBs3ksZGkpdH7t5t+Vu5nGRnE4WC5UaXLFkCwM3N7d69eyxX3WXpbsZaupQAZO5cgzaqUCjoWYFTpkxRKpUGbdtY6VbG2r+fAMTc3KBn2lBKSkroQVwrV640dNtGSfcx1q+/EjMzApCvvuJHwKVLlyQSCcMwhw8f5keBMdFNjFVSQvr0IQBZvpxPGZ9//jkAKyurGzdu8KnDCOgOxlIoiJ8fAciUKYT3Hs7ChQsBDB48uKKigmcpvMKtse7du3f06NGamhpOW/nHPwhA+vcnxvBO1tDQMHr0aACBgYFqtZpvObzBobFiYmLoEUIikSgwMDAmJqayspL1VnbtUgHE0pKkprJedwfJy8vr1asXgA8//JBvLbzBlbFOnTplaWkJQDcpuUQi8ff337lzZ3FxMSutXLx4sV+/8V5eNcZ2at/p06dFIhHDMMZ5/KkB4MRYx44dowdyzJ07t7GxMT8/f9euXYGBgaamplqTeXp6SqXS9PT0DrdSWFjo7OwMICLif1kUzxbr1q0DYGNjc/PmTb618AD7xvriiy9olAoPD9doNLq/Ki8vj4uLCwkJsbGx0TpswIAB4eHhycnJevVIGhoaxo4dC2Dq1KkqlYrtL8ECGo2GnlLp4eFRVVXFtxxDw7KxIiMjATAMExkZqS1MTExs4ZuGhob4+PjQ0FAXFxetwxwdHUNCQuLj49uzCuXNN98E4O7uXlZWxu5XYJGamhovLy8Ac+bMafE31u1hzVgajea9996jXfXdu3fr/ur5558H4ODgEBISEhcXV1tbq/2VSqVKTk6OiIjQ3ZdnaWn59M7+1q1bAVhbWxv/cFFGRkbPnj0BbNq0iYv6796929TUxEXNnYQdYymVSjp+Y2ZmduTIEd1fqVSqlStXDho0SOsba2vruXPnxsbGyuVy3SvT0tIiIyN9fX2ZB8msRSKRr69vVFTUnTt3tJclJyebmpoyDPPtt9+yIp5rjh8/zjCMSCQ6deqUvvfK5fK0tLTk5OS4uLioqCipVBoeHh4cHOzr6+vp6WltbQ3A1dX18uXLXCjvDCwYq66u7m9/+xt1TGJi4pMuy87OjoqKatU3BQUFulfm5eU9qbOflJTk6OgIYM2aNZ1XbjA++OADAPb29jk5OdrCsrKymzdvnj9//siRI9u3b5dKpUuXLg0KCvLz8/Pw8LCzs2v/EhVfX18ev12rdHY9VmVl5YwZM3755RcnJ6eTJ0+2Zy/UvXv3Tp06deTIkcTERMWDVVGenp7BwcEzZsygo4uU8vLyEydOHD9+PDExsV5nxef06dPj4+O7xOlqFI1GM3369FOnTrm6ujo6OpaVlZWVlalUqqffJRaLHR0dHR0dnZ2dnZyc6M8uLi66hSdPngwODra1tb1z544V16ec60OnjFVaWhoQEPDHH3/0798/MTFR3/wFlZWVSUlJ1DrVD3Y1uLu7z5w5c8aMGS+88IL2zOP6+vrExMQffvjh2LFjtbW1N27coJ3iLoRcLh86dKhara6oqKAl5ubmdnZ2vXv3dnV11f1B+7Ozs3N7DqkfP3785cuXv/zyy8WLF3P8JfShw7EuJyeH9pyGDRtWWFjYmbDZ0NCQlJQUHh7uqpNosdXO/vTp0wF8Y2zjoe0gNzcXgK2tbWpq6p07d1jsccfGxgJ47rnn2KqQFTporBs3btDlR2PGjGHxhV+tVicnJ69YsaJFZ3/Lli30grVr1wIIDw9nq0WDceDAAQAzZ85kpbbc3Nz58+e/8cYbhJCmpiY6UJycnMxK5azQEWOdP3+evkL/9a9/ra6uZl0TRbezHxsbSwvPnDlD3cxRo9zx9ttvA9iwYQMrtRUVFZmampqamtL3Zboh+9VXX2WlclbQ21gnTpyg+1LmzJljmP10BQUF2qdhbW2tWCw2NTWtq6szQNMs8uyzzwK4ePEiISQyMtLHx+f48eOdqfDll18GIJVKyQOficVi3XEZftHPWLGxsXQIYOnSpXytCaHDrRcuXOCl9Y5RWVkpEonMzMwaGhoIIS+++CKAo0ePdqbOc+fOAXB1daXdtblz52p9ZgzoYazPPvuMvuFHRERwJ6hNli5dCkB3ysj4SUhIADBx4kRCiEqloh2Jzi/xGDFihPZV5ueffwbg4uJiJAPx7TKWRqORSqUAGIbR9qP5gr4EzZo1i18ZekEHSFetWkUISU1NBTBw4MDOV7tjxw7ojI5Snx06dKjzNXeeto2lUqlCQ0MBiMXiffv2cS+pDbKysgA4OTnxLUQPJk2aBODEiROEkG3btgGgL3SdpK6ujg7Qy2QyQsjOnTsBTJgwofM1d542jFVTU9OvXz8AlpaWCQkJhtHUJnRNRFZWFt9C2oVCobC0tGQY5v79+4SQ1157DUCLefoOs2zZMgCLFi0ihNTV1dnb2wP4/fffWam8M7RhrKioKPoEPHv2rGEEtYdZs2YB0I5BGDmXL18G4OnpST+6ubkB6MwKR12ysrJMTEwsLCyoa5cvXw7gzTffZKXyztDGdNu1a9cA9O7de/LkydqReo1G0/aIPpeMHz8ewK+//sqvjHbyyy+/AJg4cSKAgoKCwsJCOzs7Dw8PViofOHCgv79/Q0PD3r17AbzzzjsmJibffPNN+dPzynFPG8aiw3rkwXxiWFiYo6Pj77//zrmup0KNRZM1Gj8XL14E4OvrCx2TsTiD/s477wCIjo5Wq9UDBw4MCAhoaGj46quv2Kq/gzw9oGk0GvrYpitbFi1aBGDr1q0GiKVPob6+XiKRiEQirjeWsYJuj5CLsRKNRkOn/+mI608//QSgX79+/K7YbuPvhmGYcePG4cFzx0ieQRYWFs8995xarb5y5Qq/StokMzOztLTU2dl54MCBeDR6sQXDMG+99RaA6OhoAC+99NKQIUMKCgp+/PFHFlvRl7YDsq6ZJkyYgAfxnF+MxOJtQv+vaC6a6urqtLQ0MzMzb29vdlt58803rayskpKSbt26xTAMTatEfcYXbRuLmol2aDw8POzt7YuLiwsLCzmX9lS6irF0Q9SlS5fUarW3t7du4klWsLW1nTdvHiGEZqxcuHAh9Vl6ejq7DbWfto01duxYkUiUmppaX1/f4snII1pjEePOSKhrLC6eg1rCw8MZhtm/f391dbWtre38+fMB0CFTXmjbWDY2NsOHD1cqlVevXoXRhIr+/fv36dNHLpffvn277at54v79+xkZGVZWVnTinFNjeXl5+fn51dTU0Cmvd999l2GYmJiY6iclHOeYdr306r7eG4mx0BUGHegimXHjxpmamiqVyt9++41hGCqbC8LCwgBER0cTQry8vP7yl7/U1NR8/fXXHDX3dPQwFjXTuHHjRCLR1atXGxoauJWmjyrjRDdE0b6Eh4cH3WXEBXPmzOnbt++ff/559uxZPPDZ559/zktvoV3G0u2/29jYeHl5aZ+MPNK1jMXpc5AiFovpcoHt27cDmD17dt++fTMzM+myWwPTLmMNGjTI2dn53r17OTk5eNRnPDJq1Chzc/P09HTtvhejoqmpKSUlxcTExMfHBwYxFoDQ0NBnn3126tSpAMRiMR3fohvHDUx7JxaMcJjUzMxs5MiRhBDep5ha5cqVK01NTSNGjKDL+ujfIZ0x5A5nZ+fr16/TSR4AkyZNEovFv/32W8+ePadNm/bhhx+ePn1aN2c9d7TXWLpmMp5es5HEzlbRDVFZWVklJSXOzs66u4+45uzZszNnzlSpVEqlsrq6+vTp0x999NG0adPs7e0nTZr0wQcfJCQkVFZWctV8O6d+zp8/D4BGCI1GQ3uguhvGDcb+/fvz8/Ppz0ePHgXw4osvGl5GmwQGBuLBes6MjIyQkJCwsDCDtb5//36JRAIgKCiovr6+qKgoLi4uPDx89OjRLea/BwwYEBISsmvXrrS0NBYFtNdYLeZ9Z8yYAeDgwYMsSmkPdF/hsGHD6K6EoqIiANbW1saWgEqj0dC1nS3SUhimaalUShNkhIeHP77npbq6OikpSSqVTp06lW640uLq6hoYGBgZGZmcnNzJtfN6bKagM1x0xR9NV2fIP0GNRrNixQo8mibp4MGDZmZm9vb2vXr1kkqlxpCoWKPRxMfHjxkzxsXFRSKRSKVSQx4619TURE8mE4lE27dvb/N6pVIpk8mioqKCg4NbjINYWVn5+vpGRETEx8d34D9WD2O9++67ANauXUse7AkZNWqUvu11DJVKRTOtSSSSuLg4WhgVFUX/Lvv370//L+zs7KRSaXl5uWFUtUCpVB44cEB7or02a6Gnp6dh1t/K5XK6HtPa2pqur9eX7OzsmJiY0NBQT09PbVIgalNPT8/Q0NCYmJi8vLz2VKWHsQ4dOgRg+vTphJD6+nq6Q9IAK6IaGxuDgoLo/9d//vMfWqhNHUgTmiUnJ9M+Db0sPDycrfy57aGpqSkmJkabE6Vfv35RUVF1dXVnz5719PSkhYGBgZw+FnNycoYNG0YfZ3RvRScpLS397rvvli9fTmcOdIPZ4sWL27xdD2Pl5eUBcHBwoFkPab6hc+fOdVh6e6ioqKBrTuzt7emUs0ajoTsIRCLRV48eb3Lx4sXAwED6p2ZmZhYaGtrJbCVtUltbGxUV1bdvX21HOCoqSvfZp1AooqKiaIY0KysrqVTKxb6/2torUmkggBEjRnBh37q6uuTk5MjIyMDAQHt7+40bN7Z5i347oenhx7du3SKE0BmDdevWdVBsOygpKaHTt/369aONNjU1vfrqq9Q33333Xat3XblyZdasWVp7ffhhYvuCt36Ul5OtW5MdHByopUaOHBkXF/ek3eF37twJCQmhVw4dOjQpKYlFJRUV31+9aimTITIy1AAvMSqVqr6+vs3L9DMWzRdAdxcePHgQwIwZMzqmr01ycnIGDx5M3wHpX2FtbW1AQAAAW1vbNrfY37hxIyQkpFcvJ2vralNTEhJCbt1iR9jdu0QqJT17Ejc3hVhs7uvrGx8f357ctQkJCXQci2GYpUsXKRSlbIiJSkkRyWTIzV2o0bB9EGMn0M9YmzdvBhAaGkoeJHzSPhnZJS0tjUZHb29verqkXC6nw6HOzs6p7T6F4tatqpAQIhYTgIjFZP580iLpukJBZDLy+AhObi65erVlYU4OWbKEmJs3n/AbEEAuXszU63vRJ6OVldW3376Qmtrz7t0ojaaDp/9oNKqCgnCZDDIZU1Qk7Vgl3KGfsegY9/Dhw+lHd3f38ePHs/4WdvnyZfqImTx5Mk2TVFxcTLO1uLu73759W98Kc3NJeHizIUxMSGAg0fZui4ubCy9deuSWhQuJhcXDj5mZJDS02aC0ht9+6/gXzMnJzswMkskgk+Hmzedrai7qW4NaXZuVNUsmQ0qKWXn5gY5L4Qz9jNXY2GhmZmZiYkITZXORcObHH3+kZ6XMnj2bjoJmZ2fTnQheXl6dSdOTn0/Cw4mFRXO8mTqVXL7cbCyGIc8998jJYVpjpaaSkBAiEhGA0EcqWwdNVFbG37jxDA05ubkhSuVjJw0/AYWi5M8/x8hkuHbNvrr6Z3bUsI3e+bHoeRAcJXE4cOAAfbNdsmQJda1MJnNycgIwbtw4utm3kxQVkWXLiKVls71+/JEAJDiYMAzRTXdCjRUX13yZhQUJCyOsvwSo1fVFRdKrV81lMqSm2t69G6XRPNyzpVJVlpZuyc1dkJn5Ul7eovLyA2p1TUND+vXr7jIZbtwY0NDwJ8uC2ENvY9FRBmtr63379rGb/Wzbtm0t0iSdO3euR48edPCM3bbKyohUSiZPJkVFBCCbNpFXXiHW1kT7qk6NVVdHnnmGhIeToiIWG29JY2NWZubfHjwZR9bWXiKEqNW1aWnDZDLm1i2/7OxXb92akJIiami4mZExWSbDn3+OVyqN4BC9J6O3sY4dO6ZN5Wtubj516tSoqKiSkpJO6tAOeG7evJmWHD9+nO5mmTdvnoL1g+cfQB+FmzaR/HxiaUlmz24u1z4KDbbrs6Li2PXr/WUyyGQmZWVflZRskMkglz88BVipLCOEKBRF+fnvqNVtv/DzS0dykJ49e3bBggXjx4/XzpOLRKJJkyZt3bq1A+sdVCoV3QenO+AZExNDc3GHhYVxmjpQayxCyNq1BCA0gWOLzrthoE/Ga9ccFYqinJz5MhnU6tq2bzNKOnUyRVlZWUxMTGBgID1ETjs1FhERkZyc3J5hCN0BT+3RftpJQAOkDtQ1VmMjGTqUuLuT+np+jEWhZiosXC6ToaTkU35EdBp2ztKpq6uLj48PCQmxtbXVOqx///6hoaHx8fFPeZBVVVU9//zztra2NJW0RqN5//33afTasWMHK9qejq6xCCFJSQQgn3zCp7EojY2Z167Zy2RITx9RWrrFyHtUj8PysXL0NK/w8HA6vEmxt7cPDg6me9wev6W0tPT69ev0Xnq2gkQiOXz48ONXckELYxFCXn2VWFuTgACejUUIaWoqvHPnX9evu8lkSEmR3LnzPiFd5mw6Ds+ETktLk0qlumfjWFhYBAYG7tq16/HOfmNjI50vsrKyOnnyJHeqWvC4sYqKiI0NYRj+jfUAdXX1zzdvPi+Toby8a+SaI1yfYmJWFuEAAAHcSURBVE/RHgWg29n39fWNjIzMyMgghJSXl9ONJXZ2dnSTp8F43FiEkC1bmseujAelskwmY3JyXuNbSHsxhLG0FBcX79y509/fny7Hpjg6OtJB0b59+xr++OSyMjJ6NGmRdFKpJIGBxDiSxDajVtempIiysoL4FtJeOnusXMeor68/c+bMkSNHtOd+SSSSa9eu0aVqhkSjQVMTJBK0OGZLpYJSiUdXhBuU8vJYsdi2R48XGcZMo6krLHzv/v3d/fpFOzou5U2TPvBjLC11dXVbt24ViUSvvPIKnRA0MBcuYNIk7N2LhQsfKV+zBmvX4s4d6LyEGJTs7NmVlccZRiwW91KpyglROTgs6N//S4YxbftmI0DMb/NWVlb0gCGBFgwc+ENTU2ZdXYpSWSQW21tZjTM39+RblB7wbCyBp2BmNtjMbDDfKjpIlzn9VqBrIRhLgBN47rzzDu28SyQQP9opUCqhVPLZee/qCH0sAPj739Eiv9Dx4+A1m3WXRzAWAPzlLy2HG/LzBWN1CqGPJcAJgrEEOEEwlgAn/LcbSyKBk1Mrc4LW1nByajmBKNB+/tuHGwQ44r89YglwhGAsAU4QjCXACYKxBDhBMJYAJwjGEuAEwVgCnCAYS4AT/h9T4Q+SFKBhrQAAAcF6VFh0cmRraXRQS0wgcmRraXQgMjAyMy4wMy4zAAB4nHu/b+09BiDgZYAAJiAWA2JJIG5gZGNIANKMzGwOGkCamYXNIQNEMzMiBCC0AIRmYmcAK2BixKIDDwOilp0BTDOzMaDzQa5gYoLR7AwKIHG449CkuRkYGRiZMpiYmBOYWTKYWFgTWNgU2NgV2DkymDg4Ezi5Mpi4uBO4eTKYeHgVePk0mPj4FfgFGAQEGQSFGISEGYREGEREGVgZE3jYE0T5GfiYFURYgAazMjIxs7Cys7Ew8/HysLNxcHJxAykBQSERUX5xIUagS6BByCD2T8/OQSL2zH4Q58vG//Z3o9eD2csenLVXevR0H4htuVbG/vMtDrD4/vyjdk2SB8HsZ5/n2ZfMZDwAYr+JYNl/y+AHWLzIdev+KboHwGyhXZwHOPO4wWq+nnM7ILHqA1j8+PmQA5pt6WB2/g7VA7uXZIDtEnO/uF+hlw0sLsXTuJ/vZqMd2K5gzj1fz9aD2TWHbtvtFppsD2JLKrDt2yf9F8y+8WiO3WJZCwcQu+XxMvuFS23A7FPP7tnLGZWB2Woz3tnLL2QHs3Nnb7PfqjQHrFcMACIGcEWrYiwoAAAB/XpUWHRNT0wgcmRraXQgMjAyMy4wMy4zAAB4nH2UTW4bMQyF9z6FLhCBj6J+uIztoCiK2ECT9g7d9/4oKcWRAmg6YxEjzSeSIz76FPz6ef3x52/4vPh6OoVA//mpavidiOj0GvwhnF++fb+Fy/vz+bFyuf+6vb8F5sDZ9tj9lX1+v78+VhAugaNWFLTwhJi1ZEWgSP2aW9lARNX6AaZimezA1MFCTRykKNL2oBhIsYBpgDnJPnTuYGr5kSO1PVjCm4VmC+wgR2LZh67h1iOiaGN3qekgyWax7b34+fAIjrQl1UmOyOg+7akepAlyNEVQScNpa4Q9ioEmzj0+RSXZxwePBHLTNFDmeuA1ja8qSXSgmfNBruJHBVtvnoA5zamQ7kgv05OvtzRIc74ni/k0YbCy1QkRorQH63CJRJ6nlalW2ZNtaISKq45jq+UgtlpsUy+l1kGVuv8cpq7jKnCPKTY58MjoYCtC3SOgvAdHCwmX0j+bcXA+L7frlx4dXXu+366za/3m2ZtiI80OFB+zz/zOs5tsEsrsGdi0zs6AjTblLzZ0alxsYFWyuAEWwYob8KJLcYO0yA/dyKIydoO8qAndlEU16KYu8kA3bZEButGl3nDDa2HHCpYKwg3zUiqxk5lzP1LL+DMQi2/hJT3+SFjWKq418/njX9qeT/8AZw8ca8wNnY0AAAEKelRYdFNNSUxFUyByZGtpdCAyMDIzLjAzLjMAAHicPZA7bsQwDESvktIGHIE/USQWqdT7Ej5C2j18htIiroTn4XCG8+Hnkee4H33q0/tnyi1z3sc855Tzl7/eh7Qc7HJ9c+vpPa8Xt8yxiXrmIk5hINTMIpOvFzVnIY5iXa1vptG9GLwoyqv+smcst9QoN7yM/2WshaRx5wTCY+xJbUyuSxVBvJFK3zuTTGsnBnqkLiYyeDHkVcudTXr/MKLALGRdnXY2IAWUohgoioqSAiE3tiReOlaqDqgwhu2m5AaRtBgeXCdSUkhwThu+AJS4mbawjyLcqBTMWFDAxL1cBdUXEKsw6ESIk9f5/gNK61yJN1z6MAAAAABJRU5ErkJggg==\" alt=\"Mol\"/></div></td>\n",
              "    </tr>\n",
              "    <tr>\n",
              "      <th>2</th>\n",
              "      <td>NC(=O)[C@H]1CS[C@@H]2CC[C@]3(CCCN3C(=O)[C@@H]3...</td>\n",
              "      <td>1</td>\n",
              "      <td style=\"text-align: center;\"><div style=\"width: 200px; height: 200px\" data-content=\"rdkit/molecule\"><img src=\"data:image/png;base64,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\" alt=\"Mol\"/></div></td>\n",
              "    </tr>\n",
              "    <tr>\n",
              "      <th>3</th>\n",
              "      <td>NC(=O)[C@H]1CS[C@@H]2CC[C@]3(CCCN3C(=O)[C@@H]3...</td>\n",
              "      <td>1</td>\n",
              "      <td style=\"text-align: center;\"><div style=\"width: 200px; height: 200px\" data-content=\"rdkit/molecule\"><img src=\"data:image/png;base64,iVBORw0KGgoAAAANSUhEUgAAAMgAAADICAIAAAAiOjnJAAAABmJLR0QA/wD/AP+gvaeTAAAcJklEQVR4nO2deVyU1frAn1mYhX0bNsEF0FEUNbFEkRIcwSteLQ23e9WfeIXEJa2Uq5loZVp4lUy7UUla2udqbrlkNqQpouZVMbowIIgKooCAsg0wwDy/P95xGJFllveMouf74Y+Zl3eec4Av55z3fc95DgcRgUJhG+6TrgDl2YSKRSECFYtCBCoWhQhULAoRqFgUIlCxKESgYlGIQMWiEIGKRSECFYtCBCoWhQhULAoRqFgUIlCxKESgYlGIQMWiEIGKRSECFYtCBCoWhQhULAoRqFgUIlCxKESgYlGIQMWiEIGKRSECFYtCBCoWhQhULAoRqFgUIlCxKESgYlGIQMWiEIGKRSECFYtCBCoWhQhULAoRqFgUIlCxKESgYlGIQMWiEIGKRSECFYtCBCoWhQhULAoRqFgUIlCxKESgYlGIQMWiEIGKRSECFasTTp8+fevWrSddi64HFasNqqurjxw5EhMT4+PjM2rUqF69ei1ZsuRJV6qLwaGbjTPU19efPXs2JSUlJSUlPT1drVYzxwUCgUqlcnBwyMnJkUgkT7aSXQl8vrl+/XpSUlJkZKSNjY32d8Ln8wMCAuLi4lJTU5uamsLDwwFg6tSpT7qyXQkjxcrIyKiurma3Kmbjzp07e/fujY6O9vDw0P0f8/b2jo6O3rt3b1VVle75N2/eZLTbv3//k6pzl8OYrnD06NEnT54EAHd39/79+/v5+fXv39/b23vgwIEuLi6mNqFkyM/Pl8vl6enpKSkp169f1x7v1auXTCaTyWShoaHOzs7tfXzbtm0LFy50c3PLyspycHAwS5W7NgaLlZGRMXjwYETk8XjNzc2tvuvh4dGvXz+pVOrn59e3b99+/fq1ahWeCHl5eUOGDKmurmbe2tjYDBs2jPEpICBAnwhqtTokJOTMmTNz5sxJTk4mWdlnBIPFmjx58oEDBxYuXLhp06bCwsLMzMysrKz8/PzMzMw//vijpqam1fl2dna+vr7e3t5Mw+bm5jZkyBArKyv2foTO+fLLL2NiYkQiUXx8vEwmGzJkCJdr8OVwbm7uoEGD6urqjh8/PnbsWBL1fKYwqOPMyMjgcrkikaioqKjNE4qKiuRyeVJS0uLFi2Uymbu7++Ml2tnZZWZmmtqHG0JSUhIA/OMf/zAxzieffAIA3bt3bzUIozyOYWJNmDABAN555x39P1JaWvrbb78lJSUtWbIkPDzcwsICACZMmGBgPU1i48aNALB06VIT4zQ3N48YMQIAYmNjWanYM4wBYl26dInD4VhZWZWUlBhd3pYtWwBg1qxZRkcwgvj4eACIj483PVRWVpZQKORwOCkpKaZHe4YxYKixevVqRFy0aJEpl34vvPACACgUCqMjGAEzbNe9U2U0/fr1W7FiBSLOmzevtrbW9IDPLHoKePHiRQ6HY21tXVpaaorIZWVlAGBtba1Wq02JYxDz5s0DgKSkJFaiNTY2Mv8eBg0Jnjf0bbHeffddRFy6dKmJjzWcnJwkEklNTU1RUZEpcQyCxRYLAPh8fnJysoWFxaZNm86dO8dKzGcPvcRKS0uTy+V2dnasPIvt168fmLc3dHJ6Izj4O0fHQWwFHDx48FtvvaVWq+fOnVtfX89W2GcJvcR67733AGDp0qWOjo6mF2l+sTIyXklN/btI5MdizLVr1/r5+WVnZ3/00Ucshn1m6Fyss2fPnjp1yt7e/s0332SlSEas7OxsVqLpA3PL3daWzZhCoXD79u08Hm/9+vVXrlxhM/QzQedirVq1CgCWLVtmb2/PSpF9+/YF87ZYjFgsDbFaCAwMXLBgQVNTU0RERF1dHcvRuzodj+1PnDgBAE5OTizea2YmZLq6urIVsFMkEgTA4mL2I1dWVjJPh3777Tf2o3dlOmmxPvjgAwBYvnw5W5dUAODl5WVtbV1SUlJeXs5WzI4h0RUyrF27Vq1W8/l8X19f9qN3aTqQ7tixYwDg7OzM+tQrZk5BWloau2HbRKVCAOTz2Y/87bffAoCFhcXJkyfZj97F6ajFWrt2LQCsWLHC2tqaXZvNeWFIaIB15cqVmJgYANi6dWtISIgxIZqb4YMPwNcXxGLw8oI334TH5oZ0YdozbuvWrQDg5uZWW1vLus7r1q0DgLfffpv1yLrU1GBVFapUeP48njmDjY344AE7ke/evevp6QkACxYsMD5KbCz27Ytnz6JSiRkZGBSEMhk79XsKaFcsZtAwe/ZsEqUeOHAAACIiIkgE1zJrForFeP265u2ZM8jKBYNKpQoODgaAkSNHNjQ0GBmluBh5PLxwoeVIURGKRGiW4YEZaLcrZB6H/fTTTyQ6LLPdcbCzg4ULWY65YMGC1NTUHj167N+/XyAQGBklMxOsrGDYsJYjHh7g7w9//MFKJZ847Yq1a9eu8ePH37t3b9SoUZmZmeyW6uvra2FhcfPmTaVSyW7kVkRFQVYW/PADawG3bNny1VdficXi/fv3mzTBv6QEHp9iL5FASYkp1Xt6aFcsgUCwb9++iIiI0tLS0NBQdt2ysLDw8fFRq9W5ubkshn0ckQg2boQlS6CqioVoqampy5Yt43A4ycnJek6WbxcvLyguhlbzwouKoHt3k8I+NXR0VSgUCvfv30/ILebCMCMjg8WYbfL66zBgAKxerXnb2AjGTaO6devW5MmTVSrVypUrp02bZmq1/P0BEY4fbzmSnQ3/+98jnWOXptNRmFKpHDNmDAAMGzZHoWBnZFdRUeHj4wMAoaGh7ER8DLUaZ83C999HRMzJQWtrTEpCV1fcswfFYoyMRLkc9Z8SVl1dPXDgQAAIDw9vamoyvlrp6bh1q+b1hg3o4oK7dqFCgYcPY58+OHeu8ZGfMvSa6KdUKqdPf08iaXZ3x+xsk8p78ODBmjVr7OzsAMDS0lIikcyZM4fdtQn372N0NK5e3SIWIq5ahR4e6OqK77yDAJovqRTXr8d21oW0oFarp0yZAgBSqfSBKXcs0tPRyQkB8OBBzZHvv8cxY9DXF19+GT/7DE1R9ilD3xmkSiXKZAiArq5o3BKbmpqaDRs2aCfeBAUFpaSkKJXK8ePHi8XioUOHXr161Zi4j/LDD+jmhgBoZ4fTprWIpVSit7fmdkNODq5Ygd26afTi8XDcODx8OKu9ewfMjWJbW1uTFhdprRo3DsvK8D//MT5UV8CAxRRGu1Vbixs3btKuMw4JCUlNTdU9ISsry8vLi8/ne3p67tixw7i+prgYX39d40pQECoUuGcP/vprywmpqfjBBy1vm5tRLseZM1EsRg5H7eXlbW9vHx0dffnyZd2whw4d4nK5XC736NGjRtRKQyurgoMRAFmaKv10YtjyL6USR482wK2GBkxKQnd3HDlyDgAMHz5cLpe3d/Lnn38uFostLCxcXFyioqJu376tf8X27tX84WxtMTERm5v1/yiWleGXXxYx9+0YXnjhhS1btpSXlysUCqbX/vjjjw2I2Apdq8rLcdQoBEAvL8zLMz7mU4/BSUFqazEkBAGwRw9UKts9rb4eP/sMPTw0Tcj48TdPnDjRafCampr58+dbWVmJxWJ7e/uwsLBO24n8/Py//W0hn98IgBERWFho6A/UQnp6+uLFi52cnBi9hEIhM6dj0qRJRi/9SE9Prw0IQACcOBErKp4Tq9C4bDO1tThmDO7ahX36oL8/qlSa4wkJOHEiqlS4cyd6e2uUGjgQ9+414PoLES9fvjx8+HBLS0vGsJdeemn9+vWPP7Jsbm5OTExkVuuPG5ewa5cRP0obNDQ0HD58ODIyks/nM/dE4GEimsOHD9fV1ekf6sqVK05OTgMkkgdRUWa1qrAQT57EixfR6CdOJmNkGiNGlD590NERN23SHExIwAkTcMAAjVKDBuGhQ4YppRNf/emnn/r4+IjFYmtrax6P5+vrO3nyZO3wOTc3d9SoUcxfPTIy0pQ1tO1x+/bt5OTk8PBwS0tLbS8pFovDwsISEhKuXr3acTOWnp7ONH7jxo0rKyt7wAwAvbxaHl6SoLYWp0xBOzsMDsZ+/dDFBY8cIVhc+5iUeK1PH0xIQDs7LChAfNhixcWhnx/u3GnYQKdNKioqpk+f7uDgYGNjY2VlxeVyXVxcgoKCXn/9daFQCABubm4kclaVlZV988032reNjY2XLl2Kj48PCAjQzSYikUgiIyOTkpJu3brVKoKuVeXl5aNGjern5FQVFETWKkScPx+HDkXt2s/kZBSLMT+fbKFtYapYv/yCb7yBr72G+FAspZIFpXQ5d+7c8OHDLSwsBAIBk/qBYcaMGSbdVWqfysrK9i4d7t27xyRt69Gjh+59Zm3StgcPHmitioiIYKwCAC8vrzzSPWBTE4rF+PPPjxwcMQI//JBsuW3Bgljl5ejsjEeOaMQiQVNT0+rVq/l8PgDY2dkxemVkZLBekFwu13+6rEKh2LJly1//+lfdedsCgYCZ8hAUFFRRUWE+qxDx5k0EwFajgoUL0byZMhhYEAsRt2/H3r1x3TpSYjEwQ2lXV9fAwEAAOHv2LOtFLFiwYN++fYZ+qqmp6dKlSxs2bJDJZNo2VSgUDhkyxHxWIWJODgLg/fuPHHz7bZwyxRylPwo7YqnVOGIEenuTFSsoKAgAdu7cyWSbPX78OFuR6+vrHx8nGcf9+/f37dunTSfZvXv366THVVrq65HLxUuXHjk4YQKuXGmmCujATp53Dge++AIKClgJ1i5MjyORSJgXVaxMhQEAgFOnTgUHB+fn55seyt7efvLkyZ9++ikAWFpanjx50tvb2/SweiEUgkwGiYkts3Gys+H4cRg/3kwV0IFvyoenTgVPT81rf3/YsqX1/CJ2sbW1BYCqqirmhTanqCnU1tZaWVmNHTs2MTGRlQQCDGFhYRwOh8PheGp/QeZh2zYICYGxYyEsDEpL4euv4e23Yfhws9YBAEzcmYLHe2T1S2AgcDimVqgDtA0VWy2WSqUaMmTI8ePHAeC1115ja6k3ALi6ug4YMKC2tvbChQtsxdQLX1/IzIRJk6CoCMRiOHYM1q83awUeYpJYn3wCusmI/vgDiCYU1jZUbLVYAoHg22+/jY6OJrF0lpnEJpfLWY/cETU1EBAAu3fDxo1w9Sps22bW0nXoSnvpTPLy+umVV8J5vNndul0bOTKKxzM61Pr165klaMOGDVMoFNrngyzCiPXLL7+wHrkjKishLw/y8qCmBn78EX780ayl62DSGMvMjGxuhtOnISAAeveGs2fBz/i0RHPnzh09enRzc/Pq1atZX47L8PLLL4tEouzs2xUVSkdHy84/wArabALMOIH1dbp6Y2qLFRkJffpovv75T1aq1D5M9oXq6pYXxuLi4iKXyysqKh7fA4EtLC0tIyMLGhru/PqruawCnXXfhBaA642pLdaWLTB4sOb1vn2wZ4+pFeoI5tdUVaURy6jBe0NDw7lz53r16tWzZ8/ExEQ2q/cYfn4SlQrkcoiMJFqODtqGilwiFP0wtcVyd4eePTVf7W9FwxLahkprmOEsW7YsNDR0165drNasbcLCAADMOsrS+vSkW6yuNHhv3WIZ1RWGhoYCQEpKCpsVa4fBg0EigVu3gPDqSR20LVZXH2OZFTZarJCQED6ff/78+ce3/WEdLhdGjwYAMN89h2ejxcrNBZ2Z4jBlChw7ZmqFOoKNMZadnd3QoUNVKlVqaiqrlWubMWMAzChWsko1wcdnh7v7iaamfwUGHjfb06THMEksDw/QTYphaQlktyt0doaoKJg+HRwcYMMG2LDBuDAymQzM1Rsyw6yTJ6Gx0QylwfWysiPXrxdxOFdKSt65cOF0Q4M5Sm2LLtUV2tnB//0f3LgBQUEgl8ODB2BUjnVziuXpCevWwZ49ZB92aWEec9nY2LC7Z4IRdCmxDhyAv/wFBg+Gzz6DRYvgu+9g4kR4uCu4/gwfPtza2vrPP/8sLi4mUU1dIiJg714YNQr4fACAvXs1bRghGJ9sbW21LwgW1iFdRyxEWLIE1q2D5cth2DCYOBFSUuD8eTh61NBIAoEgODgYEZkNiIlSXQ03brR02g0NptzW1ac4TUNFWyy9uXsXCgthypSWI87OIJPB778bEcycveHSpbB5M1y7ZoaiNF1hcnJyZWUlULH04vZt4HLB1fWRg926QWGhEcEYsczzhNjXF+bPh9hYspPVGJh91P/73/8WFhYC7Qr1wsUF1GqoqHjkYGkptLU7cKf4+/u7ubkVFRXl5OSwU70OWbUKrl2D778nWER6enpQUBCzOUN1dfXly5cBoIFeFXaOlxc4OIBu51VfD6mpMHCgEcE4HA5zC94886WsrWHzZoiL0+R8KygAFuf/KZXK2NjYcePGXbp0SSQSWVhYqFQqDocDALNnzzbPw6s2MP80e+P5+GP09MTTp7GpCUtKcMYM7NsXDVnzrktycjIAvPrqq+zWsRXBwfjdd5rX4eEolWJgIM6ZgwAok+HFi6bG37lzp1QqFQqFtra2QqHQ3t4+MDBw/fr1CoWCWXICAGPHjmVrqYj+dCmx1GrcvBl79EChEC0tccqUzpOmtc/t27cBwNbWtrGxkcU6asnLw9raR8TKzUWRCAMDcc0atLFBAORwcOJENC4vWE5OTmhoKJOCQCAQeHl5yWSyU6dO6Z6zY8cOZiK/jY3Nl19+a8ZNbbuWWFpYUkEqlQLA+fPnWYmmS3Y2enhgcDD+85945kzL8S++0KzFKivD+Hi0tdXoNX48pqfrG1ypVC5atMjW1pZJmjJw4MC33nrr3r17bZ5cXFw8c+ZMAAgM3M+kDTMPXVMslli4cCEAvK9N+8cSjFUAOGZMR5meELGkBJcuRbEYAXDw4DMzZszI7iwV5+7du52cnMRisUgkCgoKSk5O1idP3ZEj59zdEQDFYtywga1/zI54rsU6ePAgALzyyissxszORuZPGBbWiVVaiopw0SJ88cUwAODxeLNnz25z5XR+fr5UKuXz+SKRaPr06YaurmZSs3I4mkRArZa1ss5zLVZlZSWfzxcIBGxtb6ZQGGyVlsLCwsWLFzNZdCwsLGbOnKlVR6VSRUVFCQQCOzu7Dz/80JTdjU6fxt69NduhxcXhhx+iVKpJFoSIN26gtzeq1XjoUOt9fSZObBks6sNzLRY+zAcxceLE8vJyE0NlZla7uiIAhocbfamKN27ciIqKYtKfCASCadOmbd682cnJydvb+8cffzSxhgy1tRgXhzwe2ttjbCxaWaH2yvjaNQRAtRq//x79/R/51IgR+MUXBpTyvIs15eEzIi6XGxAQEBcXJ5fLDUrbx6BQKLp16zZy5A5TrNJy48aN6OhoLpfLbOFx584dUyM+RloaHjyIy5fjnDno6YmMtFQs1mhqapoxY8bQoUNFIpH23p6lpWV4eHhCQkJ6ero+2Uf//PNPZl+dceMi6upYu6ZnVibOnDmTrYCPs3w5LliAu3dj9+5YU/OIWD4+mJbW8uXvb5hYXWldIQl4PN7u3bsBoK6uLi0tLSUlJSUlJT09/cSJE8x+2M7OziEhITKZLCwsrGfPno9HyM7OHjNmTGlpaXh4+P79+0Qi1iZeISIATJ06la2A7TF9Onz1FaxdC/PmtRwsLoaVK1ve3rplYFBS/wtdGW3avlYmadP2VVRUMGdmZWW5ubkBwNixY43oQDuGSShCNLcW02IhYmYmWlnh0aO0KzQX165d27ZtW6uUITweLzAw8I033pBIJISsqq6u5nA4IpHIpK17OkMrFvPa3581sZ73rrBTevfu3bt379jY2Obm5qtXrzJ9ZWpq6oULFy5cuGBpaTly5MiDBw/qDtFYgblT2qdPH54JKSoMIj4e9u7t/LSrVyExESwsYMUK6GCtRteZ3fCk4fF42svG8vLyf//732KxWKlUurq6sm4VPNx+ltmKlhy+viCVal5bWsLWrSCTAQC4uUFg4CNnvviiJheaXA4JCbB4MSxZ0mFothrV54orV644ODgkJSWJxWIOh8PK9lKtWLlyJQDEx8ezHpkVCgowPLyjE2iLZTAXL16cNGlSUFBQdHR0TEwMIq5Zs4b1UrKzswFAqm1PniYQYfVqWLq0k5MoBsAkFPHx8WH2wigtLWWyIF00fWrVo/j5+QFAuv5zHsxFXR3GxOD27Z2cRlssA0hLS5sxY8bdu3fnz5/P3BGVSCSxsbEAwOxpyBZNTU3Xr1/ncrl9+vRhMSwrhIXB77/D77/DsmUdnmcWy58FUlJSevXqBQDBwcG6t+Pv3bvHLIbJyGCt0WL6wZ49e7IVkEXu38eKCqyowI53BaG3G/Ti559/jomJKSgo8PDw+Pzzzzk665qdnZ0TE98TiXaJRO8CsLPshxGL9CWhceiZAZh2hZ1z7NixefPmFRQU8Hi8qVOnDhgwoNUJs2fP8/MrrKqSV1efZqVERiztpnZdESpWJ6SkpERHRzMT5AcNGrShrUwkPJ69q+ubAHDnzipWCn2aWyw9oWJ1gr+/v7e3N4/Hc3JySkhIEOim19HBxWUpn+9YU3O2upqFZfvmuTtKFA6aYX1uF0elUs2aNUsoFO7cubOD04qLPyoqetfaeoRUmmZiiQ4ODg8ePCgpKXEhmxeKJGa6lugKNDY29u3b9+bNm9ojO3fujIqK0vPjzc01V6+6XLoElZU/d352+9y5cwcAHB0dTQnyxKFdYQuImJ2drbssvby8vEDvrae4XCs3t2V8vnNTU0XnZ7fPMzByh661gcDTj0SyQCJ5g8MR3b+/r74+k8dztLWViUQGKFJeXv71118DgIeHB7FqmgMqVmtyc3NVKhXz2tDMbFyuGABzc8c2Nd2zt3+1oSHv3r08L69P2zwZsTk//2ZOTo5CocjJycnOzlYoFGVlZcx327tK6CpQsVoTFxfHrMECgNLSUkMvzerrc6uqfhk06B6f/0jae8SG+vq8+vqshob8+vrMurqs+vqcsDB1WZlS9zQbGxupVNqzZ89vvvnGxB/kyULFas2BAwe0T+g2b978008/GfRxDocPAFVVPzs6/p05UlNz9saNv6lUbYzVJkwILigQSqVSPz8/qVQqlUrNvb8hMahYLCMUent4vH/z5tzi4o3OzlESSQyf76hSFXA4FgKBl0jkJxb3Fwq9RSI/sXjQ9u1PLOMeaahY7OPu/p5EEnv//p6Sko1VVXIfn0MDBuQKBL04HDNNMn4aoGK1wOVyX3rpJbFYrD3i7u5u3GU/n+8kkcRaWQUqFAHNzRVCoS971ewa0DvvLKNW1yPW83j2AFBZeTQ/P3Lw4EoOp2tf4hkBbbFYRqm8nJc3Xiz253JFNTXnPT3/9RxaBbTFIoFaXVNX9z+1WikS9bewcO38A88iVCwKEeizQgoRqFgUIlCxKESgYlGIQMWiEIGKRSECFYtCBCoWhQhULAoRqFgUIlCxKESgYlGIQMWiEIGKRSECFYtCBCoWhQhULAoRqFgUIlCxKESgYlGIQMWiEIGKRSECFYtCBCoWhQhULAoRqFgUIlCxKESgYlGIQMWiEIGKRSECFYtCBCoWhQhULAoRqFgUIlCxKESgYlGIQMWiEIGKRSECFYtCBCoWhQhULAoRqFgUIlCxKESgYlGIQMWiEIGKRSECFYtCBCoWhQhULAoRqFgUIlCxKET4f7oG4slmFJUIAAAB63pUWHRyZGtpdFBLTCByZGtpdCAyMDIzLjAzLjMAAHice79v7T0GIOBlgAAmIJYEYhkgbmBkZ8gA0syMTGwMGiAGCweEZmJTMAHSjIwsbAwJIF1MAgwKIJpNQQVEwYXhNC5xKM0OMZcZuz1MjHg0gmlGdI0wAxnBNAMjNwOjAiOTBhMzIwsjMwsDCysDKxsDGzsDOwcDJwcLEycXAxc3AzcPAw8vAy+fAh+/BpMAHwujgCCDoBCDkDCDsAgDpyiDqJgGk6i4gjgzgzgbAy8ng4gAA5sEC6MIC9AGVmYWVjZxNnYOTlFxNlYuTl4eblZBARFhIXEzRqD90OBlkDzfXe9wbcG6/SCO4QNPhwePA8FsDRNfh2ZGczsQe+VJAYcGxsVgcY6LbA73dggcALE9tPvtr86VArOfftW0f2d6GKzm59FZ+2w0F4HZ2kn8+9uWzNwHYm89LWLHtuwC2MxLU9zsX5dNtwexV5zMtJvuyegAYu/sstmvNushWLz6rOf+NEdnMLuP88L+jdoJYL0Z7if3h8x0B5uf/1bhgIa5DlhNL7P2AbWKK2D2UY+sA1fnvgCzX61sPlB8Jcce4uaoA1eC48DmbNTus58zXxTMzj/9wt5rVhRYjf3C9fYrT0LCgf0Pn+3jaGGwH8UApYdxAknRKg0AAAJAelRYdE1PTCByZGtpdCAyMDIzLjAzLjMAAHicfVVLblsxDNz7FLpAHjjUj1p0EdtpWhSxgcbpHbrv/VGSsi2lkPueRdjEiBTJGXkX7Pl5/PH7T7g/fNztQqD/fFpr4Vckot1bsC9h//L6/RQOl+f9zXM4f5wu74FzYNE9+n7GPl/ObzcPwinErTVuJOEJWyyJJQbayJ+xlcNBgcgpGpA2QZMlMIazApmKAWlDlYq6wCUNyBsXjj0z15iWAbMDQSUb0LZgfcQS3gM2QK7AhLw+YtWItJUSr0Vn1h0roChQa43E3NgPWco6ZOvIXIgMaXtoHRPk2ZFyb1CimpcNAhxYa64K1MIkxjWQHcjaFQXyRkxYA2M/ZdUp6ymx1cIPciflhSFFrHIy5HqMsPFoZzRSRzKkrZFFmWHdrpx6j2ptZd0jm5BOMCMlD1rqo/TSkQogL6nk9iC9jyjq2Kk4UlDX/WSb0FNSJl2zN+3SGmny0ZiJRK7F1wdIm5GRk2qXRSoPgKYfO5x0oOS4rodtRCrYyrgrci0gvQi+mTum1oWhfF4jX07HT7dDvy/259Nx3Bf28rgV7I1D+1Bda6lfX79gCN2cecgZusoQLXTVIU3okiFA6GpDZTD9NE8QJ0W5G5ikAzc8aQRu4iQGuEkT6eEmT+RmMygTiWH0NNrPRZrLjUzMhJs2MRBmeGYazDAmRnktzBNz2E2cKAL3pIkLMJOmkbvj3lcu19pGbjuxpRsY8ebzP6UZKWYK2O/b341+3/0FF4ZCDQd+7FYAAAFKelRYdFNNSUxFUyByZGtpdCAyMDIzLjAzLjMAAHicNZG7bsMwDEV/paMNyAIf4kMJCgRQh0zpUHQK/B1Z8vElZXejDi/JS+p535/jdtuRxohg52WM8eCxfH6vmbjvPME6yQMPtozlscZ7/NDHe4EK3Do4l40qAzUvV6iqHKxsWIUkgusGmaROyUjVDyYKkCyzkE2iFptwlEBtYIKWyEwsEFZ0ZkpC5CmiCgRIs5extuiF1ZTkRO45EhJZtorhmeyBCL2fSIxaTxNmXdNErCLYWsrUzkrKEHr0V+k9+3OsCZrE0dLW1iqeZZ0EZxnHGu7HQJsotkAwLLmpnsTRJ3HhfhA2QkxPjr2lJ4qzEeO8n3GemStK43+Rp4hrWOtTFNegKSJQntPM5yZUEVQw/4sUU5OO/CANJb5mLa/fC1YomKmCPe79+rq0yu8/Gr90DJZus1AAAAAASUVORK5CYII=\" alt=\"Mol\"/></div></td>\n",
              "    </tr>\n",
              "    <tr>\n",
              "      <th>...</th>\n",
              "      <td>...</td>\n",
              "      <td>...</td>\n",
              "      <td>...</td>\n",
              "    </tr>\n",
              "    <tr>\n",
              "      <th>22018</th>\n",
              "      <td>Clc1cccc(N2CCNCC2)c1</td>\n",
              "      <td>0</td>\n",
              "      <td style=\"text-align: center;\"><div style=\"width: 200px; height: 200px\" data-content=\"rdkit/molecule\"><img src=\"data:image/png;base64,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\" alt=\"Mol\"/></div></td>\n",
              "    </tr>\n",
              "    <tr>\n",
              "      <th>7609</th>\n",
              "      <td>O=C(Cc1ccccc1)NC1CCN(CCCN2C(=O)COc3ccccc32)CC1</td>\n",
              "      <td>0</td>\n",
              "      <td style=\"text-align: center;\"><div style=\"width: 200px; height: 200px\" data-content=\"rdkit/molecule\"><img src=\"data:image/png;base64,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\" alt=\"Mol\"/></div></td>\n",
              "    </tr>\n",
              "    <tr>\n",
              "      <th>7611</th>\n",
              "      <td>O=C(Cc1ccccc1)NC1CCN(CCCN2C(=O)COc3ccccc32)CC1</td>\n",
              "      <td>0</td>\n",
              "      <td style=\"text-align: center;\"><div style=\"width: 200px; height: 200px\" data-content=\"rdkit/molecule\"><img src=\"data:image/png;base64,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\" alt=\"Mol\"/></div></td>\n",
              "    </tr>\n",
              "    <tr>\n",
              "      <th>7612</th>\n",
              "      <td>CCCCC1CCN(CCCC(=O)c2ccccc2C)CC1</td>\n",
              "      <td>0</td>\n",
              "      <td style=\"text-align: center;\"><div style=\"width: 200px; height: 200px\" data-content=\"rdkit/molecule\"><img src=\"data:image/png;base64,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\" alt=\"Mol\"/></div></td>\n",
              "    </tr>\n",
              "    <tr>\n",
              "      <th>18452</th>\n",
              "      <td>COc1ccc(N2CCN(CCCCNC(=O)c3ccc(-c4ccsc4)cc3)CC2...</td>\n",
              "      <td>0</td>\n",
              "      <td style=\"text-align: center;\"><div style=\"width: 200px; height: 200px\" data-content=\"rdkit/molecule\"><img src=\"data:image/png;base64,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\" alt=\"Mol\"/></div></td>\n",
              "    </tr>\n",
              "  </tbody>\n",
              "</table>\n",
              "<p>8329 rows × 3 columns</p>\n",
              "</div>\n",
              "    <div class=\"colab-df-buttons\">\n",
              "\n",
              "  <div class=\"colab-df-container\">\n",
              "    <button class=\"colab-df-convert\" onclick=\"convertToInteractive('df-72ca8091-bca1-420b-92aa-615191a79eb4')\"\n",
              "            title=\"Convert this dataframe to an interactive table.\"\n",
              "            style=\"display:none;\">\n",
              "\n",
              "  <svg xmlns=\"http://www.w3.org/2000/svg\" height=\"24px\" viewBox=\"0 -960 960 960\">\n",
              "    <path d=\"M120-120v-720h720v720H120Zm60-500h600v-160H180v160Zm220 220h160v-160H400v160Zm0 220h160v-160H400v160ZM180-400h160v-160H180v160Zm440 0h160v-160H620v160ZM180-180h160v-160H180v160Zm440 0h160v-160H620v160Z\"/>\n",
              "  </svg>\n",
              "    </button>\n",
              "\n",
              "  <style>\n",
              "    .colab-df-container {\n",
              "      display:flex;\n",
              "      gap: 12px;\n",
              "    }\n",
              "\n",
              "    .colab-df-convert {\n",
              "      background-color: #E8F0FE;\n",
              "      border: none;\n",
              "      border-radius: 50%;\n",
              "      cursor: pointer;\n",
              "      display: none;\n",
              "      fill: #1967D2;\n",
              "      height: 32px;\n",
              "      padding: 0 0 0 0;\n",
              "      width: 32px;\n",
              "    }\n",
              "\n",
              "    .colab-df-convert:hover {\n",
              "      background-color: #E2EBFA;\n",
              "      box-shadow: 0px 1px 2px rgba(60, 64, 67, 0.3), 0px 1px 3px 1px rgba(60, 64, 67, 0.15);\n",
              "      fill: #174EA6;\n",
              "    }\n",
              "\n",
              "    .colab-df-buttons div {\n",
              "      margin-bottom: 4px;\n",
              "    }\n",
              "\n",
              "    [theme=dark] .colab-df-convert {\n",
              "      background-color: #3B4455;\n",
              "      fill: #D2E3FC;\n",
              "    }\n",
              "\n",
              "    [theme=dark] .colab-df-convert:hover {\n",
              "      background-color: #434B5C;\n",
              "      box-shadow: 0px 1px 3px 1px rgba(0, 0, 0, 0.15);\n",
              "      filter: drop-shadow(0px 1px 2px rgba(0, 0, 0, 0.3));\n",
              "      fill: #FFFFFF;\n",
              "    }\n",
              "  </style>\n",
              "\n",
              "    <script>\n",
              "      const buttonEl =\n",
              "        document.querySelector('#df-72ca8091-bca1-420b-92aa-615191a79eb4 button.colab-df-convert');\n",
              "      buttonEl.style.display =\n",
              "        google.colab.kernel.accessAllowed ? 'block' : 'none';\n",
              "\n",
              "      async function convertToInteractive(key) {\n",
              "        const element = document.querySelector('#df-72ca8091-bca1-420b-92aa-615191a79eb4');\n",
              "        const dataTable =\n",
              "          await google.colab.kernel.invokeFunction('convertToInteractive',\n",
              "                                                    [key], {});\n",
              "        if (!dataTable) return;\n",
              "\n",
              "        const docLinkHtml = 'Like what you see? Visit the ' +\n",
              "          '<a target=\"_blank\" href=https://colab.research.google.com/notebooks/data_table.ipynb>data table notebook</a>'\n",
              "          + ' to learn more about interactive tables.';\n",
              "        element.innerHTML = '';\n",
              "        dataTable['output_type'] = 'display_data';\n",
              "        await google.colab.output.renderOutput(dataTable, element);\n",
              "        const docLink = document.createElement('div');\n",
              "        docLink.innerHTML = docLinkHtml;\n",
              "        element.appendChild(docLink);\n",
              "      }\n",
              "    </script>\n",
              "  </div>\n",
              "\n",
              "\n",
              "<div id=\"df-c32b4c73-f76a-41a5-937e-ad6ce1ea94a9\">\n",
              "  <button class=\"colab-df-quickchart\" onclick=\"quickchart('df-c32b4c73-f76a-41a5-937e-ad6ce1ea94a9')\"\n",
              "            title=\"Suggest charts.\"\n",
              "            style=\"display:none;\">\n",
              "\n",
              "<svg xmlns=\"http://www.w3.org/2000/svg\" height=\"24px\"viewBox=\"0 0 24 24\"\n",
              "     width=\"24px\">\n",
              "    <g>\n",
              "        <path d=\"M19 3H5c-1.1 0-2 .9-2 2v14c0 1.1.9 2 2 2h14c1.1 0 2-.9 2-2V5c0-1.1-.9-2-2-2zM9 17H7v-7h2v7zm4 0h-2V7h2v10zm4 0h-2v-4h2v4z\"/>\n",
              "    </g>\n",
              "</svg>\n",
              "  </button>\n",
              "\n",
              "<style>\n",
              "  .colab-df-quickchart {\n",
              "      --bg-color: #E8F0FE;\n",
              "      --fill-color: #1967D2;\n",
              "      --hover-bg-color: #E2EBFA;\n",
              "      --hover-fill-color: #174EA6;\n",
              "      --disabled-fill-color: #AAA;\n",
              "      --disabled-bg-color: #DDD;\n",
              "  }\n",
              "\n",
              "  [theme=dark] .colab-df-quickchart {\n",
              "      --bg-color: #3B4455;\n",
              "      --fill-color: #D2E3FC;\n",
              "      --hover-bg-color: #434B5C;\n",
              "      --hover-fill-color: #FFFFFF;\n",
              "      --disabled-bg-color: #3B4455;\n",
              "      --disabled-fill-color: #666;\n",
              "  }\n",
              "\n",
              "  .colab-df-quickchart {\n",
              "    background-color: var(--bg-color);\n",
              "    border: none;\n",
              "    border-radius: 50%;\n",
              "    cursor: pointer;\n",
              "    display: none;\n",
              "    fill: var(--fill-color);\n",
              "    height: 32px;\n",
              "    padding: 0;\n",
              "    width: 32px;\n",
              "  }\n",
              "\n",
              "  .colab-df-quickchart:hover {\n",
              "    background-color: var(--hover-bg-color);\n",
              "    box-shadow: 0 1px 2px rgba(60, 64, 67, 0.3), 0 1px 3px 1px rgba(60, 64, 67, 0.15);\n",
              "    fill: var(--button-hover-fill-color);\n",
              "  }\n",
              "\n",
              "  .colab-df-quickchart-complete:disabled,\n",
              "  .colab-df-quickchart-complete:disabled:hover {\n",
              "    background-color: var(--disabled-bg-color);\n",
              "    fill: var(--disabled-fill-color);\n",
              "    box-shadow: none;\n",
              "  }\n",
              "\n",
              "  .colab-df-spinner {\n",
              "    border: 2px solid var(--fill-color);\n",
              "    border-color: transparent;\n",
              "    border-bottom-color: var(--fill-color);\n",
              "    animation:\n",
              "      spin 1s steps(1) infinite;\n",
              "  }\n",
              "\n",
              "  @keyframes spin {\n",
              "    0% {\n",
              "      border-color: transparent;\n",
              "      border-bottom-color: var(--fill-color);\n",
              "      border-left-color: var(--fill-color);\n",
              "    }\n",
              "    20% {\n",
              "      border-color: transparent;\n",
              "      border-left-color: var(--fill-color);\n",
              "      border-top-color: var(--fill-color);\n",
              "    }\n",
              "    30% {\n",
              "      border-color: transparent;\n",
              "      border-left-color: var(--fill-color);\n",
              "      border-top-color: var(--fill-color);\n",
              "      border-right-color: var(--fill-color);\n",
              "    }\n",
              "    40% {\n",
              "      border-color: transparent;\n",
              "      border-right-color: var(--fill-color);\n",
              "      border-top-color: var(--fill-color);\n",
              "    }\n",
              "    60% {\n",
              "      border-color: transparent;\n",
              "      border-right-color: var(--fill-color);\n",
              "    }\n",
              "    80% {\n",
              "      border-color: transparent;\n",
              "      border-right-color: var(--fill-color);\n",
              "      border-bottom-color: var(--fill-color);\n",
              "    }\n",
              "    90% {\n",
              "      border-color: transparent;\n",
              "      border-bottom-color: var(--fill-color);\n",
              "    }\n",
              "  }\n",
              "</style>\n",
              "\n",
              "  <script>\n",
              "    async function quickchart(key) {\n",
              "      const quickchartButtonEl =\n",
              "        document.querySelector('#' + key + ' button');\n",
              "      quickchartButtonEl.disabled = true;  // To prevent multiple clicks.\n",
              "      quickchartButtonEl.classList.add('colab-df-spinner');\n",
              "      try {\n",
              "        const charts = await google.colab.kernel.invokeFunction(\n",
              "            'suggestCharts', [key], {});\n",
              "      } catch (error) {\n",
              "        console.error('Error during call to suggestCharts:', error);\n",
              "      }\n",
              "      quickchartButtonEl.classList.remove('colab-df-spinner');\n",
              "      quickchartButtonEl.classList.add('colab-df-quickchart-complete');\n",
              "    }\n",
              "    (() => {\n",
              "      let quickchartButtonEl =\n",
              "        document.querySelector('#df-c32b4c73-f76a-41a5-937e-ad6ce1ea94a9 button');\n",
              "      quickchartButtonEl.style.display =\n",
              "        google.colab.kernel.accessAllowed ? 'block' : 'none';\n",
              "    })();\n",
              "  </script>\n",
              "</div>\n",
              "    </div>\n",
              "  </div>\n"
            ]
          },
          "metadata": {},
          "execution_count": 103
        }
      ]
    },
    {
      "cell_type": "markdown",
      "source": [
        "# III. Standardizing the structures and removing duplicates\n"
      ],
      "metadata": {
        "id": "MFCqnp7Si_tV"
      },
      "id": "MFCqnp7Si_tV"
    },
    {
      "cell_type": "code",
      "source": [
        "!pip install molvs"
      ],
      "metadata": {
        "colab": {
          "base_uri": "https://localhost:8080/"
        },
        "id": "djnlB2stiGZ4",
        "outputId": "ed60f4b9-a04c-4729-8c64-cc99aefd4844"
      },
      "id": "djnlB2stiGZ4",
      "execution_count": 104,
      "outputs": [
        {
          "output_type": "stream",
          "name": "stdout",
          "text": [
            "Requirement already satisfied: molvs in /usr/local/lib/python3.10/dist-packages (0.1.1)\n",
            "Requirement already satisfied: six in /usr/local/lib/python3.10/dist-packages (from molvs) (1.16.0)\n"
          ]
        }
      ]
    },
    {
      "cell_type": "code",
      "source": [
        "from molvs import Standardizer\n",
        "from rdkit.Chem import SaltRemover\n",
        "s = Standardizer()"
      ],
      "metadata": {
        "id": "22Nw8zQziQDN"
      },
      "id": "22Nw8zQziQDN",
      "execution_count": 105,
      "outputs": []
    },
    {
      "cell_type": "code",
      "source": [
        "df_regression['ROMol'] = df_regression['ROMol'].apply(lambda x: SaltRemover.SaltRemover().StripMol(s.standardize(x)))\n",
        "df_regression['SMILES'] = df_regression['ROMol'].apply(lambda x: Chem.MolToSmiles(x, isomericSmiles=True))\n",
        "df_regression = df_regression.drop('canonical_smiles', axis=1)"
      ],
      "metadata": {
        "id": "od5qoFfbiYjY"
      },
      "id": "od5qoFfbiYjY",
      "execution_count": 106,
      "outputs": []
    },
    {
      "cell_type": "code",
      "source": [
        "df_classification['ROMol'] = df_classification['ROMol'].apply(lambda x: SaltRemover.SaltRemover().StripMol(s.standardize(x)))\n",
        "df_classification['SMILES'] = df_classification['ROMol'].apply(lambda x: Chem.MolToSmiles(x, isomericSmiles=True))\n",
        "df_classification = df_classification.drop('canonical_smiles', axis=1)"
      ],
      "metadata": {
        "id": "wSyVKM5fgFxS"
      },
      "id": "wSyVKM5fgFxS",
      "execution_count": 107,
      "outputs": []
    },
    {
      "cell_type": "code",
      "source": [
        "df_regression = df_regression.sort_values('value')"
      ],
      "metadata": {
        "id": "5LHxhttnjFrV"
      },
      "id": "5LHxhttnjFrV",
      "execution_count": 108,
      "outputs": []
    },
    {
      "cell_type": "code",
      "source": [
        "# Dropping duplicates:"
      ],
      "metadata": {
        "id": "GpwU30Axn8jA"
      },
      "id": "GpwU30Axn8jA",
      "execution_count": 109,
      "outputs": []
    },
    {
      "cell_type": "code",
      "source": [
        "print(len(df_regression))\n",
        "df_regression = df_regression.drop_duplicates(subset='SMILES', keep='first')\n",
        "print(len(df_regression))"
      ],
      "metadata": {
        "colab": {
          "base_uri": "https://localhost:8080/"
        },
        "id": "6D03jbQ5n2hl",
        "outputId": "69c32607-ea98-4da5-c167-3d81a2a19105"
      },
      "id": "6D03jbQ5n2hl",
      "execution_count": 110,
      "outputs": [
        {
          "output_type": "stream",
          "name": "stdout",
          "text": [
            "7593\n",
            "5746\n"
          ]
        }
      ]
    },
    {
      "cell_type": "code",
      "source": [
        "print(len(df_classification))\n",
        "df_classification = df_classification.drop_duplicates(subset='SMILES',keep='first')\n",
        "print(len(df_classification))"
      ],
      "metadata": {
        "colab": {
          "base_uri": "https://localhost:8080/"
        },
        "id": "139vLdJZoBwi",
        "outputId": "bc339417-1bd1-449a-d3b4-7db9cce92e8b"
      },
      "id": "139vLdJZoBwi",
      "execution_count": 111,
      "outputs": [
        {
          "output_type": "stream",
          "name": "stdout",
          "text": [
            "8329\n",
            "6416\n"
          ]
        }
      ]
    },
    {
      "cell_type": "code",
      "source": [
        "# We have much more active than inactive molecules in our dataset\n",
        "df_classification.groupby('activity').count().plot(kind='bar')"
      ],
      "metadata": {
        "colab": {
          "base_uri": "https://localhost:8080/",
          "height": 461
        },
        "id": "z2FoLAG6vNsd",
        "outputId": "c3756f00-2ec9-44da-f0be-7af46aa18c8d"
      },
      "id": "z2FoLAG6vNsd",
      "execution_count": 112,
      "outputs": [
        {
          "output_type": "execute_result",
          "data": {
            "text/plain": [
              "<Axes: xlabel='activity'>"
            ]
          },
          "metadata": {},
          "execution_count": 112
        },
        {
          "output_type": "display_data",
          "data": {
            "text/plain": [
              "<Figure size 640x480 with 1 Axes>"
            ],
            "image/png": "[encoded data removed]"
          },
          "metadata": {}
        }
      ]
    },
    {
      "cell_type": "markdown",
      "source": [
        "#IV Generate Morgan fingerprints for classification dataset\n"
      ],
      "metadata": {
        "id": "avQ7ivtxpYsO"
      },
      "id": "avQ7ivtxpYsO"
    },
    {
      "cell_type": "code",
      "source": [
        "from rdkit.Chem import AllChem"
      ],
      "metadata": {
        "id": "Re9DZjUNqV5-"
      },
      "id": "Re9DZjUNqV5-",
      "execution_count": 113,
      "outputs": []
    },
    {
      "cell_type": "code",
      "source": [
        "morgan_fingerprints = [np.array(AllChem.GetMorganFingerprintAsBitVect(mol, 2, 2048)) for mol in df_classification['ROMol']]\n",
        "# Convert the list of fingerprints into a NumPy array\n",
        "morgan_fingerprints_array = np.vstack(morgan_fingerprints)"
      ],
      "metadata": {
        "id": "Dx5z_8DWobmc"
      },
      "id": "Dx5z_8DWobmc",
      "execution_count": 114,
      "outputs": []
    },
    {
      "cell_type": "code",
      "source": [
        "morgan_fingerprints_array"
      ],
      "metadata": {
        "colab": {
          "base_uri": "https://localhost:8080/"
        },
        "id": "ru-b9JdLqgfX",
        "outputId": "8237b70f-1654-41ac-8223-c48f1434b701"
      },
      "id": "ru-b9JdLqgfX",
      "execution_count": 115,
      "outputs": [
        {
          "output_type": "execute_result",
          "data": {
            "text/plain": [
              "array([[0, 0, 0, ..., 0, 0, 0],\n",
              "       [0, 1, 1, ..., 0, 0, 0],\n",
              "       [0, 0, 0, ..., 0, 0, 0],\n",
              "       ...,\n",
              "       [0, 0, 0, ..., 0, 0, 0],\n",
              "       [0, 0, 0, ..., 0, 0, 0],\n",
              "       [0, 0, 0, ..., 0, 0, 0]])"
            ]
          },
          "metadata": {},
          "execution_count": 115
        }
      ]
    },
    {
      "cell_type": "code",
      "source": [
        "labels = np.array(df_classification['activity'])\n",
        "labels = labels.reshape(-1, 1)"
      ],
      "metadata": {
        "id": "7SdVXUxwqg6B"
      },
      "id": "7SdVXUxwqg6B",
      "execution_count": 116,
      "outputs": []
    },
    {
      "cell_type": "code",
      "source": [
        "labels"
      ],
      "metadata": {
        "colab": {
          "base_uri": "https://localhost:8080/"
        },
        "id": "OlJWLZInqqWP",
        "outputId": "5e7bc183-fb75-4080-8a81-9e3637697604"
      },
      "id": "OlJWLZInqqWP",
      "execution_count": 117,
      "outputs": [
        {
          "output_type": "execute_result",
          "data": {
            "text/plain": [
              "array([[1],\n",
              "       [1],\n",
              "       [1],\n",
              "       ...,\n",
              "       [0],\n",
              "       [0],\n",
              "       [0]])"
            ]
          },
          "metadata": {},
          "execution_count": 117
        }
      ]
    },
    {
      "cell_type": "code",
      "source": [
        "data = np.hstack((morgan_fingerprints_array, labels))"
      ],
      "metadata": {
        "id": "6d1nA4L_qrSV"
      },
      "id": "6d1nA4L_qrSV",
      "execution_count": 118,
      "outputs": []
    },
    {
      "cell_type": "code",
      "source": [
        "# Randomly shuffle the rows\n",
        "np.random.shuffle(data)"
      ],
      "metadata": {
        "id": "jgRjm0Phv-_J"
      },
      "id": "jgRjm0Phv-_J",
      "execution_count": 119,
      "outputs": []
    },
    {
      "cell_type": "code",
      "source": [
        "data"
      ],
      "metadata": {
        "colab": {
          "base_uri": "https://localhost:8080/"
        },
        "id": "CC9DTKqRrK4b",
        "outputId": "7761cae3-0732-4789-912d-59d4eb66ed2c"
      },
      "id": "CC9DTKqRrK4b",
      "execution_count": 46,
      "outputs": [
        {
          "output_type": "execute_result",
          "data": {
            "text/plain": [
              "array([[0, 0, 0, ..., 0, 0, 1],\n",
              "       [0, 0, 0, ..., 0, 0, 1],\n",
              "       [0, 0, 0, ..., 0, 0, 1],\n",
              "       ...,\n",
              "       [0, 0, 0, ..., 0, 0, 1],\n",
              "       [0, 0, 0, ..., 0, 0, 1],\n",
              "       [0, 1, 0, ..., 0, 0, 0]])"
            ]
          },
          "metadata": {},
          "execution_count": 46
        }
      ]
    },
    {
      "cell_type": "markdown",
      "source": [
        "#V. Neural network for binary classification"
      ],
      "metadata": {
        "id": "3MxGTfB2rlFf"
      },
      "id": "3MxGTfB2rlFf"
    },
    {
      "cell_type": "code",
      "source": [
        "import tensorflow as tf\n",
        "import sklearn\n",
        "from tensorflow.keras import layers, models"
      ],
      "metadata": {
        "id": "DKEKEfP3rvSv"
      },
      "id": "DKEKEfP3rvSv",
      "execution_count": 47,
      "outputs": []
    },
    {
      "cell_type": "code",
      "source": [
        "from sklearn.model_selection import train_test_split\n",
        "X = data[:, :-1]\n",
        "y = data[:, -1]\n",
        "\n",
        "X_train, X_temp, y_train, y_temp = train_test_split(X, y, test_size=0.3, random_state=42)\n",
        "X_val, X_test, y_val, y_test = train_test_split(X_temp, y_temp, test_size=0.5, random_state=42)"
      ],
      "metadata": {
        "id": "CX-M0IrpsPcp"
      },
      "id": "CX-M0IrpsPcp",
      "execution_count": 48,
      "outputs": []
    },
    {
      "cell_type": "code",
      "source": [
        "model = models.Sequential([\n",
        "    layers.Dense(256, activation='relu', input_shape=(2048,)),\n",
        "    layers.Dropout(0.5),\n",
        "    layers.Dense(128, activation='relu'),\n",
        "    layers.Dropout(0.5),\n",
        "    layers.Dense(256, activation='relu', input_shape=(2048,)),\n",
        "    layers.Dropout(0.5),\n",
        "    layers.Dense(1, activation='sigmoid')  # Output layer with one neuron and sigmoid activation for binary classification\n",
        "])\n",
        "\n",
        "model.compile(optimizer='adam', loss='binary_crossentropy', metrics=['accuracy'])"
      ],
      "metadata": {
        "id": "KEVBhsQCsDYL"
      },
      "id": "KEVBhsQCsDYL",
      "execution_count": 49,
      "outputs": []
    },
    {
      "cell_type": "code",
      "source": [
        "model.fit(X_train, y_train, epochs=30, batch_size=32, validation_data=(X_val, y_val))"
      ],
      "metadata": {
        "colab": {
          "base_uri": "https://localhost:8080/"
        },
        "id": "yoVyPBZkrL8d",
        "outputId": "39258836-805e-4b24-97b1-21fe03b73a43"
      },
      "id": "yoVyPBZkrL8d",
      "execution_count": 50,
      "outputs": [
        {
          "output_type": "stream",
          "name": "stdout",
          "text": [
            "Epoch 1/30\n",
            "141/141 [==============================] - 3s 13ms/step - loss: 0.5875 - accuracy: 0.6771 - val_loss: 0.4611 - val_accuracy: 0.7890\n",
            "Epoch 2/30\n",
            "141/141 [==============================] - 2s 13ms/step - loss: 0.4286 - accuracy: 0.7965 - val_loss: 0.4202 - val_accuracy: 0.8150\n",
            "Epoch 3/30\n",
            "141/141 [==============================] - 2s 16ms/step - loss: 0.3626 - accuracy: 0.8406 - val_loss: 0.3943 - val_accuracy: 0.8264\n",
            "Epoch 4/30\n",
            "141/141 [==============================] - 2s 16ms/step - loss: 0.3278 - accuracy: 0.8579 - val_loss: 0.4070 - val_accuracy: 0.8181\n",
            "Epoch 5/30\n",
            "141/141 [==============================] - 2s 11ms/step - loss: 0.2851 - accuracy: 0.8800 - val_loss: 0.3980 - val_accuracy: 0.8358\n",
            "Epoch 6/30\n",
            "141/141 [==============================] - 2s 11ms/step - loss: 0.2496 - accuracy: 0.8942 - val_loss: 0.4038 - val_accuracy: 0.8285\n",
            "Epoch 7/30\n",
            "141/141 [==============================] - 2s 12ms/step - loss: 0.2304 - accuracy: 0.9051 - val_loss: 0.4022 - val_accuracy: 0.8295\n",
            "Epoch 8/30\n",
            "141/141 [==============================] - 2s 11ms/step - loss: 0.2043 - accuracy: 0.9161 - val_loss: 0.4456 - val_accuracy: 0.8222\n",
            "Epoch 9/30\n",
            "141/141 [==============================] - 2s 11ms/step - loss: 0.1822 - accuracy: 0.9281 - val_loss: 0.4390 - val_accuracy: 0.8202\n",
            "Epoch 10/30\n",
            "141/141 [==============================] - 2s 11ms/step - loss: 0.1734 - accuracy: 0.9363 - val_loss: 0.4612 - val_accuracy: 0.8358\n",
            "Epoch 11/30\n",
            "141/141 [==============================] - 2s 15ms/step - loss: 0.1574 - accuracy: 0.9405 - val_loss: 0.4578 - val_accuracy: 0.8254\n",
            "Epoch 12/30\n",
            "141/141 [==============================] - 2s 16ms/step - loss: 0.1505 - accuracy: 0.9428 - val_loss: 0.4954 - val_accuracy: 0.8337\n",
            "Epoch 13/30\n",
            "141/141 [==============================] - 2s 14ms/step - loss: 0.1438 - accuracy: 0.9463 - val_loss: 0.5050 - val_accuracy: 0.8326\n",
            "Epoch 14/30\n",
            "141/141 [==============================] - 2s 11ms/step - loss: 0.1310 - accuracy: 0.9472 - val_loss: 0.5023 - val_accuracy: 0.8295\n",
            "Epoch 15/30\n",
            "141/141 [==============================] - 2s 11ms/step - loss: 0.1191 - accuracy: 0.9526 - val_loss: 0.5299 - val_accuracy: 0.8306\n",
            "Epoch 16/30\n",
            "141/141 [==============================] - 2s 11ms/step - loss: 0.1205 - accuracy: 0.9557 - val_loss: 0.5784 - val_accuracy: 0.8233\n",
            "Epoch 17/30\n",
            "141/141 [==============================] - 2s 12ms/step - loss: 0.1101 - accuracy: 0.9561 - val_loss: 0.5878 - val_accuracy: 0.8264\n",
            "Epoch 18/30\n",
            "141/141 [==============================] - 2s 11ms/step - loss: 0.1031 - accuracy: 0.9544 - val_loss: 0.5544 - val_accuracy: 0.8191\n",
            "Epoch 19/30\n",
            "141/141 [==============================] - 2s 12ms/step - loss: 0.1009 - accuracy: 0.9628 - val_loss: 0.6048 - val_accuracy: 0.8264\n",
            "Epoch 20/30\n",
            "141/141 [==============================] - 2s 16ms/step - loss: 0.0906 - accuracy: 0.9668 - val_loss: 0.6219 - val_accuracy: 0.8202\n",
            "Epoch 21/30\n",
            "141/141 [==============================] - 2s 17ms/step - loss: 0.0869 - accuracy: 0.9633 - val_loss: 0.7107 - val_accuracy: 0.8170\n",
            "Epoch 22/30\n",
            "141/141 [==============================] - 2s 12ms/step - loss: 0.0924 - accuracy: 0.9639 - val_loss: 0.6110 - val_accuracy: 0.8212\n",
            "Epoch 23/30\n",
            "141/141 [==============================] - 2s 11ms/step - loss: 0.0800 - accuracy: 0.9706 - val_loss: 0.6587 - val_accuracy: 0.8264\n",
            "Epoch 24/30\n",
            "141/141 [==============================] - 2s 11ms/step - loss: 0.0853 - accuracy: 0.9711 - val_loss: 0.6345 - val_accuracy: 0.8181\n",
            "Epoch 25/30\n",
            "141/141 [==============================] - 1s 10ms/step - loss: 0.0687 - accuracy: 0.9722 - val_loss: 0.7299 - val_accuracy: 0.8139\n",
            "Epoch 26/30\n",
            "141/141 [==============================] - 2s 12ms/step - loss: 0.0712 - accuracy: 0.9713 - val_loss: 0.7723 - val_accuracy: 0.8212\n",
            "Epoch 27/30\n",
            "141/141 [==============================] - 2s 12ms/step - loss: 0.0704 - accuracy: 0.9719 - val_loss: 0.6998 - val_accuracy: 0.8368\n",
            "Epoch 28/30\n",
            "141/141 [==============================] - 2s 14ms/step - loss: 0.0771 - accuracy: 0.9682 - val_loss: 0.6754 - val_accuracy: 0.8243\n",
            "Epoch 29/30\n",
            "141/141 [==============================] - 2s 16ms/step - loss: 0.0686 - accuracy: 0.9722 - val_loss: 0.7191 - val_accuracy: 0.8243\n",
            "Epoch 30/30\n",
            "141/141 [==============================] - 2s 15ms/step - loss: 0.0596 - accuracy: 0.9775 - val_loss: 0.8707 - val_accuracy: 0.8181\n"
          ]
        },
        {
          "output_type": "execute_result",
          "data": {
            "text/plain": [
              "<keras.src.callbacks.History at 0x7dd3e46c4580>"
            ]
          },
          "metadata": {},
          "execution_count": 50
        }
      ]
    },
    {
      "cell_type": "code",
      "source": [
        "# Evaluate the model\n",
        "test_loss, test_acc = model.evaluate(X_test, y_test)"
      ],
      "metadata": {
        "colab": {
          "base_uri": "https://localhost:8080/"
        },
        "id": "kHURBtdIx7CY",
        "outputId": "6146b41d-6faf-4086-c6f2-2b6bcfcdd028"
      },
      "id": "kHURBtdIx7CY",
      "execution_count": 51,
      "outputs": [
        {
          "output_type": "stream",
          "name": "stdout",
          "text": [
            "31/31 [==============================] - 0s 3ms/step - loss: 1.0504 - accuracy: 0.8172\n"
          ]
        }
      ]
    },
    {
      "cell_type": "code",
      "source": [
        "# Make predictions\n",
        "predictions = model.predict(X_test)\n",
        "\n",
        "# Convert probabilities to class labels\n",
        "predicted_labels = (predictions > 0.5).astype('int32')\n",
        "predicted_labels.reshape(1,-1)"
      ],
      "metadata": {
        "colab": {
          "base_uri": "https://localhost:8080/"
        },
        "id": "DuVccKIKw7JP",
        "outputId": "f14dde9c-449a-49ee-bb29-b7d76aa5f1dc"
      },
      "id": "DuVccKIKw7JP",
      "execution_count": 52,
      "outputs": [
        {
          "output_type": "stream",
          "name": "stdout",
          "text": [
            "31/31 [==============================] - 0s 3ms/step\n"
          ]
        },
        {
          "output_type": "execute_result",
          "data": {
            "text/plain": [
              "array([[1, 1, 1, 0, 1, 1, 1, 1, 0, 0, 0, 1, 0, 1, 0, 1, 1, 0, 0, 0, 1, 1,\n",
              "        0, 1, 0, 0, 1, 1, 1, 0, 1, 0, 1, 1, 0, 0, 0, 1, 1, 1, 0, 1, 0, 0,\n",
              "        1, 1, 0, 0, 1, 1, 1, 1, 1, 1, 1, 0, 1, 1, 1, 1, 1, 1, 0, 1, 0, 1,\n",
              "        1, 1, 0, 0, 1, 0, 0, 1, 1, 1, 0, 1, 1, 1, 1, 1, 1, 0, 1, 1, 1, 1,\n",
              "        1, 0, 1, 0, 0, 0, 0, 0, 1, 1, 1, 1, 0, 1, 0, 0, 1, 1, 1, 0, 1, 1,\n",
              "        1, 1, 0, 1, 1, 1, 0, 0, 0, 0, 0, 1, 1, 1, 1, 1, 1, 1, 1, 0, 1, 1,\n",
              "        1, 1, 0, 1, 0, 0, 0, 1, 0, 1, 0, 1, 1, 0, 1, 1, 1, 0, 1, 1, 1, 1,\n",
              "        0, 1, 0, 0, 1, 1, 1, 1, 0, 1, 0, 1, 0, 0, 1, 1, 1, 1, 1, 1, 1, 1,\n",
              "        0, 0, 0, 1, 0, 1, 0, 1, 1, 0, 1, 0, 1, 0, 1, 1, 1, 1, 0, 1, 1, 1,\n",
              "        0, 1, 0, 1, 1, 1, 1, 1, 0, 0, 1, 0, 1, 0, 0, 0, 1, 0, 1, 1, 1, 0,\n",
              "        0, 1, 0, 0, 0, 0, 1, 1, 1, 1, 0, 0, 1, 1, 1, 1, 1, 0, 1, 0, 1, 1,\n",
              "        1, 1, 1, 1, 1, 1, 1, 1, 1, 1, 0, 1, 1, 0, 1, 1, 1, 1, 0, 1, 1, 1,\n",
              "        0, 1, 0, 1, 1, 0, 1, 1, 1, 1, 1, 1, 1, 1, 0, 0, 1, 0, 0, 1, 1, 0,\n",
              "        1, 0, 1, 0, 0, 1, 1, 1, 0, 1, 0, 0, 1, 1, 1, 0, 1, 0, 1, 1, 1, 1,\n",
              "        0, 1, 1, 1, 1, 0, 1, 1, 0, 1, 1, 0, 0, 1, 0, 1, 1, 1, 0, 0, 1, 1,\n",
              "        1, 0, 0, 1, 0, 1, 1, 1, 1, 0, 1, 1, 1, 0, 0, 0, 0, 1, 0, 0, 1, 0,\n",
              "        1, 1, 0, 1, 0, 0, 0, 1, 1, 1, 1, 1, 0, 1, 0, 1, 0, 0, 1, 1, 0, 1,\n",
              "        1, 1, 1, 1, 1, 0, 1, 1, 1, 0, 1, 0, 1, 1, 1, 1, 1, 1, 1, 0, 1, 1,\n",
              "        0, 1, 1, 1, 0, 1, 1, 1, 1, 1, 1, 1, 1, 0, 0, 1, 1, 1, 0, 1, 0, 1,\n",
              "        1, 0, 0, 1, 0, 1, 0, 1, 1, 1, 1, 1, 1, 1, 0, 1, 0, 1, 1, 0, 1, 1,\n",
              "        1, 1, 1, 0, 1, 0, 1, 0, 1, 0, 1, 1, 0, 0, 0, 1, 1, 0, 1, 0, 0, 1,\n",
              "        0, 1, 0, 1, 1, 1, 1, 0, 0, 1, 1, 1, 1, 1, 1, 1, 0, 1, 0, 0, 0, 0,\n",
              "        1, 1, 1, 1, 1, 1, 1, 0, 0, 1, 1, 1, 0, 0, 1, 1, 0, 1, 1, 0, 1, 1,\n",
              "        1, 0, 1, 0, 1, 1, 0, 1, 0, 0, 0, 1, 1, 0, 1, 1, 1, 1, 1, 1, 1, 0,\n",
              "        1, 1, 0, 1, 0, 0, 1, 0, 1, 1, 1, 0, 0, 1, 1, 1, 1, 1, 0, 1, 1, 1,\n",
              "        1, 1, 1, 0, 0, 0, 1, 1, 1, 0, 1, 1, 1, 0, 1, 1, 1, 1, 0, 0, 0, 1,\n",
              "        0, 1, 0, 1, 0, 1, 1, 1, 1, 0, 1, 1, 1, 1, 0, 1, 0, 1, 1, 0, 0, 0,\n",
              "        1, 1, 1, 1, 0, 0, 1, 1, 1, 0, 0, 1, 0, 0, 1, 1, 0, 0, 1, 0, 0, 0,\n",
              "        0, 0, 0, 0, 1, 0, 1, 1, 1, 0, 1, 0, 1, 1, 1, 1, 0, 1, 0, 0, 0, 1,\n",
              "        1, 0, 0, 0, 1, 1, 1, 1, 1, 1, 1, 0, 1, 1, 0, 0, 0, 1, 1, 1, 0, 0,\n",
              "        1, 0, 1, 0, 1, 1, 0, 0, 1, 1, 1, 0, 1, 0, 0, 1, 1, 1, 1, 1, 1, 0,\n",
              "        1, 1, 1, 1, 1, 1, 1, 1, 1, 1, 1, 0, 0, 1, 1, 1, 0, 1, 1, 1, 1, 0,\n",
              "        1, 0, 1, 0, 1, 0, 0, 0, 0, 0, 1, 0, 0, 0, 1, 1, 1, 1, 1, 1, 1, 1,\n",
              "        1, 1, 1, 1, 1, 1, 1, 0, 1, 1, 1, 0, 1, 1, 1, 1, 1, 1, 1, 1, 0, 0,\n",
              "        0, 1, 1, 1, 1, 1, 0, 1, 0, 1, 0, 0, 0, 0, 0, 1, 1, 0, 1, 1, 0, 1,\n",
              "        0, 1, 0, 1, 0, 1, 0, 1, 1, 0, 0, 0, 0, 1, 0, 1, 1, 0, 1, 1, 1, 1,\n",
              "        0, 1, 1, 0, 0, 0, 1, 1, 1, 0, 1, 1, 1, 0, 1, 0, 0, 0, 1, 1, 1, 0,\n",
              "        1, 0, 0, 0, 1, 1, 1, 1, 1, 1, 0, 0, 1, 1, 1, 0, 1, 1, 1, 0, 1, 0,\n",
              "        1, 1, 0, 0, 0, 1, 0, 0, 1, 0, 1, 1, 0, 1, 1, 1, 0, 1, 1, 0, 1, 0,\n",
              "        1, 1, 1, 1, 1, 0, 1, 1, 1, 1, 1, 1, 1, 1, 1, 1, 1, 1, 1, 1, 0, 0,\n",
              "        1, 0, 0, 1, 0, 1, 1, 1, 1, 1, 0, 1, 1, 0, 0, 0, 1, 1, 0, 1, 1, 1,\n",
              "        0, 1, 1, 1, 1, 0, 1, 1, 0, 1, 1, 0, 0, 0, 0, 1, 1, 0, 1, 0, 0, 1,\n",
              "        1, 1, 1, 0, 0, 1, 1, 1, 1, 1, 1, 0, 0, 1, 0, 0, 0, 1, 1, 0, 1, 0,\n",
              "        1, 1, 1, 1, 1, 1, 1, 0, 1, 0, 1, 1, 1, 1, 0, 0, 1]], dtype=int32)"
            ]
          },
          "metadata": {},
          "execution_count": 52
        }
      ]
    },
    {
      "cell_type": "code",
      "source": [
        "from sklearn.metrics import confusion_matrix\n",
        "from sklearn.metrics import balanced_accuracy_score\n",
        "\n",
        "balanced_accuracy = balanced_accuracy_score(y_test, predicted_labels)\n",
        "cm = confusion_matrix(y_test, predicted_labels)"
      ],
      "metadata": {
        "id": "Vc-4fDQ0uf_M"
      },
      "id": "Vc-4fDQ0uf_M",
      "execution_count": 53,
      "outputs": []
    },
    {
      "cell_type": "code",
      "source": [
        "print(balanced_accuracy)\n",
        "print(cm)"
      ],
      "metadata": {
        "colab": {
          "base_uri": "https://localhost:8080/"
        },
        "id": "GOUhbKoRye2q",
        "outputId": "27aa93f7-e0a1-4ce9-870a-1c649b3040c4"
      },
      "id": "GOUhbKoRye2q",
      "execution_count": 54,
      "outputs": [
        {
          "output_type": "stream",
          "name": "stdout",
          "text": [
            "0.8021372611902688\n",
            "[[270  95]\n",
            " [ 81 517]]\n"
          ]
        }
      ]
    },
    {
      "cell_type": "markdown",
      "source": [
        "#VI. Virtual screening on small dataset\n"
      ],
      "metadata": {
        "id": "BHOx4bAu8XCm"
      },
      "id": "BHOx4bAu8XCm"
    },
    {
      "cell_type": "code",
      "source": [
        "with open('45770.smiles.txt', 'r') as file:\n",
        "  lines = [line.rstrip() for line in file]"
      ],
      "metadata": {
        "id": "GDnj68J-73B6"
      },
      "id": "GDnj68J-73B6",
      "execution_count": 134,
      "outputs": []
    },
    {
      "cell_type": "code",
      "source": [
        "df = pd.DataFrame(lines)"
      ],
      "metadata": {
        "id": "F8HAznlk_Bf4"
      },
      "id": "F8HAznlk_Bf4",
      "execution_count": 135,
      "outputs": []
    },
    {
      "cell_type": "code",
      "source": [
        "PandasTools.AddMoleculeColumnToFrame(df, smilesCol=0)"
      ],
      "metadata": {
        "id": "UAlqnU8F-ms5",
        "outputId": "8ad284a3-7eac-4070-c59d-a058b0dcd1fd",
        "colab": {
          "base_uri": "https://localhost:8080/"
        }
      },
      "id": "UAlqnU8F-ms5",
      "execution_count": 136,
      "outputs": [
        {
          "output_type": "stream",
          "name": "stderr",
          "text": [
            "[13:20:12] Explicit valence for atom # 2 N, 4, is greater than permitted\n",
            "[13:20:12] Explicit valence for atom # 1 C, 5, is greater than permitted\n",
            "[13:20:12] Explicit valence for atom # 1 O, 3, is greater than permitted\n",
            "[13:20:12] Explicit valence for atom # 7 N, 4, is greater than permitted\n",
            "[13:20:12] Explicit valence for atom # 4 C, 5, is greater than permitted\n",
            "[13:20:12] Explicit valence for atom # 1 F, 3, is greater than permitted\n",
            "[13:20:12] Explicit valence for atom # 1 C, 5, is greater than permitted\n",
            "[13:20:13] Explicit valence for atom # 0 N, 5, is greater than permitted\n",
            "[13:20:14] Explicit valence for atom # 5 H, 2, is greater than permitted\n",
            "[13:20:16] Explicit valence for atom # 1 N, 5, is greater than permitted\n",
            "[13:20:17] Explicit valence for atom # 13 N, 5, is greater than permitted\n",
            "[13:20:19] Explicit valence for atom # 2 N, 5, is greater than permitted\n",
            "[13:20:19] Explicit valence for atom # 0 N, 5, is greater than permitted\n"
          ]
        }
      ]
    },
    {
      "cell_type": "code",
      "source": [
        "df = df.dropna(how='any')"
      ],
      "metadata": {
        "id": "HrgoJREMB4kX"
      },
      "id": "HrgoJREMB4kX",
      "execution_count": 137,
      "outputs": []
    },
    {
      "cell_type": "code",
      "source": [
        "morgan_fingerprints = [np.array(AllChem.GetMorganFingerprintAsBitVect(mol, 2, 2048)) for mol in df['ROMol']]\n",
        "# Convert the list of fingerprints into a NumPy array\n",
        "morgan_fingerprints_array = np.vstack(morgan_fingerprints)"
      ],
      "metadata": {
        "id": "vDbqgLoO_arL"
      },
      "id": "vDbqgLoO_arL",
      "execution_count": 138,
      "outputs": []
    },
    {
      "cell_type": "code",
      "source": [
        "morgan_fingerprints_array.shape"
      ],
      "metadata": {
        "id": "aLJZZDdhCvRP",
        "outputId": "f3096e2d-46b2-44d5-a007-9e5f0bb4ce97",
        "colab": {
          "base_uri": "https://localhost:8080/"
        }
      },
      "id": "aLJZZDdhCvRP",
      "execution_count": 139,
      "outputs": [
        {
          "output_type": "execute_result",
          "data": {
            "text/plain": [
              "(45757, 2048)"
            ]
          },
          "metadata": {},
          "execution_count": 139
        }
      ]
    },
    {
      "cell_type": "code",
      "source": [
        "# Make predictions\n",
        "predictions = model.predict(morgan_fingerprints_array)\n",
        "\n",
        "# Convert probabilities to class labels\n",
        "predicted_labels = (predictions > 0.5).astype('int32')"
      ],
      "metadata": {
        "id": "DXEx-gFSA0gp",
        "outputId": "b1c14cec-e5d9-4d80-d99a-88b40af3468c",
        "colab": {
          "base_uri": "https://localhost:8080/"
        }
      },
      "id": "DXEx-gFSA0gp",
      "execution_count": 140,
      "outputs": [
        {
          "output_type": "stream",
          "name": "stdout",
          "text": [
            "1430/1430 [==============================] - 4s 3ms/step\n"
          ]
        }
      ]
    },
    {
      "cell_type": "code",
      "source": [
        "df['label'] = predicted_labels"
      ],
      "metadata": {
        "id": "mf2B5JKpCe6u"
      },
      "id": "mf2B5JKpCe6u",
      "execution_count": 141,
      "outputs": []
    },
    {
      "cell_type": "code",
      "source": [
        "# model is very bad :(\n",
        "df[df['label'] == 1]"
      ],
      "metadata": {
        "id": "ESRqU6WYCijI",
        "outputId": "34a5845a-3724-4309-e1de-4d84484fedde",
        "colab": {
          "base_uri": "https://localhost:8080/",
          "height": 1000
        }
      },
      "id": "ESRqU6WYCijI",
      "execution_count": 144,
      "outputs": [
        {
          "output_type": "execute_result",
          "data": {
            "text/plain": [
              "                                                       0  \\\n",
              "0                                           C1(=S)SC=CS1   \n",
              "1                                         O1C2OOC(C1)CC2   \n",
              "4                                         P1(=O)(CCN1C)N   \n",
              "5                                           C1CCCN(CC1)N   \n",
              "6                                         O1P(=O)(CCC1)C   \n",
              "...                                                  ...   \n",
              "45758  N1C(=O)C2C[S+](C3=C(CC(C(=O)NCC(=O)NCC(=O)NCC(...   \n",
              "45761  N1C(=O)C2NC(=O)CNC(=O)CNC(=O)CCSSCCNC(=O)CNC(=...   \n",
              "45765  C1(=O)N2C(C(=O)N3C(C(=O)NCC(=O)N(CCCCCCCCCC=CC...   \n",
              "45766  O=C1NCC(=O)NCC(=O)NCC(=O)N(CC(=O)N(CC(=O)NCC(=...   \n",
              "45769  C12CC3CCOC3CC14C5C6=C(C=CC=C6C(=O)OC7COC8COC(=...   \n",
              "\n",
              "                                                  ROMol  label  \n",
              "0      <rdkit.Chem.rdchem.Mol object at 0x7dd3d41c4270>      1  \n",
              "1      <rdkit.Chem.rdchem.Mol object at 0x7dd3d41c42e0>      1  \n",
              "4      <rdkit.Chem.rdchem.Mol object at 0x7dd3d41c4430>      1  \n",
              "5      <rdkit.Chem.rdchem.Mol object at 0x7dd3d41c44a0>      1  \n",
              "6      <rdkit.Chem.rdchem.Mol object at 0x7dd3d41c4510>      1  \n",
              "...                                                 ...    ...  \n",
              "45758  <rdkit.Chem.rdchem.Mol object at 0x7dd3c8789150>      1  \n",
              "45761  <rdkit.Chem.rdchem.Mol object at 0x7dd3c87892a0>      1  \n",
              "45765  <rdkit.Chem.rdchem.Mol object at 0x7dd3c8789460>      1  \n",
              "45766  <rdkit.Chem.rdchem.Mol object at 0x7dd3c87894d0>      1  \n",
              "45769  <rdkit.Chem.rdchem.Mol object at 0x7dd3c8789620>      1  \n",
              "\n",
              "[18069 rows x 3 columns]"
            ],
            "text/html": [
              "\n",
              "  <div id=\"df-7c939092-f377-428e-8b9e-5ecddbd81739\" class=\"colab-df-container\">\n",
              "    <div>\n",
              "<style scoped>\n",
              "    .dataframe tbody tr th:only-of-type {\n",
              "        vertical-align: middle;\n",
              "    }\n",
              "\n",
              "    .dataframe tbody tr th {\n",
              "        vertical-align: top;\n",
              "    }\n",
              "\n",
              "    .dataframe thead th {\n",
              "        text-align: right;\n",
              "    }\n",
              "</style>\n",
              "<table border=\"1\" class=\"dataframe\">\n",
              "  <thead>\n",
              "    <tr style=\"text-align: right;\">\n",
              "      <th></th>\n",
              "      <th>0</th>\n",
              "      <th>ROMol</th>\n",
              "      <th>label</th>\n",
              "    </tr>\n",
              "  </thead>\n",
              "  <tbody>\n",
              "    <tr>\n",
              "      <th>0</th>\n",
              "      <td>C1(=S)SC=CS1</td>\n",
              "      <td style=\"text-align: center;\"><div style=\"width: 200px; height: 200px\" data-content=\"rdkit/molecule\"><img src=\"data:image/png;base64,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\" alt=\"Mol\"/></div></td>\n",
              "      <td>1</td>\n",
              "    </tr>\n",
              "    <tr>\n",
              "      <th>1</th>\n",
              "      <td>O1C2OOC(C1)CC2</td>\n",
              "      <td style=\"text-align: center;\"><div style=\"width: 200px; height: 200px\" data-content=\"rdkit/molecule\"><img src=\"data:image/png;base64,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\" alt=\"Mol\"/></div></td>\n",
              "      <td>1</td>\n",
              "    </tr>\n",
              "    <tr>\n",
              "      <th>4</th>\n",
              "      <td>P1(=O)(CCN1C)N</td>\n",
              "      <td style=\"text-align: center;\"><div style=\"width: 200px; height: 200px\" data-content=\"rdkit/molecule\"><img src=\"data:image/png;base64,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\" alt=\"Mol\"/></div></td>\n",
              "      <td>1</td>\n",
              "    </tr>\n",
              "    <tr>\n",
              "      <th>5</th>\n",
              "      <td>C1CCCN(CC1)N</td>\n",
              "      <td style=\"text-align: center;\"><div style=\"width: 200px; height: 200px\" data-content=\"rdkit/molecule\"><img src=\"data:image/png;base64,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\" alt=\"Mol\"/></div></td>\n",
              "      <td>1</td>\n",
              "    </tr>\n",
              "    <tr>\n",
              "      <th>6</th>\n",
              "      <td>O1P(=O)(CCC1)C</td>\n",
              "      <td style=\"text-align: center;\"><div style=\"width: 200px; height: 200px\" data-content=\"rdkit/molecule\"><img src=\"data:image/png;base64,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\" alt=\"Mol\"/></div></td>\n",
              "      <td>1</td>\n",
              "    </tr>\n",
              "    <tr>\n",
              "      <th>...</th>\n",
              "      <td>...</td>\n",
              "      <td>...</td>\n",
              "      <td>...</td>\n",
              "    </tr>\n",
              "    <tr>\n",
              "      <th>45758</th>\n",
              "      <td>N1C(=O)C2C[S+](C3=C(CC(C(=O)NCC(=O)NCC(=O)NCC(...</td>\n",
              "      <td style=\"text-align: center;\"><div style=\"width: 200px; height: 200px\" data-content=\"rdkit/molecule\"><img src=\"data:image/png;base64,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\" alt=\"Mol\"/></div></td>\n",
              "      <td>1</td>\n",
              "    </tr>\n",
              "    <tr>\n",
              "      <th>45761</th>\n",
              "      <td>N1C(=O)C2NC(=O)CNC(=O)CNC(=O)CCSSCCNC(=O)CNC(=...</td>\n",
              "      <td style=\"text-align: center;\"><div style=\"width: 200px; height: 200px\" data-content=\"rdkit/molecule\"><img src=\"data:image/png;base64,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\" alt=\"Mol\"/></div></td>\n",
              "      <td>1</td>\n",
              "    </tr>\n",
              "    <tr>\n",
              "      <th>45765</th>\n",
              "      <td>C1(=O)N2C(C(=O)N3C(C(=O)NCC(=O)N(CCCCCCCCCC=CC...</td>\n",
              "      <td style=\"text-align: center;\"><div style=\"width: 200px; height: 200px\" data-content=\"rdkit/molecule\"><img src=\"data:image/png;base64,iVBORw0KGgoAAAANSUhEUgAAAMgAAADICAIAAAAiOjnJAAAABmJLR0QA/wD/AP+gvaeTAAAgAElEQVR4nO2deVwTV9fHT0ISNtl3EASxCCguKC5VQCsihSiioLVqK9KiotKnFT++tvZB6wLWLVar0uWp2IpKrUtcSou4YG1FEVsRZBFQ2VQ2UYQQIOf948ZAFSErmeh8/+ATJjOHMzM/7r1z55x7GIgINDTKhqluB2heTWhh0agEWlg0KoEWFo1KoIVFoxJoYdGoBFpYNCqBFhaNSqCFRaMSaGHRqARaWDQqgRYWjUpgqduBTrhz505UVJSXl5ejo6OVlZW9vb2VlZWlpaW6/QIAaGpqKisrq6ioKC0traioKC8vLy0t/euvv6ZNm7Zt2zYOh6NuB6kCg2rRDSKRyMLCora29rntHA7H2tq6d+/e1tbWdnZ2NjY2dnZ2xsbGNjY2Xl5eqvCkoKDgxx9/ZLFY5eXlFRUV9+7dq6ioqKmp6XRnJpO5Z8+eDz/8UBWeaCKUExafzw8ODjY0NIyKiqqsrKysrCwvL6+srHxRagQWi7V3797Zs2cr1436+vphw4YVFRU9t53D4dja2vbu3bt37962trb29vZ2dnZpaWkJCQleXl5XrlxRrhuaC+WENWHChLNnz27btu0///lPx+0CgaDiGRK1/f777w8fPgwLC0tOTlauG+np6b6+vnp6eh9//LFEQLa2ttbW1i/uLBAIHB0dHzx4kJ6e7u3trVxPNBWkEtnZ2QwGw8DA4NGjR9Lsn56eDgBDhw5VuiebN28GgAULFki5f2xsLAAEBwcr3RMNhVpPhVu3bkXEiIgIIyMjafYfPnw4m83Ozs5++vSpcj3JzMwEAOlHb4sXL9bV1eXz+bdu3VKuJ5qKupXdzsOHD3V0dJhM5u3bt6U/ytPTEwAuXLigXGecnZ0B4J9//pH+kAULFgDAwoULleuJhkKhFmvXrl0CgWDKlCnkpkrJqFGjAODy5ctK9KS2VqClNaRXLyN3d3fpj/rkk0+YTObevXsfPHigRGc0FKoISygU7tmzBwCeG7N3y8iRIwEgIyNDic5cu6ZTUHDY07OWxZJhns/FxYXL5QoEAnIirzlUEdaBAwfu37/v4eHh6+sr04Gkxfrrr7+U6AyZNBg6VOaLs2zZMgD4+uuvm5qalOiPJkIVYe3cuROe3RiZeOONN8zNzSsrK+/du6csZzIzAQDkmHb18fEZNWpUVVXVvn37lOWMpqLuQR4i4vnz5wHA0tKyqalJjsMDAwMB4NChQ8ryx84OATA/X55jDx06BAAuLi5tbW3K8kcToUSLxePxACAqKkpHR0eOw5U7zKqqgooKMDKCfv3kOXz69OnOzs4FBQUnT55Uij+airqVjenp6Uwmk81mV1ZWymfht99+A4A333xTQU8ePMCkJETE2lo8cAALCuS08+mnnwJA3759FfRHo1F/i9XS0tKrVy8AKCgokM/CyJEjmUxmVlaWUChUxJM7dyAiAvh8MDGBBw9AvueBoqKi/fv3MxgMOzs7RZzRdNQvrNGjR3t7e7e0tEyaNOnIkSNyWDAyMnJxcREIBFlZWQo6M3MmxMWB3NP42dnZvr6+d+/eHTp06DfffKOgMxqN+oWlq6t7/PjxqKgogUAwY8aMr7/+WlYLJ06cqKystLe3f+edd06fPq2IMwYGsHgxrFkjz7Hnzp3z9vYuLy9/6623zp075+rqqognGo+6++J21q1bx2AwXF3f/fzzVpFIqkNycnImTpxITsTY2Jh8mDx5cr6MT3TNzbhjB168iEuXokiEEydiVBTu3YubNmF1tVQWjhw5Qp48pk+fLt+z7SsGhYSFiImJyTY2rQA4bx4KhV3tWVeHq1ZtZLPZAGBqarpz587GxkYej0feXrPZ7Ojo6Lq6Omn+aGoqursjAC5YgEuXIiLm5KC+Pi5ahABobIzx8SgQdGVh586dTCYTAJYuXfqazzJIoJawEDE1FQ0MEAD9/LC+vpMd2towMRGtrHDkyGNMJnPu3LkPHz6UfFtdXR0dHa2lpUUEx+PxWlpaXva3bt3CgAAEQAB0d8effsIDB8RfffMNHjiAkyaJv+3fH0+c6NxIfHw8ADAYjNjYWPlP+5WDcsJCxIwMtLBAABwzBu/cEW988gQfPcI//kBPT/HN9vXFGzcKO7WQm5s7adIk0jO6urqePn36uR0ePXr0ySefeHlVA6CJCfJ4+DL5nTqFrq4IgM7OOQEBb9+8eVPyVWtra2RkJABoaWl98803ip/4qwQVhYWIRUXo6oo7diCTiZcuISLu349z5iCDgQDo4IDSTLPz+XxJoISfn19OTg4itrW1fffddyQ1w8UlZOFCrKrqxo5QiNu3o69vGACwWKyoqKjq6mqBQBAaGgoAenp6J0+eVPyUXzEoKixEbG7GoiL080Nvb2xpwf37cf16dHbGFSvwyRNpjQgEgri4OAMDAwDgcDgBAQFDhgwhUvPx8bl+/br0/lRXVy9ZsoTEOxgbG/fr1w8AzMzM/vzzT3lO71WHusJCxKIinDULt27FTZtw/37cvLmbEf3LqKqqmj59OhkJAYC2tnZiYqJIyifPf5OXl8flcgHAxsbGyspKpkjA1wr1z2N1y9KlcPQoVFQAALDZ8lgwNzf/4IMP4NmUhIODw3vvvUdEJiv9+/c/ceJEQEBAZWVlTEzMoEGD5HHoNUADhMViwcaNsHmzQkaIjAYOHKgUlxwcHADA0NBQKdZeSSgtLDYbSP7z2LEwYwY8mwGVBzLPJBKJAAAVzngjMlXczisMFVPsJdjbA48HX3wB+fkQFwcODvKb6tjx0cLqASjdYhF++QWSkuDRI4WMmLBYc9zcxpiZzXFzC1REoQDw7/aPplMo3WIRSFujYOswTCT68dYtMDGBW7dA4YB0usXqFg1osZhMAABFW4eO8qS7QtWjAcJSSoulXGHRXWG3aEBX2LfvQwAWAAegl/xWOs5a0S2W6tGAFuvuXW5Wlllbm2JrItBdYc+iAS2Wcu5i374QHw/GxjB1Kig8sUnFrvD2bcjMBCsr8PUVD0vVivo96Bbl3EU2G/78E86fhwsXQOHU1paWFqBUi3XwIHzyCTCZkJ4OwcGKN8lKQF0vKaVn9OjRABAcHNwxoE9mwsPx1Cnx5/nzkc+Xz4xIJEpMTNTX1weATZs2ye/PM+rr6ysqKhS1MnBge8hHZCSmpChqUGGoLqyysjKSHAYApqam27dvF8oX4eDujpKgYT4fY2LksJGRkTFixAjiDIPBsLGxITFe8iEUCnk8no2NDYvFCg8Pf/DggTxW6uqwsRGHDGnfsmsXbt8ut1fKgrrCampqWr9+PWkbmEymZA00Nze3rN9/l9lcR2GdOCGzsCort3z0ERnt2dracrlc8pnD4cTExEi5/mBHjh8/3u9ZqjXp601MTHg8ngz/NoWFGBaGbm7Y3Iyuru3b16zBn36S1R+lQ1Fh8fn8vn37kutOYus4HE5YWJirq2svDkfo6Ih+fnjjhgwW338fJXJctAiPHZP2QKEQeTw0NKzx9ORwOEFBQSS0gcFg9OvXj2jC0tLyhx+OtbZKZS8vr1ESNj1w4MC0tLS8vLygoCCyxcXFJTk5uRsTjx/jihWorY0AaGSEyckYEYE//ICIWFqKQ4diTY20Z6cyKCes/Px8ssgHALi6uqakpFRWVkZEREhu4YnwcDQ2RgBks3HpUmkvYnk5+vvj++/j5MkYHY1SRvmdPIkuLuIY+7fe2j59OnFsyJAhZA3BrKwssu7SyJEVbm74Qmz9v3jyBGNjUVsbR4yYbGJiEh8f39zcLPk2NTVVEtUzYcKEG53924hEoqxDh9DGBgGQycQpU3DYMDQ0xJIS/OwzDA7Gd99FasQeUkhYdXV1K1asIGvwk36hY4INuYXu5uYiQ0N0ccGgIGSxEABNTWVYZaG2Fjvcy274/vv2HJ2ZM5HDETo49LG25vF4rf9unY4ePe/kJN536lQsLMSmJmxsFH/75Am2tOC336KlJQKglhYuX15a1VmkvVAoTEhIsLCwIO10ZGRkx4FXZmbmmDFjWExmg7s7Dh6MEyeKUwD69MErV6Q9qZ6CEsJqa2tLTEy0srIiA47nMro6UnH8OEru4YQJOG4cjhqFt2/jzJkYHIxTpih6ib/8Ev39MSQEQ0OxpATd3TEkBM3NEQBZLFyyRFhb2+lxTU0YFydOXONwcO5cHDRInPkTFISBgWKXfXyw2zj7mpqajv9g8fHxd+/eDQ8PJ222jY3NurlzsVcvBEA9PVy9ul3CVEL9wrpy5QpZlQ8AfH19//77724O6HgPdXQwNxdHjULydFZZiYMHy5Br8Rxnz+KMGeJe8tgxDA/HX36R9IOYnd2tgaoqjI5GW1tctQonT0YyHREUhN9+i3Z2mJgobQ+MiDdv3vT39+84ytTW1g4NDXV0dASAkjffRC4XS0rkPFPVo2ZhTZs2jTxeOTg4yLZyGrmH8+ZhWRn6+bVvX7QIz56V05tVq/Dnn9t/dXdHkQjfeQcPH5bJTH09rl2LR4/i2LF45w4GBWFlpZzNSmpq6oABAyQjTvJh8ODBl5S9SrTSUecrnYaGhmvXrjGZzJiYmFWrVknmq6TC3By2bweRCIqKQFe3fbueHjQ2yumQSPSvlyEiETAYcOCArGbIGyMtLfjyS5CsfdnRR+nx8/O7fv36oEGD8vLy8vLyzMzM1q5dGxkZSVK9qYw6X+kwmcy7d+9qa2vHx8fLpqoOJqBPHyguhuZm8ZaMDJA7c2bUKEhLE3++fBkUzrwYPRpMTODaNYWMsNlssvCJt7d3QUHBokWLqK8qUO9LaOW8XeZwYOVKmDIFJk2CP/+EwECwt5fTFJcLJ09CaCjY2MCNG/DDD3I7pasrzlSLi4PUVEVfCpMLFRoaampqqpChHkSdwlJajMDs2eDvD3l5MGMG9O4tvx0GAxISoL4e6usVytwAGDYMyPyuuTl8/TUo2MRoYpSOOrtCZV4vCwvw9lZIVRKMjBRUFQAcPw6FheLPP/0E9+8rZE0ThaXerlDL21sDxqFqx9Aw1s1tPYfTom5HZEDNwrp4MUGWqiKaRGws7NwJ8KwcgSI8fWqsjNyiHkW9wgJQQpwwRVmzBiZMAACYNUtRU5p4odQ7xgLQtOulFjTxQtHCUgljx7ZPevj7g4KzBJp4odRcE1oTL1nPk5IC589DQACMG6duV6RG9harrQ2OHAEeD86fV+QPFxbCpk2ACIiQlga5uXD6NOTkiL89dAhKSxUx/+owbBjk5EB8PIweDWPGqNsbqZFdWNOmQUkJeHrCwYOwerXcf7ikBOLjgRSfv3QJCgvh0iUoLhZ/+/vvQJcpJbBYkJKieGJRTyOjsK5eBV1dWLYMfHxg1y5ITgYFytfMmwdbt8Ljx3IbeC1gMGD9epCx7mznnDx50sLCwsDAYOPGjSSDTXXIKKziYnBxeXYoExwdobwcSkra3wHLgr4+xMTA55+3b9mwAUJCICSk/V3w64xIBE+eAACMGAHm5nDqFABAXR20tclsKj8//+233548eXJ1dXVDQ8P//d//DRo06Ndff1Wyxx2QUVjW1lBZ2f5rZSWYmcHUqfDGG7Bvn5SD8PJyWLpULMXQULh9G3JzxV99+ikcPQpHj4pngF5nMjNh7FhYtEj8a1wcbNwIAPD+++DhASkp0tp5+vTp6tWrBw8enJKSYmxsHBcXd/z48QEDBuTl5QUGBk6cODE7O1slJyBb+JZQiCNG4MWL2NyM//sfzpqFhw+LC4YA4LhxXQfeNjXh+vWor48AOGcOfv45ImJBAerq4rFj+Omn7Wmk8+fj1asyB5e9GpSX49y54nB2e3scPly8/dtvccQIdHQUX+xp0/D27a7skNzajgHfkgh6Elxvbm4Oz4LrFUoG7gzZI0gfPMCYGAwLw/h4fPgQrazQ2Lg9MJzJPPPZZ/fv33/xOD4f+/YVXxQuFy9cwPR08VdHj2JBAZ4/j4XPCk2cPInylsXUYAQCwa5dmSScXUcHV63ChgZ8/Fj8rUiEjx+L/znJPtraGB+fVt9ZZZirV6+SDHIAGDFixOXLl1/cp6amJjo6msQ9v5g1pCCKhSbfu9debuaNN/Ddd5vc3HRYLH19/djYWEkRLNLBe3ndB0BXVyrkf1OR1NRUNzc3Y2MTM7OHXC4WFXW1c0UFRkaitfV9AwNDMzOzjolDFRUVkZGRJCTJzs6u2xXtZc5qlA5lxLxLys0AbAoNHT9+PPGyb9+++/bt++ijj0iNrsGDQ7/++qUla15nbt26JUlhHTBgwPnz3WdtELKyCry9vcmBgwcPPn36NI/HI4uEczic6Ojox5Lmrjs6Btf7+fn98ccf8p6NGCUlUwiFyOPde+st0mdPmTLF3d0dngUSaWlpkfozyvlbrxbl5eXa2tqkM/rqq6+6qFX2MpKTk0nqjmRl6GnTphUXF8tqRygUbt26ldRYYLFYChbdUGaWTm1trSQhrlevXiTQSqqMrtebDz74oOPIWg6ampo2bNjg6upqZWV15swZRZypqqoi1awjIiIUsaP89C9JtRl47Su5S4l8VX1Ux7JlywBg8+bNihhRfnQDqTYTFxcHAH369FG6/VcP+ar6qA6lREKrKmyGJDcr6ByNWqC0sDQx/p+GQAuLRiVQWlhUXFeYRjooLSy6xdJclNIo0MKieR66xaJRCbSwaFQCLSwalUALi0Yl0MKiUQklJSUAcOrUqTY5ouufoSphVVRUsNnsGzdu7Nu3j5aXZjFhwgQGg3H16lUPD48U6aPrn0ORN9hd0NbWNu5Z3u6bb76ZkZGhoj9Eowo2btxIYrwAICQk5HbX0fWdocJVk9va2r7//nsbGxsAYDAY7733fllZW/eH0VCD5uZmSTwqm82Ojo6WqWSQypfjbmhoiI2N1dXVHTt2np4erlgh/zLsND1PVVVVdHQ0idl8Lri+a3ponfeSkpL58++TrAsHB0xKwuZmvHdP/O3jx1hfL/5JqK3FhoaecY2me65du+bj40N6Rjc3t19//bXbQ3q0gEB6Og4b1p4Wp6UlTh784Qf86itMSMCdO8V7rl4t66r9NCqnY0k2Lpfb9cCrR9fH8vaGq1chORkcHCAoCCZMgJgYeRLGadTC5MmTc3JyNmzY0KtXr5MnT/bv33/Lli0v21k962M1NcG9e7BhAwwYANraYGQET56AtjYcOAAeHgAAV67A8uXwrIobDbWorq5evHjx4cOHzczMHj582Ok+6lnRT1L/4+OP4eDB9hWL/Pxg+XJYvlyTFoJ6DTE3N1+7dq1IJDIxMXnZPmquYs9mQ1wcbN0q/tXYGOztwd5eXI6GhrJ0+2ZFbasms9lgYQEAMG4cTJsGRkagpQWSNZsMDOSsakTTM3QbDKjmNUhjY+H2bdi0CWxt1egFjcwUFxc7Ozv37du3qKio0x3U3BUmJ0NSEr2on+bRbVeoZmHRqyZrKLSwaFQC1YVFCvnRSWIaB3WfCgnOzg85HBaDoQOgp15PaGSC6i1WScnErCyztrbb6nWDRlaoLiw6gllD6XYeS+1jLDoTXyPRjBbryy+/fPTokXo9oZGJhoYGAGh+eeEIdQqrtLQ0Ly8PAA4ePOji4rJnzx5F0kJoeowzZ85wuVwmk0lWT+0c1caGvYSmpqa1a9fq6+sDgJaW1rBhw4gzHh4e2efOqcUlGmnIy8t7++23yc1ydHT8+eefX7anGoTVMRCRBFPr6OiEhoY6OTmZ6uq22Nmhnx/m5PS8YzRdQHIXSBNlbGzcbbUBmYU1a9YsXV1dV1fX2NjY/Px8mY7Ny8sLCAggknJzc/vtt9/Kysrmzp1LRlrW1ta/zZ+PhoYIgBwOLluGsqSF0KgIUjrF2toaXiid0gWyCSstLY3JZHZcjNXT03PdunU53TUwdXV1kpW6TU1Nn0v2yMzM9Pb2HmZtjfr66OGBQUHIZCIAWlhgSYlMHtIoF2lKp3SKDMKqra11cHAAgE8//ZTP58+dO9fIyEiiMCcnp+jo6IsXLz63uHRbW1tiYqKlpaVE753WAxKJRJW//IIODuJcC39/9PHBceMwPx/DwnDKFJw6FbOypPeWRkE6lk6xtbXttnTKc8ggrBkzZgDA2LFjJY2NQCBITU2Njo4m7STB3t4+MjKSz+e3tLRkZGSMHDmSbB83blz3xQ4aG/GLL8T1wfT0MC8Phw9H0uGWluKgQdjYKL3DNHIzZ84cAwMDMvxdtWpVg+y5eNIKa/fu3WTUVtJZ39Ta2pqWlrZkyRJS1IBgaGhIOs0+ffp08fjQCeXlGBmJCxbg7dvI5bZvDw/HP/+UwQ6NXOzbt4/cQS6XW9R1saiXI5WwcnNz9fT0ACApKanbnW/evBkbG+vi4qKnp2dgYLBixYon8uU+t7XhjRsYFta+ZfFiTE2VxxSNLGzduhUAvLy8FDHSvbAEAsHQoUMBIDw8XHq71dXVAGBmZqaAb4hPn6KHR3vFsJEjX8cqhj3Ojz/+CABz5sxRxEj3YTMrV668fv26s7Pz9u3bu91ZgnJeAurpwX/+A5Mng78/pKdDWBh0GMzRqAilRAZ0I6zff/+dx+OxWKz9+/eT0ZyUKO3t8vz5wOVCfj7MnElnXPQMKhdWVVXVvHnzEHHdunWSh7uedE6MpSVYWirBDo10qFZYiBgREVFZWenj4xMTEyOrXS0tbW/vHzkcNUdP0MiBUnqblwrrww8/PHHihJmZWVJSEnmjJxMMhvbFi3P06HhjDUS1i9vm5OQAQGBgYMepKRns0lkSGotqhTVkyBAA4PP5xcXF8tilhaWxqFZYu3fvnjVrVn19/cyZM4VCocx2aWFpLCpf533Xrl1OTk6ZmZmfffaZzHZpYWksKheWsbHxoUOHOBzOli1b+Hy+9EYLC2HLFkCEtjZIS4PcXEU8pOlpeqIyhZeX19q1axHxgw8+KC8vl9LonTsQFwc//wwAcOkSFBYq4iFNT9NDJU+WL1/O5XKrqqreffdd6ZMd5s2DLVuUs4xMSkrKggULEhMTlWCLpjsqKys3b96spaUl30NbO9K8UHz48KGtrS0ArFmzpus9Kypw1y48dQpXrcLkZIyOxjVr8Ngx+d5jiuNO2Ww2i8UCgAkTJty4cUNOWzTdIRAI4uPje/XqBQBsNvvIkSOKWJM2Huv8+fNaWlpMJjMtLe3Fb6uqMDERuVxksRAAv/gCV61CRAwMxJkzMTkZIyOxsFAGt9ra2hISEiwsLABAS0vL3d2dLHfJYrGWLl1aU1Mjgy0aKUhNTXVzcyNtTbdLbUuDDBGkq1atAgA7O7uqqiqy5d69e9u2bZs7978kQh0AdXRw6lTk8cTCys9HHR2cO1ecHhETI1V6RMe4U19fXxJ3Wl1dHRUVRZoub++pX32FQqEc50vzPAUFBUFBQeRq9+/fX5riANIgg7BaW1vHjx8PAGPGjNm6deuYMWPIKE9PT8/UtIHLxcREcWmJkhJMTxcfdfQoXrqEERHt6RF79mBra+dFdcrLyyVJO717934xzjo7O9vff1L//tcB0M0NlXQRXlNkzeiSCdmydO7du2dkZEReUgKAvr5+WFjYoUOHGhoE3R6blYW+vgiAQ4fWuLq6nj59uuO3pCQQiczR1dXtOu40NRUHDBC3kX5+eOgQrlsn/io5GQsKMCmpvefdvRs7y954rSEZXVZWViBLRpdMyJxXuGPHjiFDhsycOfPw4cNPnz6V9fDDh9HXdyHRZXBwcGFhIb5QS6PTsPrnEAoxIQHNzREAFy5ECwvk8xERP/4YL1zAqCi8eFG8Z0iIbMO7V56zZ8/Kl9ElE2rIhCZPH6RxYrPZZmZm5CQHDRp0Tsb8+qoqXLcODx7E2FgcORIbGtqFlZaGjY3Y2IjBwbSw2uHz+WSc2rt37wMHDsiU0SUTaluOu6amZtiwYXfv3mUwGIgYFhaWlJREzllWkpOhtBQsLeHmTWhpgalT4dAhKCwUryN/8SKcPQv9+klr7fTp03v37g0MDJw3b54czlCct95669y5c56enunp6WTtDBWhtkA8MzMz8nxLfo4fP14+VUmYMweuX4fbz9YG/O9/Yf9+2L8fhg+XzU5hYeHPP//8999/K+IMZRkwYAAAhIeHq1RVoN5ljMjTHxldKd5wMhiwbRvIXcL4Oa/U1ZCrmh47O3UubktOkvxUJBB20CBwdIS6OjA3h6QkcHKCsDB49jAAERHiPlFKXu1FBl8jYREUOVVXV2huBh0d0NYGgQAAwN6+/dtnk3+yeUW3WAqiTmHFODkt9vVFE5NFvr62lAmP19fvN3p0mKnpUHU7ohJeC2GNu3sXLlyAyZPhwgUICVHElBIrXDQ1Tfrrr0lDhijBFAXpMWGpNT2LyEEZolCisF7tKiw9NoKkgLAItLB6hNeiK1SqsESeniuZTAZAvFKcooWlIK+MsCAr60smk0kLq2teD2Ft3gzvvgs1NbBwIXh6KmJJWdfr+HFwd4faWtDWhsREeP99Be1Rjtdj8L5zJ/z6KyDCzp1w6pQillpaWkAZ1yspCZYsAR0d0NODHTsUNEYhiouL33nnnbKystegxcrLg1u34NdfAQDCw2HoUHjvPZDrdeGZM2c++ugj8hkRO867ysGMGbBuHaxfr4gNCvH06dMNGzZs3bpVIBDo6upmZ2cDwMsKOSsR9bVYOTnwrCAFaGuDoyPcuyerjfz8/MDAwIkTJ+bm5nI4HAaDweVyFUwvmTULMjLg1i1FbFCFEydODBgwYMOGDc3NzYGBgTdv3rx27RqDwfDx8VH531ZROE73pKbikiXtv44ejTKlSNTXP/7vf/V0dADA2Nh49uzZes/m7nV0dFauXCnrwqeXLuH//oczZuCdO5idjUFBOGwYnj2Lu3ZhhxXpNYasrKyxY8eSCzJo0KCAgADSkNvb22/YsKEHHFCfsBoacMgQLC1FRLx0CSdMkPZAkQgTE9HaGgF+8vHx9/cnoSAAMHbs2BkzZpA5QPaMpWsAAAUZSURBVBsbm4SEhFYpRFFejnPnIoOBuroYFIR37iAiLluGNjbo4YEA6OqKp07JfZ49TU1NTXR0NFl5ytzcPCQkxNDQEAA4HE50dPTjx497xg31CQsR//kHw8IwOBgjIqRdtfavv9DLSxzu7uUl5HIdjY0BwMnJSZIHl5mZKfln9fT0vHDhwsuMCYXI46GBAQKgri6uWIHff491dYiIjx/junXI56Ozc3tw/c2bSjhp1dHS0pKQkGBubg4AbDY7JCSkf//+5DoosrC2fKhVWFLy5AlmZGBxMYpEOHAgAqCdHU6fjnp6CPCPn9+6deuampqeO4jP5zs6OnZxWY8dO+brG8hmCwEwNPSlpVWI+IyMEAB9fL6LjIyUZL9RiqKiInd3d3K+vr6+48aNI5+VmNElE5QXVno6+vjghg04fz6Gh2NaGk6bJq6MwmDgrFnizrQzGhsbJcH1pCOor69HxNzcXH9/f3Ld33nn27Nnu/fi/n2MiXnEYnFI/7J7925pOtmepLm52cXFpW/fvmFhYSrK6JIJygtr5EisqBB/njcPz5zBadNIEll77mKXlJaWzpkzhwxdrayshg8fzmazAcDU1HTnzp0tkkXkpeD69esksxIAPDw8+CQxiDLs2LFDUgJywYIF6m1ZqS2s1lZ0d2//9dtvcfNmLC7GhARs6zzl9WVcvXqVDLx69erVRa0oaeDz+U5OTiS/SD4LKsLe3p7BYLi6umZkZKjbF/Vl6UiLm1v7nBKPB7q6sGCBfJYQceXKlXV1dQsXLiS1NuSmrq7O1NSUw+F0URS55/H09Lx+/frly5dlXTtdFaj1XaE0DB0Kp09DYCA8fQrJybB/v9yWGAxGfLyir6gJZM5MwSl+pUPSnCR56uqF8sLasQNiYuCbb6C1FVauBCcndTsEQNW4eEp5RXlhmZnBDz+o24nnodQtlEApryjRbGoclLqFEijlFS0seaBm7iGlvKKFJQ+UahskUMorWljyQKlbKIFSXtHCenWghfUqQKm7SKCUS7Sw5IRSd5FAKZdoYckJpe4igVIu0cKSE2U927e2tmZkZNy/f19xlxoaGgBAQBbcUTe0sOSEwWAwGAwS7Cu3katXrw4ePHjUqFFOTk7bt29vbW2Vz05DQ8Pq1auvXbsGAE+ePJHbH2XSw9EUrwzz5s0jXY+tre3evXvbZAzjKSsrmz17NrFA4sMAYODAgampqTLZaWtr++677ywtLQFAS0tr/PjxMh2uOmhhyc/Vq1fHjBlDNEGWi5XmKKFQ+OKK9nw+39nZmZjy8/O7KV10/ZUrV0aNGkWO8vHx+fvvvxU7IWVCC0shRCJRcnJyx+D64uLiLvbvKKDndiaCMzIyIm1Y18H15eXlkZGRZJxnZ2f3YgkPtUMLSwk8ffq00+D6jpDcWiIpV1fXlJSUTk1VV1dLkrdMTU15PN5zwdNEfySjq9sSHmqEFpbSKCsrk7QiHbMaSXE8DocDACYmJi9q5UVyc3MDAgIkKjz1LK3xuRpdXbeO6oUWlpJ5buAVEREhd8maX375RVIJZtSoUcOfrVg/cODATov7UQpaWMqn48CLPPf5+vrKN7KWDLzI7IaUDR4VoHwyhcbS2Ng4Z86cu3fvhoaGrly5UhFTZWVlS5cuZTAYe/bsITML1IcWFo1KoGfeaVQCLSwalUALi0Yl0MKiUQm0sGhUAi0sGpVAC4tGJdDColEJtLBoVAItLBqVQAuLRiXQwqJRCf8Pwa3Oh6Oh3aUAAAOfelRYdHJka2l0UEtMIHJka2l0IDIwMjMuMDMuMwAAeJyt031oW1UUAPCT+/K1pJ9JmqZtmrxmbXxJkyYxadOkbd6VTR3T1bXLiszBprK2SFH6h7NuDlxtihu6btSNWYdlG2zSruAnUjV5d4xZhVmd4mgH7r8VdazVif6hU3zvXBFEFJ0+uJwf5517372Hd1cKM1dAfYqBP0QdHeqg6nhaZwRJjYLezCMx8SgYYbsWb+F9P0YdLyDk7xfQ3v/XiB/UdvI7/t0KJhC1iX+94f/lRLfUqj8VaFEn/DH+85NaQScRICIR1K+A3iARvVE0msBkBvMqiZgtosUK1iIoKpZIUYlYUgqlZVBWDuU2sNnB7gBHBVQ4wVkJlS5wVZlJVTVU10CNG9y1UOsBjxe8Ioh1UOcD32qJ+OrF+gZo8IP/Non4JVEKQCAIwUZoDEEoDOEmiYQjYiQK0RjEbpdILC7GEyA2Q0kLmJKQbIXWFAhpSLdBWzskANoJpIwQksChVw8UhEQ8Fo2EQ5K/od5XJ3o9te6a6ipXpbPCYbeVl5WWFFktZpNRLxBDQAo1Bg1JkzHVakgLpL2tckm9CLrf7gR0HNoQZecKm7RLAT88+a1i+DmOtp6Ksicu70N3T9xQGmAC/dFzzyhbq/ejJ28OK7OJLHrwMX8h2cJrBlYn5PA2XtM61Czn3uQ13tOewpqdCfT6Lz6UP7jBXZ90U2tsM/rduU3UMNCMPrsvR9dN8fynpVlqXfha1pz4JEcPZqfRrp3Hqf3iNfTDmTw9uuEM+tGH8nRby2sZze8EF+kbu6oKms93LtLNkXFFc24qTy9Pf4Y+NJ+n1z8PMM1dwRM04liP3tp5grosObR7apSmAofRuQua30Lv39hDt6w7j/5O8dDdfTy/tDwv02d5fvAlWX7wNM87dmdU83Uy6V/yw+/z9e/86inl5FWeXzN2XakTRtH99iY2KR5BZ23Lyk/kXnR8vIm9mg6hBxZ2sOnHef7Y+A52Kc3nbjxzgK06y2vets2wvRcoesXCWLKrGD2/ZYZ9M/I69uGVqweYfXgRfXOol/VcO4ru/bKJre1fQB+f62WHz92N/RwKjrHl8gns80jnGFvZcwr7/7Fzmj2iW0Lf0dXHBn/kvv/FPpbaw/+xsZeFgv75e3AP3XNuOvrAFNYYDLPywSuTWOO/b0S+JOTR3UO+Dv0Ls+i93xvZxQz3kZN3sZZd76G92e2sJ8jnOn8FlX8dVAkwWkgAAAR1elRYdE1PTCByZGtpdCAyMDIzLjAzLjMAAHicfZdbbh03DIbfvYrZgAfiTZeHPsR2GhRFbKBNs4e+d//oT0mHMwEk2xnCZ/Af6hNFUszT4T9/vf35739H/PDb09NxpE/+tdaOn5JSevp++B/Hy9dvf7wfrz++vDzevH788/7j7yPTkRXfwe+v2i8/Pr4/3tDxejzzWUyL6CGnpGpUj3Sm/nN9lY+P45nOWrNByGcllqVQjvfuMSeCUOGxtKVQfWl4bCZdCI/rpW0IE5cyPJKVpTAPxsQiYzM7YXHGdFJmm0s3Wgorlk5nSZKz+cqsa12bOoQn+8Is661QckSsbNpmGNsakQiMdFopCS4h5LKONzHW5lM14Wh8baE1IwmEfsJtehTdLK2A1JOKpLEb2eQEGRg9zKIQ0iceM5aGx0q5C/ceC4R2JrUhrLrJMqpd2Eh81/CoebPrNoWVIUx7IaNwjnyWmhVCPyNttfJKSUPZesSRcHslj8UZh9iVKJ68VspQCvXV+ROljhDl4jn5LMilomulDWXhvrp+ohznw6kHCcqcidfKMpTEfuTP9omyjnTT6kf5nFFtltbKNjK4pvBZ1/H05obDzp5Gw2fhjZJGRWp9+ES41kqeSvVs971vlTLbBrqAjIACeS3tzS2drRavc/eKVF5LZ3urZlNKtWw21Rsceiu1h9dGG4De4tzrkIp73Wyrzjtg9FfPvUbrkxI/Kfgy1N302nTtVXung7QWmtvaSr3VQaBW7QHQ1sFSPyycJpqdDYCE01hLvaKQIgn3kPSSQnqvt6U6vaLluVe0ky1rPy2wZrMh3bPmESxchDSk+wiUebDC7eE1baTVg+VeR7ogHdumrrRN1iIuRe9LaX0VW3ooqweAXLnu5EZOat5GrStLyxufPEFJh0/UyuZ+lxkopOi4FLfKWVZoOSaj+e0q0Gxei+1x5ez2nntPUTXvFHq2Zhth6cIkfRhAr0YLXgvH1JCkL20IUVtfYtZG5aHafONQ1rpeO6cRIkoylBBulDRLNNmYvxpOf6n8+v72yyg4hsOXj/e3azhkf64RkPAr16CHD4de4xzhsWtoYzz5Gs0IH8s1gBGeeo1ZhKdd0xTjofvURP6CbsMRdRNs1OFgAg/jjn/ENHOba6i/CUgMMNRNcJKDuglUclY3QUuO6yaAMWSQG75PE+SGg5mdGYavePboMu7+2xRAbjiY2ZlhOJjZI+sGefv7t98ub04Ow0HOTg7DQc5ODsNBzk4OI/c7lo5+g97uUnIjsZY4OYxcydCzQXDx3a5AciNBLk4OIxFtcWZ/E8zizDASzOLMMBLM4vkBo/fLhvqbYFZnhtFgVmeG0WBWZ4bRK4d7EqNqglk9Q2A0mNHW2Y0GszqzvwlmdWYYDWb1OMPYveeyGwtmc2Z/E8zmzDAWzDbjbMFsOnLYrtKzXk4WyNarD60okM2RYSyQrY76DWJzYph8b0LkJgdx7sRAihcOnG9NIjsvfMfKWWdA4zveh+5dxz8//juLv5/+B3H1zNTXSNViAAACEnpUWHRTTUlMRVMgcmRraXQgMjAyMy4wMy4zAAB4nHWUS44bMQxEr5KlDdgCKVL8IJiV986F5vApUmojwCC9aeOBVfy2X29+7efr9Xnet9f9dfv6c3+992sWnD9/v/8bdRD/+r49afCMJevxlMFBGo/fzZSL6cVouCqZFTI3Oyi00LoQD2MzfzxtsM8AmUNh4B1jUUSGaJwYWwSiYyLfiUE1TSimd7JN1iCf1ISX6ybI6l33RVK4fOawJbbJ9FLxRWx4UjRhzdgkrFS0yWwZV3pCqca8jVgg4yYdQrqsQOiUWSVzcAORWLP7ZNGOwGv2KDRPBOWOoER184qAhwuAXB4lqWoLcKXlsdy3ZHqlxRIoAktAyJTSVB9LU7SCOP0Eidl6KIJ0+6guFKcjc2UDEkFxaBRjbQ1JQrOAPFOOs80FZy3n8sEYabpLOWMLFxGRKuhDIpdIq2aXOAejLSnriEpfSyRpAnDIosWlSpfcKjdqgiFdBF10LuqBVa7Aqrv33gt8jCsXCFZ2EUU9/CE61KOJEHXNqxa9inhaXjGSUkdBlHUUZUQLqAaTOOVjTowi68BS6+SqSpnZyDDd2GYY7UFZB46Miu03kiO0QehX6qDxPdCJQqdSV0/4aI7XajQ/XphdtlA+RQCFV136b129uxZy22MkK3MLw+1C3WRduMcRcm4E4fnLyPA6umL4JOJx//4LRwX1QJOnIccAAAAASUVORK5CYII=\" alt=\"Mol\"/></div></td>\n",
              "      <td>1</td>\n",
              "    </tr>\n",
              "    <tr>\n",
              "      <th>45766</th>\n",
              "      <td>O=C1NCC(=O)NCC(=O)NCC(=O)N(CC(=O)N(CC(=O)NCC(=...</td>\n",
              "      <td style=\"text-align: center;\"><div style=\"width: 200px; height: 200px\" data-content=\"rdkit/molecule\"><img src=\"data:image/png;base64,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\" alt=\"Mol\"/></div></td>\n",
              "      <td>1</td>\n",
              "    </tr>\n",
              "    <tr>\n",
              "      <th>45769</th>\n",
              "      <td>C12CC3CCOC3CC14C5C6=C(C=CC=C6C(=O)OC7COC8COC(=...</td>\n",
              "      <td style=\"text-align: center;\"><div style=\"width: 200px; height: 200px\" data-content=\"rdkit/molecule\"><img src=\"data:image/png;base64,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\" alt=\"Mol\"/></div></td>\n",
              "      <td>1</td>\n",
              "    </tr>\n",
              "  </tbody>\n",
              "</table>\n",
              "<p>18069 rows × 3 columns</p>\n",
              "</div>\n",
              "    <div class=\"colab-df-buttons\">\n",
              "\n",
              "  <div class=\"colab-df-container\">\n",
              "    <button class=\"colab-df-convert\" onclick=\"convertToInteractive('df-7c939092-f377-428e-8b9e-5ecddbd81739')\"\n",
              "            title=\"Convert this dataframe to an interactive table.\"\n",
              "            style=\"display:none;\">\n",
              "\n",
              "  <svg xmlns=\"http://www.w3.org/2000/svg\" height=\"24px\" viewBox=\"0 -960 960 960\">\n",
              "    <path d=\"M120-120v-720h720v720H120Zm60-500h600v-160H180v160Zm220 220h160v-160H400v160Zm0 220h160v-160H400v160ZM180-400h160v-160H180v160Zm440 0h160v-160H620v160ZM180-180h160v-160H180v160Zm440 0h160v-160H620v160Z\"/>\n",
              "  </svg>\n",
              "    </button>\n",
              "\n",
              "  <style>\n",
              "    .colab-df-container {\n",
              "      display:flex;\n",
              "      gap: 12px;\n",
              "    }\n",
              "\n",
              "    .colab-df-convert {\n",
              "      background-color: #E8F0FE;\n",
              "      border: none;\n",
              "      border-radius: 50%;\n",
              "      cursor: pointer;\n",
              "      display: none;\n",
              "      fill: #1967D2;\n",
              "      height: 32px;\n",
              "      padding: 0 0 0 0;\n",
              "      width: 32px;\n",
              "    }\n",
              "\n",
              "    .colab-df-convert:hover {\n",
              "      background-color: #E2EBFA;\n",
              "      box-shadow: 0px 1px 2px rgba(60, 64, 67, 0.3), 0px 1px 3px 1px rgba(60, 64, 67, 0.15);\n",
              "      fill: #174EA6;\n",
              "    }\n",
              "\n",
              "    .colab-df-buttons div {\n",
              "      margin-bottom: 4px;\n",
              "    }\n",
              "\n",
              "    [theme=dark] .colab-df-convert {\n",
              "      background-color: #3B4455;\n",
              "      fill: #D2E3FC;\n",
              "    }\n",
              "\n",
              "    [theme=dark] .colab-df-convert:hover {\n",
              "      background-color: #434B5C;\n",
              "      box-shadow: 0px 1px 3px 1px rgba(0, 0, 0, 0.15);\n",
              "      filter: drop-shadow(0px 1px 2px rgba(0, 0, 0, 0.3));\n",
              "      fill: #FFFFFF;\n",
              "    }\n",
              "  </style>\n",
              "\n",
              "    <script>\n",
              "      const buttonEl =\n",
              "        document.querySelector('#df-7c939092-f377-428e-8b9e-5ecddbd81739 button.colab-df-convert');\n",
              "      buttonEl.style.display =\n",
              "        google.colab.kernel.accessAllowed ? 'block' : 'none';\n",
              "\n",
              "      async function convertToInteractive(key) {\n",
              "        const element = document.querySelector('#df-7c939092-f377-428e-8b9e-5ecddbd81739');\n",
              "        const dataTable =\n",
              "          await google.colab.kernel.invokeFunction('convertToInteractive',\n",
              "                                                    [key], {});\n",
              "        if (!dataTable) return;\n",
              "\n",
              "        const docLinkHtml = 'Like what you see? Visit the ' +\n",
              "          '<a target=\"_blank\" href=https://colab.research.google.com/notebooks/data_table.ipynb>data table notebook</a>'\n",
              "          + ' to learn more about interactive tables.';\n",
              "        element.innerHTML = '';\n",
              "        dataTable['output_type'] = 'display_data';\n",
              "        await google.colab.output.renderOutput(dataTable, element);\n",
              "        const docLink = document.createElement('div');\n",
              "        docLink.innerHTML = docLinkHtml;\n",
              "        element.appendChild(docLink);\n",
              "      }\n",
              "    </script>\n",
              "  </div>\n",
              "\n",
              "\n",
              "<div id=\"df-fe99f671-4e49-4caf-90d9-637eddb126f2\">\n",
              "  <button class=\"colab-df-quickchart\" onclick=\"quickchart('df-fe99f671-4e49-4caf-90d9-637eddb126f2')\"\n",
              "            title=\"Suggest charts.\"\n",
              "            style=\"display:none;\">\n",
              "\n",
              "<svg xmlns=\"http://www.w3.org/2000/svg\" height=\"24px\"viewBox=\"0 0 24 24\"\n",
              "     width=\"24px\">\n",
              "    <g>\n",
              "        <path d=\"M19 3H5c-1.1 0-2 .9-2 2v14c0 1.1.9 2 2 2h14c1.1 0 2-.9 2-2V5c0-1.1-.9-2-2-2zM9 17H7v-7h2v7zm4 0h-2V7h2v10zm4 0h-2v-4h2v4z\"/>\n",
              "    </g>\n",
              "</svg>\n",
              "  </button>\n",
              "\n",
              "<style>\n",
              "  .colab-df-quickchart {\n",
              "      --bg-color: #E8F0FE;\n",
              "      --fill-color: #1967D2;\n",
              "      --hover-bg-color: #E2EBFA;\n",
              "      --hover-fill-color: #174EA6;\n",
              "      --disabled-fill-color: #AAA;\n",
              "      --disabled-bg-color: #DDD;\n",
              "  }\n",
              "\n",
              "  [theme=dark] .colab-df-quickchart {\n",
              "      --bg-color: #3B4455;\n",
              "      --fill-color: #D2E3FC;\n",
              "      --hover-bg-color: #434B5C;\n",
              "      --hover-fill-color: #FFFFFF;\n",
              "      --disabled-bg-color: #3B4455;\n",
              "      --disabled-fill-color: #666;\n",
              "  }\n",
              "\n",
              "  .colab-df-quickchart {\n",
              "    background-color: var(--bg-color);\n",
              "    border: none;\n",
              "    border-radius: 50%;\n",
              "    cursor: pointer;\n",
              "    display: none;\n",
              "    fill: var(--fill-color);\n",
              "    height: 32px;\n",
              "    padding: 0;\n",
              "    width: 32px;\n",
              "  }\n",
              "\n",
              "  .colab-df-quickchart:hover {\n",
              "    background-color: var(--hover-bg-color);\n",
              "    box-shadow: 0 1px 2px rgba(60, 64, 67, 0.3), 0 1px 3px 1px rgba(60, 64, 67, 0.15);\n",
              "    fill: var(--button-hover-fill-color);\n",
              "  }\n",
              "\n",
              "  .colab-df-quickchart-complete:disabled,\n",
              "  .colab-df-quickchart-complete:disabled:hover {\n",
              "    background-color: var(--disabled-bg-color);\n",
              "    fill: var(--disabled-fill-color);\n",
              "    box-shadow: none;\n",
              "  }\n",
              "\n",
              "  .colab-df-spinner {\n",
              "    border: 2px solid var(--fill-color);\n",
              "    border-color: transparent;\n",
              "    border-bottom-color: var(--fill-color);\n",
              "    animation:\n",
              "      spin 1s steps(1) infinite;\n",
              "  }\n",
              "\n",
              "  @keyframes spin {\n",
              "    0% {\n",
              "      border-color: transparent;\n",
              "      border-bottom-color: var(--fill-color);\n",
              "      border-left-color: var(--fill-color);\n",
              "    }\n",
              "    20% {\n",
              "      border-color: transparent;\n",
              "      border-left-color: var(--fill-color);\n",
              "      border-top-color: var(--fill-color);\n",
              "    }\n",
              "    30% {\n",
              "      border-color: transparent;\n",
              "      border-left-color: var(--fill-color);\n",
              "      border-top-color: var(--fill-color);\n",
              "      border-right-color: var(--fill-color);\n",
              "    }\n",
              "    40% {\n",
              "      border-color: transparent;\n",
              "      border-right-color: var(--fill-color);\n",
              "      border-top-color: var(--fill-color);\n",
              "    }\n",
              "    60% {\n",
              "      border-color: transparent;\n",
              "      border-right-color: var(--fill-color);\n",
              "    }\n",
              "    80% {\n",
              "      border-color: transparent;\n",
              "      border-right-color: var(--fill-color);\n",
              "      border-bottom-color: var(--fill-color);\n",
              "    }\n",
              "    90% {\n",
              "      border-color: transparent;\n",
              "      border-bottom-color: var(--fill-color);\n",
              "    }\n",
              "  }\n",
              "</style>\n",
              "\n",
              "  <script>\n",
              "    async function quickchart(key) {\n",
              "      const quickchartButtonEl =\n",
              "        document.querySelector('#' + key + ' button');\n",
              "      quickchartButtonEl.disabled = true;  // To prevent multiple clicks.\n",
              "      quickchartButtonEl.classList.add('colab-df-spinner');\n",
              "      try {\n",
              "        const charts = await google.colab.kernel.invokeFunction(\n",
              "            'suggestCharts', [key], {});\n",
              "      } catch (error) {\n",
              "        console.error('Error during call to suggestCharts:', error);\n",
              "      }\n",
              "      quickchartButtonEl.classList.remove('colab-df-spinner');\n",
              "      quickchartButtonEl.classList.add('colab-df-quickchart-complete');\n",
              "    }\n",
              "    (() => {\n",
              "      let quickchartButtonEl =\n",
              "        document.querySelector('#df-fe99f671-4e49-4caf-90d9-637eddb126f2 button');\n",
              "      quickchartButtonEl.style.display =\n",
              "        google.colab.kernel.accessAllowed ? 'block' : 'none';\n",
              "    })();\n",
              "  </script>\n",
              "</div>\n",
              "    </div>\n",
              "  </div>\n"
            ]
          },
          "metadata": {},
          "execution_count": 144
        }
      ]
    }
  ],
  "metadata": {
    "kernelspec": {
      "display_name": "Python 3 (ipykernel)",
      "language": "python",
      "name": "python3"
    },
    "language_info": {
      "codemirror_mode": {
        "name": "ipython",
        "version": 3
      },
      "file_extension": ".py",
      "mimetype": "text/x-python",
      "name": "python",
      "nbconvert_exporter": "python",
      "pygments_lexer": "ipython3",
      "version": "3.10.9"
    },
    "colab": {
      "provenance": []
    }
  },
  "nbformat": 4,
  "nbformat_minor": 5
}